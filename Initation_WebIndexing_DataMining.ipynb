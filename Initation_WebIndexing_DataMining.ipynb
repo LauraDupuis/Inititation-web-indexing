{
 "cells": [
  {
   "cell_type": "markdown",
   "metadata": {},
   "source": [
    "# Comment construire un moteur de recherche ?"
   ]
  },
  {
   "cell_type": "markdown",
   "metadata": {},
   "source": [
    "# Pré-requis : Importation"
   ]
  },
  {
   "cell_type": "code",
   "execution_count": 185,
   "metadata": {},
   "outputs": [
    {
     "name": "stdout",
     "output_type": "stream",
     "text": [
      "[nltk_data] Downloading package stopwords to /root/nltk_data...\n",
      "[nltk_data]   Package stopwords is already up-to-date!\n",
      "[nltk_data] Downloading package punkt to /root/nltk_data...\n",
      "[nltk_data]   Package punkt is already up-to-date!\n"
     ]
    }
   ],
   "source": [
    "import os\n",
    "import re\n",
    "\n",
    "\n",
    "#import pour stopwords\n",
    "from collections import Counter\n",
    "import nltk\n",
    "nltk.download(\"stopwords\")\n",
    "from nltk.corpus import stopwords\n",
    "stop=stopwords.words('english')\n",
    "\n",
    "#time\n",
    "from time import time\n",
    "\n",
    "#serialisation\n",
    "import pickle\n",
    "\n",
    "#affichage set\n",
    "import itertools\n",
    "\n",
    "#maths\n",
    "import math\n",
    "\n",
    "#operation matrice\n",
    "import operator\n",
    "\n",
    "#modele espace vectoriel\n",
    "import numpy as np\n",
    "from scipy.sparse import *\n",
    "from scipy import *\n",
    "\n",
    "#mapReduce\n",
    "from multiprocessing import Pool\n",
    "from functools import reduce\n",
    "\n",
    "# Stemming\n",
    "from nltk.stem import PorterStemmer\n",
    "from nltk.tokenize import sent_tokenize, word_tokenize\n",
    "nltk.download(\"punkt\")\n",
    "ps = PorterStemmer()\n",
    "\n",
    "# Lemmatization\n",
    "from nltk.corpus import wordnet as wn\n",
    "from nltk.stem import WordNetLemmatizer\n",
    "wnl = WordNetLemmatizer()"
   ]
  },
  {
   "cell_type": "markdown",
   "metadata": {},
   "source": [
    "# 1. INDEXATION"
   ]
  },
  {
   "cell_type": "markdown",
   "metadata": {},
   "source": [
    "### 1.a. Lire les données  : fonction createCorpus()\n",
    "retourne une liste de dictionnaires\n",
    "\n",
    "list ([auteur/article.txt]=texte, [auteur/article.txt]=texte, [auteur/article.txt]=texte, ... )"
   ]
  },
  {
   "cell_type": "code",
   "execution_count": 23,
   "metadata": {
    "collapsed": true
   },
   "outputs": [],
   "source": [
    "def createCorpus():\n",
    "    #création du corpus : Auteur, Article, Text\n",
    "    listAuthor = os.listdir(\"data\")\n",
    "    listText = {}\n",
    "    for author in listAuthor :\n",
    "        listArticle = os.listdir(\"data/\"+author)\n",
    "        for article in listArticle :\n",
    "            with open(\"data/\"+author+\"/\"+article,\"r\") as f :\n",
    "                listText[author+\"/\"+article] = f.read()\n",
    "    return listText "
   ]
  },
  {
   "cell_type": "code",
   "execution_count": 24,
   "metadata": {
    "scrolled": true
   },
   "outputs": [
    {
     "name": "stdout",
     "output_type": "stream",
     "text": [
      "Affichage du premier élement de la liste : \n",
      "\n",
      "nom de l'article :  LynneO'Donnell/204874newsML.txt \n",
      "\n",
      "texte :  Some Chinese traders are moving to take advantage of a sharp rally in world copper prices by selling the red metal back to the market, Far East metal industry sources said on Wednesday.\n",
      "A rise in copper stocks held in London Metal Exchange (LME) warehouses in Singapore was attributed in part by some trading sources to Chinese selling.\n",
      "\"With such high LME prices, I believe some (copper) will be brought out of China,\" a Singapore trader said.  \n",
      "He said stocks in Singapore rose 5,000 to 6,000 tonnes late last week -- after hovering at extremely low levels for the past couple of months -- as Chinese buyers sold material recently taken from LME warehouses elsewhere.\n",
      "Asian traders have said China is adding substantial tonnages -- up to 300,000 tonnes -- to its central stockpile, with a third of that amount now passing through customs in Shanghai.\n",
      "These reports have helped fuel a rally in three-month LME copper, which has climbed almost 20 percent in recent weeks on tight physical supply.  \n",
      "Three-month LME metal hit a five-month high of $2,232 a tonne on Tuesday, up from $1,900 at the end of October.\n",
      "Whether or not the copper now in China has completed customs formalities is not an issue, sources said.\n",
      "\"This is the government, they do what they like,\" said one.\n",
      "There was a feeling, however, that Chinese government departments, mired in bureaucratic red tape, would be unable to move fast enough to take advantage of rapid market movements.\n",
      "This would be the province of minor trading companies using hot money to buy small lots for speculative purposes.  \n",
      "At least one Asian trader reported small parcel offerings from Chinese companies wanting to pick up between $200-$300 a tonne in profit.\n",
      "Prices are at their highest since June 14 when Japan's Sumitomo Corp announced that one of its copper traders had wracked up losses in unauthorised deals now said by the company to be US$2.6 billion.\n",
      "Reports from Europe last week of a hidden hoard of 600,000 tonnes of copper in Rotterdam were shot down by Asian traders.  \n",
      "Tight global supply is now driving prices, with LME copper stocks below 100,000 tonnes for the first time since 1990 and representing less than a month's demand.\n",
      "Traders in the Far East, polled in recent days, told Reuters this fundamental shift in the world supply/demand picture should keep prices buoyed at least in the short term.\n",
      "\"It's a volatile market and it is impossible to know what is going to happen,\" a South American source said.\n",
      "\"Is it going to stay over $1/lb next year? Absolutely, I have no doubt about that. It won't be for a couple of days, I'm talking for maybe a quarter and I think it will then stay there.  \n",
      "\"Why? Consumption. Don't forget consumption. It is much more important than people think. The fundamentals really call for a higher price,\" he said.\n",
      "Shanghai and surrounding areas alone use upwards of 45,000 tonnes of copper a month, a European source in Hong Kong said.\n",
      "But physical copper on the Shanghai Metal Exchange has also been tight as traders there liquidate their positions on the rising LME prices.\n",
      "\"Prices have gone up so fast it is a little bit hard to digest,\" a trader in Shanghai said.\n",
      "\"It could be beneficial to export,\" she said.  \n",
      "\"On the other hand, anyone who wanted to buy could be afraid the price will start to go the other way. It's close to year-end, book-squaring time, so everyone will want to sit back and wait.\"\n",
      "($1=8.3 yuan)\n",
      "-- Hong Kong newsroom (852) 2843-6470\n",
      "\n"
     ]
    }
   ],
   "source": [
    "listText=createCorpus()\n",
    "listItems = list(listText.items())\n",
    "print(\"Affichage du premier élement de la liste : \\n\")\n",
    "print(\"nom de l'article : \", listItems[0][0],\"\\n\")\n",
    "print(\"texte : \", listItems[0][1])"
   ]
  },
  {
   "cell_type": "markdown",
   "metadata": {},
   "source": [
    "### 1.b. Création de l'index inversé : fonction createIndex()\n",
    "Création de l'index de base (non distribué, sans les stopwords)\n",
    "la fonction de création d'index appelle la fonction createCorpus\n",
    "\n",
    "retourne une liste de dictionnaires de dictionnaires : \n",
    "\n",
    "\n",
    "index ( mot : { titre : {nbMots, occurrence, position }, titre : { nbMots, occurrence, position }, ... },\n",
    "mot { titre: {nbMots, occurrence, position}, ... }, ... )"
   ]
  },
  {
   "cell_type": "code",
   "execution_count": 25,
   "metadata": {
    "collapsed": true
   },
   "outputs": [],
   "source": [
    "def createIndex():\n",
    "    listText=createCorpus()\n",
    "    #création du vocabulaire et de l'index en même temps\n",
    "    indexBis = {}\n",
    "    listItems = list(listText.items())\n",
    "    #parcourir tous les textes présents\n",
    "    for i in range(0,len(listText)): \n",
    "        #normalisation : récupération du texte sans les stopwords\n",
    "        text = re.findall(r'[a-z]+', listItems[i][1].lower())\n",
    "        text = [word for word in text if word not in stop]\n",
    "        size = len(text) #taille du texte\n",
    "        dicoPos = {} #dictionnaire temporaire pour cposition mot\n",
    "        dicoOcc = {} #dictionnaire temporaire pour occurence mot\n",
    "        #parcourir chaque mot du texte i\n",
    "        for j in range(0, len(text)) :\n",
    "            #si le mot n'est pas déjà présent dans l'index\n",
    "            if (text[j] not in dicoPos.keys()) :\n",
    "                dicoPos[text[j]] = [j]  #position du mot\n",
    "                dicoOcc[text[j]] = 1 #occurence égale à 1\n",
    "            else :\n",
    "                dicoPos[text[j]].append(j) #ajoute la nouvelle position du mot déjà présent\n",
    "                dicoOcc[text[j]] += 1 # + 1 à l'occurence du mot\n",
    "        doc = listItems[i][0]\n",
    "        #pour tous les mots du dicoTmp\n",
    "        for word in dicoPos.keys():\n",
    "            #si le mot n'est pas déjà dans l'index on ajoute liste vide\n",
    "            if word not in indexBis.keys():\n",
    "                indexBis[word] = []\n",
    "            #on ajoute pour le mot, les articles(=doc), la taille, les occurences et les positions de chaque texte\n",
    "            indexBis[word].append([doc, size, dicoOcc[word], dicoPos[word]])\n",
    "\n",
    "    #creation de l'index final    (index inversé)     \n",
    "    index={} \n",
    "    for word in indexBis.keys():\n",
    "        index[word]={}\n",
    "        for doc in indexBis[word]:\n",
    "            index[word][doc[0]]={}\n",
    "            index[word][doc[0]][\"nbMots\"]=doc[1]\n",
    "            index[word][doc[0]][\"occ\"]=doc[2]\n",
    "            index[word][doc[0]][\"pos\"]=doc[3]\n",
    "    return index"
   ]
  },
  {
   "cell_type": "markdown",
   "metadata": {},
   "source": [
    "Temps d'éxécution de la méthode"
   ]
  },
  {
   "cell_type": "code",
   "execution_count": 26,
   "metadata": {},
   "outputs": [
    {
     "name": "stdout",
     "output_type": "stream",
     "text": [
      "temps d'execution de createIndex() :  4.100175619125366\n"
     ]
    }
   ],
   "source": [
    "d = time()\n",
    "monIndex=createIndex()\n",
    "f = time()\n",
    "print(\"temps d\\'execution de createIndex() : \", f-d)\n"
   ]
  },
  {
   "cell_type": "markdown",
   "metadata": {},
   "source": [
    "Nombre de mots dans l'index"
   ]
  },
  {
   "cell_type": "code",
   "execution_count": 27,
   "metadata": {
    "scrolled": true
   },
   "outputs": [
    {
     "name": "stdout",
     "output_type": "stream",
     "text": [
      "Nombre de mots différents dans l'index :  27361\n"
     ]
    }
   ],
   "source": [
    "print(\"Nombre de mots différents dans l'index : \", len(monIndex))"
   ]
  },
  {
   "cell_type": "markdown",
   "metadata": {},
   "source": [
    "Afficher les 10 premiers articles dans lesquels figurent le mot \"merchandises\""
   ]
  },
  {
   "cell_type": "code",
   "execution_count": 197,
   "metadata": {},
   "outputs": [
    {
     "data": {
      "text/plain": [
       "{'AaronPressman/156814newsML.txt': {'nbMots': 349, 'occ': 1, 'pos': [51]},\n",
       " 'BradDorfman/199931newsML.txt': {'nbMots': 333, 'occ': 1, 'pos': [34]},\n",
       " 'BradDorfman/276360newsML.txt': {'nbMots': 413, 'occ': 1, 'pos': [212]},\n",
       " 'BradDorfman/331819newsML.txt': {'nbMots': 308, 'occ': 1, 'pos': [198]},\n",
       " 'BradDorfman/346831newsML.txt': {'nbMots': 297, 'occ': 1, 'pos': [72]},\n",
       " 'JohnMastrini/159754newsML.txt': {'nbMots': 310,\n",
       "  'occ': 3,\n",
       "  'pos': [76, 91, 129]},\n",
       " 'MartinWolk/183836newsML.txt': {'nbMots': 222, 'occ': 2, 'pos': [87, 116]},\n",
       " 'MichaelConnor/372558newsML.txt': {'nbMots': 347, 'occ': 1, 'pos': [192]},\n",
       " 'RobinSidel/113551newsML.txt': {'nbMots': 292,\n",
       "  'occ': 3,\n",
       "  'pos': [146, 210, 217]},\n",
       " 'SamuelPerry/10781newsML.txt': {'nbMots': 359, 'occ': 1, 'pos': [223]}}"
      ]
     },
     "execution_count": 197,
     "metadata": {},
     "output_type": "execute_result"
    }
   ],
   "source": [
    "dict(itertools.islice(monIndex[\"merchandise\"].items(), 10))"
   ]
  },
  {
   "cell_type": "markdown",
   "metadata": {},
   "source": [
    "### 1.c. Création de l'index inversé : fonction createIndexMapReduce() --> Utilisation MapReduce et Stemming\n",
    "\n",
    "-Parallélise le calcul (Map/Reduce)\n",
    "\n",
    "-Ajout de stemming"
   ]
  },
  {
   "cell_type": "markdown",
   "metadata": {},
   "source": [
    "Besoin d'une nouvelle fonction createCorpusBis() : création d'un corpus qui retourne une liste de dictionnaires ( dic{titre,text} )"
   ]
  },
  {
   "cell_type": "code",
   "execution_count": 29,
   "metadata": {
    "collapsed": true
   },
   "outputs": [],
   "source": [
    "def createCorpusBis():\n",
    "    #création du corpus : Auteur, Article, Text\n",
    "    #liste de dictionnaires\n",
    "    listAuthor = os.listdir(\"data\")\n",
    "    listText = []\n",
    "    i=0\n",
    "    for author in listAuthor :\n",
    "        listArticle = os.listdir(\"data/\"+author)\n",
    "        for article in listArticle :\n",
    "            with open(\"data/\"+author+\"/\"+article,\"r\") as f :\n",
    "                dicTmp={}\n",
    "                dicTmp[\"titre\"]=author+\"/\"+article\n",
    "                dicTmp[\"id\"]=i\n",
    "                dicTmp[\"texte\"]=f.read()\n",
    "                listText.append(dicTmp)\n",
    "                i=i+1\n",
    "    return listText"
   ]
  },
  {
   "cell_type": "code",
   "execution_count": 30,
   "metadata": {
    "scrolled": true
   },
   "outputs": [
    {
     "name": "stdout",
     "output_type": "stream",
     "text": [
      "Affichage du premier élement de la liste : \n",
      "\n",
      "nom de l'article :  LynneO'Donnell/204874newsML.txt \n",
      "\n",
      "id :  0 \n",
      "\n",
      "texte :  Some Chinese traders are moving to take advantage of a sharp rally in world copper prices by selling the red metal back to the market, Far East metal industry sources said on Wednesday.\n",
      "A rise in copper stocks held in London Metal Exchange (LME) warehouses in Singapore was attributed in part by some trading sources to Chinese selling.\n",
      "\"With such high LME prices, I believe some (copper) will be brought out of China,\" a Singapore trader said.  \n",
      "He said stocks in Singapore rose 5,000 to 6,000 tonnes late last week -- after hovering at extremely low levels for the past couple of months -- as Chinese buyers sold material recently taken from LME warehouses elsewhere.\n",
      "Asian traders have said China is adding substantial tonnages -- up to 300,000 tonnes -- to its central stockpile, with a third of that amount now passing through customs in Shanghai.\n",
      "These reports have helped fuel a rally in three-month LME copper, which has climbed almost 20 percent in recent weeks on tight physical supply.  \n",
      "Three-month LME metal hit a five-month high of $2,232 a tonne on Tuesday, up from $1,900 at the end of October.\n",
      "Whether or not the copper now in China has completed customs formalities is not an issue, sources said.\n",
      "\"This is the government, they do what they like,\" said one.\n",
      "There was a feeling, however, that Chinese government departments, mired in bureaucratic red tape, would be unable to move fast enough to take advantage of rapid market movements.\n",
      "This would be the province of minor trading companies using hot money to buy small lots for speculative purposes.  \n",
      "At least one Asian trader reported small parcel offerings from Chinese companies wanting to pick up between $200-$300 a tonne in profit.\n",
      "Prices are at their highest since June 14 when Japan's Sumitomo Corp announced that one of its copper traders had wracked up losses in unauthorised deals now said by the company to be US$2.6 billion.\n",
      "Reports from Europe last week of a hidden hoard of 600,000 tonnes of copper in Rotterdam were shot down by Asian traders.  \n",
      "Tight global supply is now driving prices, with LME copper stocks below 100,000 tonnes for the first time since 1990 and representing less than a month's demand.\n",
      "Traders in the Far East, polled in recent days, told Reuters this fundamental shift in the world supply/demand picture should keep prices buoyed at least in the short term.\n",
      "\"It's a volatile market and it is impossible to know what is going to happen,\" a South American source said.\n",
      "\"Is it going to stay over $1/lb next year? Absolutely, I have no doubt about that. It won't be for a couple of days, I'm talking for maybe a quarter and I think it will then stay there.  \n",
      "\"Why? Consumption. Don't forget consumption. It is much more important than people think. The fundamentals really call for a higher price,\" he said.\n",
      "Shanghai and surrounding areas alone use upwards of 45,000 tonnes of copper a month, a European source in Hong Kong said.\n",
      "But physical copper on the Shanghai Metal Exchange has also been tight as traders there liquidate their positions on the rising LME prices.\n",
      "\"Prices have gone up so fast it is a little bit hard to digest,\" a trader in Shanghai said.\n",
      "\"It could be beneficial to export,\" she said.  \n",
      "\"On the other hand, anyone who wanted to buy could be afraid the price will start to go the other way. It's close to year-end, book-squaring time, so everyone will want to sit back and wait.\"\n",
      "($1=8.3 yuan)\n",
      "-- Hong Kong newsroom (852) 2843-6470\n",
      "\n"
     ]
    }
   ],
   "source": [
    "listCorpus=createCorpusBis()\n",
    "print(\"Affichage du premier élement de la liste : \\n\")\n",
    "print(\"nom de l'article : \", listCorpus[0][\"titre\"],\"\\n\")\n",
    "print(\"id : \", listCorpus[0][\"id\"],\"\\n\")\n",
    "print(\"texte : \", listCorpus[0][\"texte\"])\n"
   ]
  },
  {
   "cell_type": "markdown",
   "metadata": {},
   "source": [
    "Définition de la fonction mapIndex (phase de Map)\n",
    "    On retourne un dictionnaire d'un dictionnaire d'un dictionnaire d'un dictionnaire pour un article donné :\n",
    "    \n",
    "\n",
    "index : {mot : {titre : {idArticle: { positionMot, nbMots, occurence }}, titre: {idArticle: {  positionMot, nbMots, occurence }}}, ... ,\n",
    " mot : {titre : {idArticle: { positionMot, nbMots, occurence }}, titre: {idArticle: {  positionMot, nbMots, occurence }}}, ... ,}\n",
    "\n",
    "\n",
    "titre : auteur/article.txt\n",
    "positionMot : liste des positions du mot dans le texte\n",
    "nbMots : nombre de mots présents dans le texte\n",
    "occurence : nombre de fois où le mot apparait dans le texte\n",
    "\n",
    "On créer ici directement l'index inversé"
   ]
  },
  {
   "cell_type": "code",
   "execution_count": 31,
   "metadata": {
    "collapsed": true
   },
   "outputs": [],
   "source": [
    "def mapIndex(article):\n",
    "    text = re.findall(r'[a-z]+', article[\"texte\"].lower())\n",
    "    text = [word for word in text if word not in stop]\n",
    "    text = [ps.stem(word) for word in text] ### STEMMING\n",
    "    size = len(text) #taille du texte\n",
    "\n",
    "\n",
    "    indexRes = {} #initialisation index de sortie (dictionnaire)\n",
    "    #parcourir chaque mot du texte i\n",
    "    for i in range(0, len(text)) :\n",
    "        word=text[i]\n",
    "        #si le mot n'est pas déjà présent dans l'index\n",
    "        if (word not in indexRes.keys()) :\n",
    "            indexRes[word]={} ## creation du dictionnaire\n",
    "            indexRes[word][article[\"titre\"]]={} ##creation du second dictionnaire avec pour clé le titre (auteur/article)\n",
    "            indexRes[word][article[\"titre\"]][\"pos\"]=[]# initialisation de la valeur position\n",
    "            indexRes[word][article[\"titre\"]][\"nbMots\"]=size #indique le nbMots dans le texte\n",
    "            indexRes[word][article[\"titre\"]][\"idArticle\"]=article[\"id\"]\n",
    "        indexRes[word][article[\"titre\"]][\"pos\"].append(i) #ajoute la nouvelle position\n",
    "    \n",
    "    #boucle pour pour valoriser l'occurence du mot\n",
    "    for word in indexRes.keys():\n",
    "        indexRes[word][article[\"titre\"]][\"occ\"]=len( indexRes[word][article[\"titre\"]][\"pos\"])\n",
    "    return indexRes"
   ]
  },
  {
   "cell_type": "markdown",
   "metadata": {},
   "source": [
    "Définition de la fonction reduceIndex (phase de Reduce)\n",
    "\n",
    "\n",
    "Prend en entrée deux index et retourne qu'un seul index en combinant les mots des deux index."
   ]
  },
  {
   "cell_type": "code",
   "execution_count": 32,
   "metadata": {
    "collapsed": true
   },
   "outputs": [],
   "source": [
    "def reduceIndex(index1,index2):\n",
    "    for word in index2.keys(): #pour chaque mot de l'index 2\n",
    "        if word not in index1.keys() : #si le mot n'est pas présent dans l'index 1 \n",
    "            index1[word]={} #on rajoute ce mot\n",
    "        info2=list(index2[word].keys())[0] #on prend toutes les informations concernant le mot de l'index 2\n",
    "        index1[word][info2]=index2[word][info2] #on ajoute ces information dans l'index 1\n",
    "    return index1 #on retourne l'index1 qui combine maintenant les deux index  "
   ]
  },
  {
   "cell_type": "markdown",
   "metadata": {},
   "source": [
    "Défintion de la fonction createIndexMapRed()\n",
    "\n",
    "Boucle pool en reprenant les fonctions map et reduce\n",
    "le map partage le temps de calcul : parallélisation du temps pour créer les index de chaque article\n",
    "le reduce vient combiner les infos de chaque index créé en réunissant les mots communs"
   ]
  },
  {
   "cell_type": "code",
   "execution_count": 33,
   "metadata": {
    "collapsed": true
   },
   "outputs": [],
   "source": [
    " def createIndexMapRed():\n",
    "    listText=createCorpusBis() #creation du corpus (liste de dictionnaire)\n",
    "    with Pool() as pool:\n",
    "        #Map\n",
    "        dMap = time()\n",
    "        listIndex=pool.map(mapIndex,listText) #appel fonction map sur listText\n",
    "        fMap = time()\n",
    "        print('temps d\\'execution du Map : ', fMap-dMap)\n",
    "        \n",
    "        #Reduce\n",
    "        dRed = time()\n",
    "        indexRes=reduce(reduceIndex,listIndex) #reduce sur listIndex en sortie du map\n",
    "        fRed = time()\n",
    "        print('temps d\\'execution du Reduce : ', fRed-dRed)\n",
    "    return indexRes"
   ]
  },
  {
   "cell_type": "code",
   "execution_count": 34,
   "metadata": {},
   "outputs": [
    {
     "name": "stdout",
     "output_type": "stream",
     "text": [
      "temps d'execution du Map :  5.093148708343506\n",
      "temps d'execution du Reduce :  0.4122588634490967\n",
      "temps d'execution total de createIndexMapReduce 5.798810005187988\n"
     ]
    }
   ],
   "source": [
    "d = time()\n",
    "monIndexMap=createIndexMapRed()\n",
    "f = time()\n",
    "print('temps d\\'execution total de createIndexMapReduce', f-d)"
   ]
  },
  {
   "cell_type": "markdown",
   "metadata": {},
   "source": [
    "Nombre de mots de l'index : avec le Stemming moins de mots que l'index simple"
   ]
  },
  {
   "cell_type": "code",
   "execution_count": 38,
   "metadata": {},
   "outputs": [
    {
     "name": "stdout",
     "output_type": "stream",
     "text": [
      "Nombre de mots différents dans l'index avec stemming :  18456\n",
      "Nombre de mots différents dans l'index :  27361\n"
     ]
    }
   ],
   "source": [
    "print(\"Nombre de mots différents dans l'index avec stemming : \", len(monIndexMap))\n",
    "print(\"Nombre de mots différents dans l'index : \", len(monIndex))"
   ]
  },
  {
   "cell_type": "markdown",
   "metadata": {},
   "source": [
    "monIndexMap est une liste de dictionnaire de dictionnaire de dictionnaire : \n",
    "\n",
    "\n",
    "index ( mot : { titre : {idArticle, nbMots, occurence, position }, titre : {idArticle, nbMots, occurence, position }, ... },\n",
    "mot { titre: {idArticle, nbMots, occurence, position}, ... }, ... )"
   ]
  },
  {
   "cell_type": "markdown",
   "metadata": {},
   "source": [
    "Afficher les 10 premiers articles dans lesquels figurent le mot \"merchandises\""
   ]
  },
  {
   "cell_type": "code",
   "execution_count": 36,
   "metadata": {
    "scrolled": true
   },
   "outputs": [
    {
     "data": {
      "text/plain": [
       "{'AaronPressman/156814newsML.txt': {'idArticle': 305,\n",
       "  'nbMots': 349,\n",
       "  'occ': 1,\n",
       "  'pos': [51]},\n",
       " 'BradDorfman/199931newsML.txt': {'idArticle': 1207,\n",
       "  'nbMots': 333,\n",
       "  'occ': 1,\n",
       "  'pos': [34]},\n",
       " 'BradDorfman/276360newsML.txt': {'idArticle': 1217,\n",
       "  'nbMots': 413,\n",
       "  'occ': 1,\n",
       "  'pos': [212]},\n",
       " 'BradDorfman/331819newsML.txt': {'idArticle': 1214,\n",
       "  'nbMots': 308,\n",
       "  'occ': 2,\n",
       "  'pos': [198, 227]},\n",
       " 'BradDorfman/346831newsML.txt': {'idArticle': 1222,\n",
       "  'nbMots': 297,\n",
       "  'occ': 1,\n",
       "  'pos': [72]},\n",
       " 'EricAuchard/149671newsML.txt': {'idArticle': 381,\n",
       "  'nbMots': 467,\n",
       "  'occ': 1,\n",
       "  'pos': [207]},\n",
       " 'KeithWeir/275481newsML.txt': {'idArticle': 1639,\n",
       "  'nbMots': 539,\n",
       "  'occ': 1,\n",
       "  'pos': [107]},\n",
       " 'MichaelConnor/372558newsML.txt': {'idArticle': 1144,\n",
       "  'nbMots': 347,\n",
       "  'occ': 1,\n",
       "  'pos': [192]},\n",
       " 'PatriciaCommins/143591newsML.txt': {'idArticle': 536,\n",
       "  'nbMots': 336,\n",
       "  'occ': 1,\n",
       "  'pos': [197]},\n",
       " 'RobinSidel/219316newsML.txt': {'idArticle': 1701,\n",
       "  'nbMots': 220,\n",
       "  'occ': 1,\n",
       "  'pos': [198]}}"
      ]
     },
     "execution_count": 36,
     "metadata": {},
     "output_type": "execute_result"
    }
   ],
   "source": [
    "dict(itertools.islice(monIndexMap[\"merchandis\"].items(), 10))"
   ]
  },
  {
   "cell_type": "markdown",
   "metadata": {},
   "source": [
    "### 1.d. Serialization"
   ]
  },
  {
   "cell_type": "code",
   "execution_count": 39,
   "metadata": {
    "collapsed": true
   },
   "outputs": [],
   "source": [
    "#sauvegarde de mon index\n",
    "pickle.dump(monIndexMap,open(\"save.p\",\"wb\"))\n",
    "#importer mon index depuis le fichier save.p\n",
    "indexImport = pickle.load( open( \"save.p\", \"rb\" ) )"
   ]
  },
  {
   "cell_type": "code",
   "execution_count": 40,
   "metadata": {
    "collapsed": true
   },
   "outputs": [],
   "source": [
    "monIndexMap=indexImport"
   ]
  },
  {
   "cell_type": "markdown",
   "metadata": {},
   "source": [
    "# 2. REQUETES"
   ]
  },
  {
   "cell_type": "markdown",
   "metadata": {},
   "source": [
    "### 2.a.  Répondre à une requête en un  : dans quel article un mot apparait-il ?"
   ]
  },
  {
   "cell_type": "markdown",
   "metadata": {},
   "source": [
    "Fonction pour rechercher un mot"
   ]
  },
  {
   "cell_type": "code",
   "execution_count": 41,
   "metadata": {
    "collapsed": true
   },
   "outputs": [],
   "source": [
    "def Research1Word(index,word):\n",
    "    word2=re.findall(r'[a-z]+',word.lower()) \n",
    "    word2 = [ps.stem(word) for word in word2] ### STEMMING\n",
    "    try:\n",
    "        return set((index[word2[0]].keys())) #retourne les infos du mot\n",
    "    except:\n",
    "        print(\"Le mot \" + word +\" n'existe pas dans l'index \\n\")\n",
    "        return set()"
   ]
  },
  {
   "cell_type": "markdown",
   "metadata": {},
   "source": [
    "Temps d'exécution pour la recherche d'un mot"
   ]
  },
  {
   "cell_type": "code",
   "execution_count": 203,
   "metadata": {},
   "outputs": [
    {
     "name": "stdout",
     "output_type": "stream",
     "text": [
      "temps d'execution de Research1Word() :  9.775161743164062e-05\n"
     ]
    }
   ],
   "source": [
    "d=time()\n",
    "Research1Word(monIndexMap,'merchandises')\n",
    "f=time()\n",
    "print(\"temps d\\'execution de Research1Word() : \", f-d)"
   ]
  },
  {
   "cell_type": "markdown",
   "metadata": {},
   "source": [
    "Fonction pour afficher la recherche à un mot"
   ]
  },
  {
   "cell_type": "code",
   "execution_count": 42,
   "metadata": {
    "collapsed": true
   },
   "outputs": [],
   "source": [
    "def PrintResearch1(index):\n",
    "    dicDoc={}\n",
    "    cont=\"oui\"\n",
    "    while(cont==\"oui\"):\n",
    "        motRech=input(\"Indiquez le mot que vous souhaitez rechercher : \\n\")\n",
    "        listDoc=Research1Word(index,motRech)\n",
    "        print(\"nombre de documents = %d \\n\" %len(listDoc))\n",
    "        if len(listDoc)>0 : \n",
    "            print(\"Voici les 10 premiers éléments : \\n \", set(itertools.islice(listDoc,10)))\n",
    "        cont=input(\"Souhaitez vous rechercher un autre mot ? (oui/non) \\n\").lower()\n",
    "    print(\"Fin de recherche à 1 mot\")"
   ]
  },
  {
   "cell_type": "markdown",
   "metadata": {},
   "source": [
    "Tester la fonction : (avec le mode affichage)"
   ]
  },
  {
   "cell_type": "code",
   "execution_count": 43,
   "metadata": {
    "scrolled": true
   },
   "outputs": [
    {
     "name": "stdout",
     "output_type": "stream",
     "text": [
      "Indiquez le mot que vous souhaitez rechercher : \n",
      "the\n",
      "Le mot the n'existe pas dans l'index \n",
      "\n",
      "nombre de documents = 0 \n",
      "\n",
      "Souhaitez vous rechercher un autre mot ? (oui/non) \n",
      "oui\n",
      "Indiquez le mot que vous souhaitez rechercher : \n",
      "merChandisE\n",
      "nombre de documents = 23 \n",
      "\n",
      "Voici les 10 premiers éléments : \n",
      "  {'MarkBendeich/358701newsML.txt', 'JohnMastrini/18529newsML.txt', 'BradDorfman/346831newsML.txt', 'PatriciaCommins/143591newsML.txt', 'JohnMastrini/123158newsML.txt', 'SamuelPerry/10781newsML.txt', 'TheresePoletti/157001newsML.txt', 'BradDorfman/331819newsML.txt', 'AaronPressman/156814newsML.txt', 'RobinSidel/113551newsML.txt'}\n",
      "Souhaitez vous rechercher un autre mot ? (oui/non) \n",
      "non\n",
      "Fin de recherche à 1 mot\n"
     ]
    }
   ],
   "source": [
    "#tester la fonction\n",
    "PrintResearch1(monIndexMap)"
   ]
  },
  {
   "cell_type": "markdown",
   "metadata": {
    "collapsed": true
   },
   "source": [
    "### 2.b. Répondre à une requête en texte libre : quels articles contient au moins un mot d'une liste de mots donnée ?"
   ]
  },
  {
   "cell_type": "markdown",
   "metadata": {},
   "source": [
    "Fonction pour rechercher une liste de mots"
   ]
  },
  {
   "cell_type": "code",
   "execution_count": 44,
   "metadata": {
    "collapsed": true
   },
   "outputs": [],
   "source": [
    "def ResearchWord(index,listWord):\n",
    "    allDoc=set()\n",
    "    for word in listWord:\n",
    "        #utilisation de la fonction précédente pour rechercher un mot  \n",
    "        docWord=Research1Word(index,word)  \n",
    "        for doc in docWord:\n",
    "            allDoc.add(doc)\n",
    "    return allDoc"
   ]
  },
  {
   "cell_type": "markdown",
   "metadata": {},
   "source": [
    "Temps d'exécution pour la recherche de texte libre"
   ]
  },
  {
   "cell_type": "code",
   "execution_count": 204,
   "metadata": {},
   "outputs": [
    {
     "name": "stdout",
     "output_type": "stream",
     "text": [
      "temps d'execution de ResearchWord() :  0.0003094673156738281\n"
     ]
    }
   ],
   "source": [
    "d=time()\n",
    "ResearchWord(monIndexMap,['merchandise','traders','deficit'])\n",
    "f=time()\n",
    "print(\"temps d\\'execution de ResearchWord() : \", f-d)"
   ]
  },
  {
   "cell_type": "markdown",
   "metadata": {},
   "source": [
    "Fonction pour afficher la recherche"
   ]
  },
  {
   "cell_type": "code",
   "execution_count": 45,
   "metadata": {
    "collapsed": true
   },
   "outputs": [],
   "source": [
    "def PrintResearch(index):\n",
    "    cont=\"oui\"\n",
    "    wordUse=[]\n",
    "    while(cont==\"oui\"):\n",
    "        motRech=re.findall(r'[a-z]+',input(\"Indiquez les mots (en texte libre) que vous souhaitez rechercher : \\n\").lower())\n",
    "        #on splite les mots\n",
    "        for mot in motRech:\n",
    "            wordUse.append(mot)\n",
    "        if (len(wordUse)>0):\n",
    "            listDoc=ResearchWord(index,wordUse)\n",
    "            print(\"nombre de documents = %d \\n\" %len(listDoc))\n",
    "            if len(listDoc)>0 : \n",
    "                print(\"Voici les 10 premiers éléments : \\n \", set(itertools.islice(listDoc,10)))\n",
    "        cont=input(\"Souhaitez vous rechercher d'autres mots en texte libre ? (oui/non) \\n\").lower()\n",
    "    print(\"Fin de recherche en texte libre\")"
   ]
  },
  {
   "cell_type": "markdown",
   "metadata": {},
   "source": [
    "Tester la fonction : (avec le mode affichage)"
   ]
  },
  {
   "cell_type": "code",
   "execution_count": 46,
   "metadata": {},
   "outputs": [
    {
     "name": "stdout",
     "output_type": "stream",
     "text": [
      "Indiquez les mots (en texte libre) que vous souhaitez rechercher : \n",
      "the\n",
      "Le mot the n'existe pas dans l'index \n",
      "\n",
      "nombre de documents = 0 \n",
      "\n",
      "Souhaitez vous rechercher d'autres mots en texte libre ? (oui/non) \n",
      "oui\n",
      "Indiquez les mots (en texte libre) que vous souhaitez rechercher : \n",
      "MercHandiserS Trader\n",
      "Le mot the n'existe pas dans l'index \n",
      "\n",
      "nombre de documents = 197 \n",
      "\n",
      "Voici les 10 premiers éléments : \n",
      "  {'AlexanderSmith/240608newsML.txt', 'LydiaZajc/172241newsML.txt', 'RobinSidel/186416newsML.txt', 'GrahamEarnshaw/167951newsML.txt', 'JoeOrtiz/343304newsML.txt', 'MarkBendeich/402412newsML.txt', 'MarcelMichelson/150780newsML.txt', 'NickLouth/13825newsML.txt', 'BradDorfman/344162newsML.txt', 'EricAuchard/133874newsML.txt'}\n",
      "Souhaitez vous rechercher d'autres mots en texte libre ? (oui/non) \n",
      "non\n",
      "Fin de recherche en texte libre\n"
     ]
    }
   ],
   "source": [
    "#test the puis MercHANdisers traDer\n",
    "PrintResearch(monIndexMap)"
   ]
  },
  {
   "cell_type": "markdown",
   "metadata": {
    "collapsed": true
   },
   "source": [
    "### 2.c. Répondre à une requête d'expression : Quels articles contient une phrase donnée en respectant l'ordre des mots ?"
   ]
  },
  {
   "cell_type": "markdown",
   "metadata": {},
   "source": [
    "Définitions de quelques fonctions (en rapport avec le stemming)\n",
    "Necessaire de faire appel au stemming lors d'une recherche direct dans l'index"
   ]
  },
  {
   "cell_type": "code",
   "execution_count": 50,
   "metadata": {
    "collapsed": true
   },
   "outputs": [],
   "source": [
    "#rechercher la ou les positions d'un mot à partir d'un titre connu\n",
    "def searchPos(index,word,titre):\n",
    "    word=ps.stem(word)\n",
    "    pos=index[word][titre][\"pos\"]\n",
    "    return pos\n",
    "\n",
    "\n",
    "#rechercher l'occurence d'un mot à partir d'un titre connu\n",
    "def searchOcc(index,word,titre):\n",
    "    word=ps.stem(word)\n",
    "    occ=index[word][titre][\"occ\"]\n",
    "    return occ\n",
    "\n",
    "#rechercher le nombre de mots d'un mot à partir d'un titre connu\n",
    "def searchNbMots(index,word,titre):\n",
    "    word=ps.stem(word)\n",
    "    nbMots=index[word][titre][\"nbMots\"]\n",
    "    return nbMots\n",
    "\n",
    "#rechercher l'id de l'article d'un mot à partir d'un titre connu\n",
    "def searchIdArticle(index,word,titre):\n",
    "    word=ps.stem(word)\n",
    "    idArticle=index[word][titre][\"idArticle\"]\n",
    "    return idArticle"
   ]
  },
  {
   "cell_type": "markdown",
   "metadata": {},
   "source": [
    "Définition de la fonction qui recherche une phrase dans l'index\n",
    "L'ordre des mots est important (utilisation de la fonction searchPos)"
   ]
  },
  {
   "cell_type": "code",
   "execution_count": 51,
   "metadata": {
    "collapsed": true
   },
   "outputs": [],
   "source": [
    "def ResearchSeqWord(index,phrase):\n",
    "    allDoc=set()\n",
    "    #normalisation de la phrase et split en liste de mots\n",
    "    l = re.findall(r'[a-z]+', phrase.lower())\n",
    "    listWord = [word for word in l if word not in stop] #on enleve les stopwords pour ne pas les chercher inutilement\n",
    "    #pas besoin de stemming ici, puisqu'il est present dans Research1Word appele plus loin dans la fonction\n",
    "    if len(listWord)<=1:\n",
    "        listDoc=Research1Word(index,listWord[0])\n",
    "    else:\n",
    "        docWord1=ResearchWord(index,[listWord[0]])\n",
    "        docWord2=ResearchWord(index,[listWord[1]])\n",
    "        #recuperation des articles communs aux deux premiers mots\n",
    "        #comme on cherche les articles ayant une phrase commune, les deux premiers mots suffisents\n",
    "        allDoc=docWord1.intersection(docWord2)\n",
    "\n",
    "        listDoc=[]\n",
    "        #pour chaque article trouvé\n",
    "        for doc in allDoc:\n",
    "            posOk=True\n",
    "            j=0\n",
    "            #tant que la liste des mots n'a pas été parcouru et si pasOk est true\n",
    "            while (j<len(listWord)-1) and posOk:\n",
    "                word1=listWord[j] #mot1\n",
    "                word2=listWord[j+1] #mot2\n",
    "\n",
    "                docWord1=Research1Word(index,word1) #documents correspondants au mot1\n",
    "                docWord2=Research1Word(index,word2) #documents correspondants au mot2\n",
    "                \n",
    "                allDocBis=docWord1.intersection(docWord2) #documents communs aux mot1 et mot2\n",
    "                if doc in allDocBis: #si le document sur lequel on travail est présent dans la liste des documents communs\n",
    "                   #necessaire de faire du stemming en amont pour pouvoir rechercher directi\n",
    "\n",
    "                    pos1=[i+1 for i in searchPos(index,word1,doc)] # on ajoute 1 a la position du mot 1 --> position mot1+1\n",
    "                    pos2=searchPos(index,word2,doc) #position mot2\n",
    "                    #on cherche si pos1=pos2\n",
    "                    inter=set(pos1).intersection(pos2) #intersection des deux mots\n",
    "                    #si inter est non vide alors les deux mots se suivent dans le texte\n",
    "                    if (len(inter)>0):\n",
    "                        posOk=True\n",
    "                        j=j+1\n",
    "                    else:\n",
    "                        posOk=False  #pour arreter la boucle\n",
    "                else: #si le document sur lequel on travail n'est pas présent dans la liste des documents communs\n",
    "                    posOk=False #pour arreter la boucle\n",
    "                    \n",
    "            if j==len(listWord)-1 and posOk: #si le compteur j est égal à taille de liste de mots \n",
    "                #on est allé jusqu'à la fin de la phrase. Donc elle est présente dans l'article doc\n",
    "                listDoc.append(doc) #ajoute à la liste des documents\n",
    "    return listDoc"
   ]
  },
  {
   "cell_type": "code",
   "execution_count": 52,
   "metadata": {
    "collapsed": true
   },
   "outputs": [],
   "source": [
    "def PrintResearchSeq(index):\n",
    "    cont=\"oui\"\n",
    "    wordUse=[]\n",
    "    while(cont==\"oui\"):\n",
    "        motRech=input(\"Indiquez la phrase que vous souhaitez rechercher : \\n\")\n",
    "        motRechBis=re.findall(r'[a-z]+', motRech.lower())\n",
    "        listWord = [word for word in motRechBis if word not in stop] \n",
    "        #on splite les mots\n",
    "        for mot in listWord:\n",
    "            wordUse.append(mot)\n",
    "        if (len(wordUse)>0):\n",
    "            listDoc=ResearchSeqWord(index,motRech)\n",
    "            print(\"nombre de documents = %d \\n\" %len(listDoc))\n",
    "            if len(listDoc)>0:\n",
    "                print(\"Voici les 10 premiers éléments : \\n \", set(itertools.islice(listDoc,10)))\n",
    "        cont=input(\"Souhaitez vous rechercher une autre phrase ? (oui/non) \\n\").lower()\n",
    "    print(\"Fin de recherche en phrase\")"
   ]
  },
  {
   "cell_type": "markdown",
   "metadata": {},
   "source": [
    "Test de la fonction sur différentes phrases\n",
    "On vérifie en même temps que la recherche n'est pas sensible à la casse"
   ]
  },
  {
   "cell_type": "code",
   "execution_count": 53,
   "metadata": {
    "scrolled": true
   },
   "outputs": [
    {
     "name": "stdout",
     "output_type": "stream",
     "text": [
      "Indiquez la phrase que vous souhaitez rechercher : \n",
      "couc the\n",
      "Le mot couc n'existe pas dans l'index \n",
      "\n",
      "nombre de documents = 0 \n",
      "\n",
      "Souhaitez vous rechercher une autre phrase ? (oui/non) \n",
      "oui\n",
      "Indiquez la phrase que vous souhaitez rechercher : \n",
      "The MercHaNdise Trade DEficit\n",
      "nombre de documents = 5 \n",
      "\n",
      "Voici les 10 premiers éléments : \n",
      "  {'JohnMastrini/18529newsML.txt', 'JohnMastrini/159754newsML.txt', 'JohnMastrini/13806newsML.txt', 'JohnMastrini/123158newsML.txt', 'JohnMastrini/18297newsML.txt'}\n",
      "Souhaitez vous rechercher une autre phrase ? (oui/non) \n",
      "non\n",
      "Fin de recherche en phrase\n"
     ]
    }
   ],
   "source": [
    "# pas sensible à la casse avec une phrase : The MercHaNdise Trade DEficit\n",
    "PrintResearchSeq(monIndexMap)"
   ]
  },
  {
   "cell_type": "code",
   "execution_count": 54,
   "metadata": {},
   "outputs": [
    {
     "name": "stdout",
     "output_type": "stream",
     "text": [
      "Indiquez la phrase que vous souhaitez rechercher : \n",
      "Lloyd's of London Reconstruction and Renewal plan\n",
      "nombre de documents = 1 \n",
      "\n",
      "Voici les 10 premiers éléments : \n",
      "  {'SimonCowell/376405newsML.txt'}\n",
      "Souhaitez vous rechercher une autre phrase ? (oui/non) \n",
      "non\n",
      "Fin de recherche en phrase\n"
     ]
    }
   ],
   "source": [
    "#phrase : Lloyd's of London Reconstruction and Renewal plan\n",
    "PrintResearchSeq(monIndexMap)"
   ]
  },
  {
   "cell_type": "code",
   "execution_count": 55,
   "metadata": {
    "scrolled": true
   },
   "outputs": [
    {
     "name": "stdout",
     "output_type": "stream",
     "text": [
      "Indiquez la phrase que vous souhaitez rechercher : \n",
      "day\n",
      "nombre de documents = 659 \n",
      "\n",
      "Voici les 10 premiers éléments : \n",
      "  {'AlanCrosby/21296newsML.txt', 'KouroshKarimkhany/129309newsML.txt', 'SimonCowell/406879newsML.txt', 'JaneMacartney/279102newsML.txt', 'TanEeLyn/462149newsML.txt', 'MatthewBunce/236509newsML.txt', 'BradDorfman/196808newsML.txt', 'EricAuchard/191274newsML.txt', 'BenjaminKangLim/201374newsML.txt', 'JaneMacartney/272173newsML.txt'}\n",
      "Souhaitez vous rechercher une autre phrase ? (oui/non) \n",
      "non\n",
      "Fin de recherche en phrase\n"
     ]
    }
   ],
   "source": [
    "##fonctionne aussi pour un seul mot --> day\n",
    "PrintResearchSeq(monIndexMap)"
   ]
  },
  {
   "cell_type": "markdown",
   "metadata": {},
   "source": [
    "Temps d'exécution pour la recherche d'une phrase"
   ]
  },
  {
   "cell_type": "code",
   "execution_count": 206,
   "metadata": {},
   "outputs": [
    {
     "name": "stdout",
     "output_type": "stream",
     "text": [
      "temps d'execution de ResearchSeqWord() :  0.0021505355834960938\n"
     ]
    }
   ],
   "source": [
    "d=time()\n",
    "ResearchSeqWord(monIndexMap,\"The MercHaNdise Trade DEficit\")\n",
    "f=time()\n",
    "print(\"temps d\\'execution de ResearchSeqWord() : \", f-d)"
   ]
  },
  {
   "cell_type": "markdown",
   "metadata": {},
   "source": [
    "## 3. RANKING : "
   ]
  },
  {
   "cell_type": "markdown",
   "metadata": {
    "collapsed": true
   },
   "source": [
    "### 3.a. Ordonner les résultats d'une requête simple par nombre d'occurences"
   ]
  },
  {
   "cell_type": "code",
   "execution_count": 56,
   "metadata": {
    "collapsed": true
   },
   "outputs": [],
   "source": [
    "def RankingOrderOcc(index,word):\n",
    "    articles=Research1Word(index,word) #utilisation de la fonction rechercher un mot\n",
    "    #si le mot en paramètre n'existe pas, except de Research1Word\n",
    "    wordBis=re.findall(r'[a-z]+', word.lower())\n",
    "    #wordBis = [ps.stem(word) for word in wordBis] ### STEMMING\n",
    "    dico={}\n",
    "    for doc in articles: #pour chaque article\n",
    "        #doc[1] correspond a l'occurence du mot de l'index\n",
    "        dico[doc]=searchOcc(index,wordBis[0],doc) #ajout dans le dico de cle 'doc' l'occurence du mot word\n",
    "    dicoSorted = sorted(dico.items(), reverse=True, key=lambda x:x[1]) #trier le dico pour ordonner resultat\n",
    "    return dicoSorted"
   ]
  },
  {
   "cell_type": "markdown",
   "metadata": {},
   "source": [
    "Test de la fonction : "
   ]
  },
  {
   "cell_type": "code",
   "execution_count": 57,
   "metadata": {},
   "outputs": [
    {
     "data": {
      "text/plain": [
       "[('RobinSidel/113551newsML.txt', 4),\n",
       " ('JohnMastrini/159754newsML.txt', 3),\n",
       " ('TheresePoletti/157001newsML.txt', 2),\n",
       " ('BradDorfman/331819newsML.txt', 2),\n",
       " ('MartinWolk/183836newsML.txt', 2),\n",
       " ('MarkBendeich/358701newsML.txt', 1),\n",
       " ('JohnMastrini/18529newsML.txt', 1),\n",
       " ('PatriciaCommins/143591newsML.txt', 1),\n",
       " ('JohnMastrini/123158newsML.txt', 1),\n",
       " ('AaronPressman/156814newsML.txt', 1),\n",
       " ('BradDorfman/346831newsML.txt', 1),\n",
       " ('SamuelPerry/10781newsML.txt', 1),\n",
       " ('BradDorfman/276360newsML.txt', 1),\n",
       " ('JohnMastrini/18297newsML.txt', 1),\n",
       " ('RobinSidel/220676newsML.txt', 1),\n",
       " ('MichaelConnor/372558newsML.txt', 1),\n",
       " ('BradDorfman/199931newsML.txt', 1),\n",
       " ('MarkBendeich/358695newsML.txt', 1),\n",
       " ('JohnMastrini/13806newsML.txt', 1),\n",
       " ('RobinSidel/219316newsML.txt', 1),\n",
       " ('EricAuchard/149671newsML.txt', 1),\n",
       " ('KeithWeir/275481newsML.txt', 1),\n",
       " ('JaneMacartney/106841newsML.txt', 1)]"
      ]
     },
     "execution_count": 57,
     "metadata": {},
     "output_type": "execute_result"
    }
   ],
   "source": [
    "RankingOrderOcc(monIndexMap,'merchandise')"
   ]
  },
  {
   "cell_type": "markdown",
   "metadata": {},
   "source": [
    "dans l'article 'RobinSidel/113551newsML.txt' il y a 4 mots dont la racine est merchandis\n",
    "Si l'on regarde plus précisemment dans ce texte : "
   ]
  },
  {
   "cell_type": "code",
   "execution_count": 58,
   "metadata": {},
   "outputs": [
    {
     "data": {
      "text/plain": [
       "{'nbMots': 292, 'occ': 3, 'pos': [146, 210, 217]}"
      ]
     },
     "execution_count": 58,
     "metadata": {},
     "output_type": "execute_result"
    }
   ],
   "source": [
    "monIndex[\"merchandise\"][\"RobinSidel/113551newsML.txt\"]"
   ]
  },
  {
   "cell_type": "code",
   "execution_count": 587,
   "metadata": {},
   "outputs": [
    {
     "data": {
      "text/plain": [
       "{'nbMots': 292, 'occ': 1, 'pos': [194]}"
      ]
     },
     "execution_count": 587,
     "metadata": {},
     "output_type": "execute_result"
    }
   ],
   "source": [
    "monIndex[\"merchandisers\"][\"RobinSidel/113551newsML.txt\"]"
   ]
  },
  {
   "cell_type": "markdown",
   "metadata": {},
   "source": [
    "Dans cet article, il y a en réalité 3 mots \"merchandise\" et 1 mot \"merchandisers\". Donc avec le stemming on arrive à combiner les deux sous la racine \"merchandis\" et à en compter 4.\n",
    "Sans le stemming, on au deux mots différents avec chacun leur occurence. Pour l'application d'un moteur de recherche, il vaut mieux donc utiliser le stemming, qui permet de rechercher les mots qui ont la même racine."
   ]
  },
  {
   "cell_type": "markdown",
   "metadata": {},
   "source": [
    "Temps d'éxécution de la méthode\n",
    "(dépend du mot recherché, plus il est présent, plus la fonction sera longue)"
   ]
  },
  {
   "cell_type": "code",
   "execution_count": 59,
   "metadata": {},
   "outputs": [
    {
     "name": "stdout",
     "output_type": "stream",
     "text": [
      "temps d'execution de RankingOrderOcc() :  0.0005412101745605469\n"
     ]
    }
   ],
   "source": [
    "d=time()\n",
    "RankingOrderOcc(monIndexMap,'merchandise')\n",
    "f=time()\n",
    "print(\"temps d\\'execution de RankingOrderOcc() : \", f-d)"
   ]
  },
  {
   "cell_type": "markdown",
   "metadata": {
    "collapsed": true
   },
   "source": [
    "\n",
    "### 3.b. Ordonner les résultats d'une requête simple par fréquence (normalisée)"
   ]
  },
  {
   "cell_type": "code",
   "execution_count": 60,
   "metadata": {
    "collapsed": true
   },
   "outputs": [],
   "source": [
    "def RankingOrderFrq(index,word):\n",
    "    articles=Research1Word(index,word) #utilisation de la fonction rechercher un mot\n",
    "    #si le mot en paramètre n'existe pas, except de Research1Word\n",
    "    wordBis=re.findall(r'[a-z]+', word.lower())\n",
    "    dico={}\n",
    "    for doc in articles: #pour chaque article\n",
    "        #meme chose que precedemment en divisant par la taille du texte (doc[0]) pour obtenir la frequence\n",
    "        dico[doc]=searchOcc(index,wordBis[0],doc)/searchNbMots(index,wordBis[0],doc)\n",
    "    dicoSorted = sorted(dico.items(), reverse=True, key=lambda x:x[1]) #trier le dico\n",
    "    return dicoSorted"
   ]
  },
  {
   "cell_type": "markdown",
   "metadata": {},
   "source": [
    "Test de la fonction : "
   ]
  },
  {
   "cell_type": "code",
   "execution_count": 61,
   "metadata": {},
   "outputs": [
    {
     "data": {
      "text/plain": [
       "[('RobinSidel/113551newsML.txt', 0.0136986301369863),\n",
       " ('JohnMastrini/159754newsML.txt', 0.00967741935483871),\n",
       " ('MartinWolk/183836newsML.txt', 0.009009009009009009),\n",
       " ('BradDorfman/331819newsML.txt', 0.006493506493506494),\n",
       " ('TheresePoletti/157001newsML.txt', 0.005037783375314861),\n",
       " ('JohnMastrini/123158newsML.txt', 0.004694835680751174),\n",
       " ('RobinSidel/220676newsML.txt', 0.004545454545454545),\n",
       " ('RobinSidel/219316newsML.txt', 0.004545454545454545),\n",
       " ('JohnMastrini/18297newsML.txt', 0.004484304932735426),\n",
       " ('JohnMastrini/18529newsML.txt', 0.004366812227074236),\n",
       " ('JohnMastrini/13806newsML.txt', 0.0035460992907801418),\n",
       " ('MarkBendeich/358701newsML.txt', 0.003367003367003367),\n",
       " ('BradDorfman/346831newsML.txt', 0.003367003367003367),\n",
       " ('MarkBendeich/358695newsML.txt', 0.0033222591362126247),\n",
       " ('BradDorfman/199931newsML.txt', 0.003003003003003003),\n",
       " ('PatriciaCommins/143591newsML.txt', 0.002976190476190476),\n",
       " ('MichaelConnor/372558newsML.txt', 0.002881844380403458),\n",
       " ('AaronPressman/156814newsML.txt', 0.0028653295128939827),\n",
       " ('SamuelPerry/10781newsML.txt', 0.002785515320334262),\n",
       " ('JaneMacartney/106841newsML.txt', 0.0024630541871921183),\n",
       " ('BradDorfman/276360newsML.txt', 0.002421307506053269),\n",
       " ('EricAuchard/149671newsML.txt', 0.0021413276231263384),\n",
       " ('KeithWeir/275481newsML.txt', 0.0018552875695732839)]"
      ]
     },
     "execution_count": 61,
     "metadata": {},
     "output_type": "execute_result"
    }
   ],
   "source": [
    "RankingOrderFrq(monIndexMap,\"merchandise\")"
   ]
  },
  {
   "cell_type": "markdown",
   "metadata": {
    "collapsed": true
   },
   "source": [
    "Temps d'éxécution de la méthode\n",
    "(dépend du mot recherché, plus il est présent, plus la fonction sera longue)"
   ]
  },
  {
   "cell_type": "code",
   "execution_count": 62,
   "metadata": {},
   "outputs": [
    {
     "name": "stdout",
     "output_type": "stream",
     "text": [
      "temps d'execution de RankingOrderFrq() :  0.0011506080627441406\n"
     ]
    }
   ],
   "source": [
    "d=time()\n",
    "RankingOrderFrq(monIndexMap,'merchandise')\n",
    "f=time()\n",
    "print(\"temps d\\'execution de RankingOrderFrq() : \", f-d)"
   ]
  },
  {
   "cell_type": "markdown",
   "metadata": {},
   "source": [
    "### 3.c. Ordonner les résultats d'une requête simple en utilisant la métrique TF-IDF"
   ]
  },
  {
   "cell_type": "code",
   "execution_count": 63,
   "metadata": {
    "collapsed": true
   },
   "outputs": [],
   "source": [
    "def RankingOrderTFIDF(index,word):\n",
    "    articles=Research1Word(index,word)\n",
    "    wordBis=re.findall(r'[a-z]+', word.lower())\n",
    "    Nt=len(articles) #nombre de documents où apparait word\n",
    "    D=len(listText) #nombre de documents dans l'index\n",
    "    IDF=math.log(D / (1+Nt))\n",
    "    TFIDF={}\n",
    "    for doc in articles: #pour chaque article\n",
    "        TFIDF[doc]=searchOcc(index,wordBis[0],doc)/searchNbMots(index,wordBis[0],doc)*IDF\n",
    "    TFIDFsort =sorted(TFIDF.items(), reverse=True, key=lambda x:x[1])\n",
    "    return TFIDFsort"
   ]
  },
  {
   "cell_type": "markdown",
   "metadata": {},
   "source": [
    "Test de la fonction : "
   ]
  },
  {
   "cell_type": "code",
   "execution_count": 64,
   "metadata": {},
   "outputs": [
    {
     "data": {
      "text/plain": [
       "[('RobinSidel/113551newsML.txt', 0.06364372850011434),\n",
       " ('JohnMastrini/159754newsML.txt', 0.04496121465008077),\n",
       " ('MartinWolk/183836newsML.txt', 0.0418557854099851),\n",
       " ('BradDorfman/331819newsML.txt', 0.030168780392911345),\n",
       " ('TheresePoletti/157001newsML.txt', 0.023405502168807792),\n",
       " ('JohnMastrini/123158newsML.txt', 0.021812169861541535),\n",
       " ('RobinSidel/220676newsML.txt', 0.021118146275037938),\n",
       " ('RobinSidel/219316newsML.txt', 0.021118146275037938),\n",
       " ('JohnMastrini/18297newsML.txt', 0.020834045652503796),\n",
       " ('JohnMastrini/18529newsML.txt', 0.020288175460735136),\n",
       " ('JohnMastrini/13806newsML.txt', 0.016475149576270734),\n",
       " ('MarkBendeich/358701newsML.txt', 0.015643071314842917),\n",
       " ('BradDorfman/346831newsML.txt', 0.015643071314842917),\n",
       " ('MarkBendeich/358695newsML.txt', 0.015435189968466267),\n",
       " ('BradDorfman/199931newsML.txt', 0.013951928469995035),\n",
       " ('PatriciaCommins/143591newsML.txt', 0.013827357680084364),\n",
       " ('MichaelConnor/372558newsML.txt', 0.013389026456796387),\n",
       " ('AaronPressman/156814newsML.txt', 0.013312298511485233),\n",
       " ('SamuelPerry/10781newsML.txt', 0.012941482396959183),\n",
       " ('JaneMacartney/106841newsML.txt', 0.011443330493862923),\n",
       " ('BradDorfman/276360newsML.txt', 0.011249375739729653),\n",
       " ('EricAuchard/149671newsML.txt', 0.009948591392951492),\n",
       " ('KeithWeir/275481newsML.txt', 0.008619651540831812)]"
      ]
     },
     "execution_count": 64,
     "metadata": {},
     "output_type": "execute_result"
    }
   ],
   "source": [
    "RankingOrderTFIDF(monIndexMap,'merchandise')"
   ]
  },
  {
   "cell_type": "markdown",
   "metadata": {
    "collapsed": true
   },
   "source": [
    "Temps d'éxécution de la méthode\n",
    "(dépend du mot recherché, plus il est présent, plus la fonction sera longue)"
   ]
  },
  {
   "cell_type": "code",
   "execution_count": 65,
   "metadata": {},
   "outputs": [
    {
     "name": "stdout",
     "output_type": "stream",
     "text": [
      "temps d'execution de RankingOrderTFIDF() :  0.0010395050048828125\n"
     ]
    }
   ],
   "source": [
    "d=time()\n",
    "RankingOrderTFIDF(monIndexMap,'merchandise')\n",
    "f=time()\n",
    "print(\"temps d\\'execution de RankingOrderTFIDF() : \", f-d)"
   ]
  },
  {
   "cell_type": "markdown",
   "metadata": {
    "collapsed": true
   },
   "source": [
    "### 3.d. Répondre à une requête complexe (=phrase) en implémentant le modèle d'espace vectoriel"
   ]
  },
  {
   "cell_type": "markdown",
   "metadata": {},
   "source": [
    "Fonction pour rechercher un mot depuis un mot extrait de l'index (dans ce cas, pas besoin de faire les vérifications sur les stopWord ou stemming, puisque c'est déjà fait au moment de l'enregistrement du mot dans l'index)"
   ]
  },
  {
   "cell_type": "code",
   "execution_count": 68,
   "metadata": {
    "collapsed": true
   },
   "outputs": [],
   "source": [
    "def Research1WordInIndex(index,word):\n",
    "    try:\n",
    "        return set((index[word].keys())) #retourne les infos du mot\n",
    "    except:\n",
    "        print(\"Le mot \" + word +\" n'existe pas dans l'index \\n\")\n",
    "        return set()"
   ]
  },
  {
   "cell_type": "markdown",
   "metadata": {},
   "source": [
    "Fonction de création de la matrice selon la métrique choisie (par défaut, on prend TFIDF)"
   ]
  },
  {
   "cell_type": "code",
   "execution_count": 173,
   "metadata": {
    "collapsed": true
   },
   "outputs": [],
   "source": [
    "def createMat(index,metrique=\"TFIDF\"):\n",
    "    # Initialisation\n",
    "    row = []\n",
    "    col = []\n",
    "    data = []\n",
    "    listCorpus=createCorpusBis()\n",
    "    D = len(listCorpus)  #ie. nombre d'articles dans le corpus\n",
    "    nbIndex = len(index) # ie. nombre de mots dans l'index\n",
    "    i=0\n",
    "    # Pour tous les mots de l'index, on regarde tous les articles où il apparaît et on calcule le TF-IDF\n",
    "    for word in index.keys():\n",
    "        # indice i = ième mot de l'index\n",
    "        Nt = len(Research1WordInIndex(index, word))\n",
    "        IDF = math.log(D/(1+Nt))\n",
    "\n",
    "        for doc in index[word].keys():\n",
    "            \n",
    "            col.append(i)\n",
    "            row.append(index[word][doc][\"idArticle\"])\n",
    "            if metrique==\"BOW\":\n",
    "                data.append(1)\n",
    "            else :\n",
    "                if metrique==\"nbOcc\": #metrique choisie nombre d'occurence\n",
    "                    data.append(index[word][doc][\"occ\"])\n",
    "                else:\n",
    "                    TF = index[word][doc][\"occ\"]/index[word][doc][\"nbMots\"]\n",
    "                    if metrique==\"frq\": #metrique frequence\n",
    "                        data.append(TF)\n",
    "                    else: #par defaut on prend TF-IDF\n",
    "                        data.append(TF*IDF)\n",
    "        # On incrémente l'indice i pour chaque mot\n",
    "        i = i + 1\n",
    "\n",
    "    return coo_matrix((data,(row, col)),shape=(D,nbIndex)).toarray()"
   ]
  },
  {
   "cell_type": "markdown",
   "metadata": {},
   "source": [
    "Temps d'éxécution de la méthode\n",
    "(dépend du mot recherché, plus il est présent, plus la fonction sera longue)"
   ]
  },
  {
   "cell_type": "code",
   "execution_count": 174,
   "metadata": {
    "scrolled": true
   },
   "outputs": [
    {
     "name": "stdout",
     "output_type": "stream",
     "text": [
      "Temps de création de la matrice avec le bag of word : \n",
      " 1.456125020980835\n",
      "Temps de création de la matrice avec le nombre d'occurences : \n",
      " 0.405087947845459\n",
      "Temps de création de la matrice avec la fréquence : \n",
      " 0.4499509334564209\n",
      "Temps de création de la matrice avec la métrique TF-IDF : \n",
      " 0.42383337020874023\n"
     ]
    }
   ],
   "source": [
    "d = time()\n",
    "matriceBOW = createMat(monIndexMap,\"BOW\")\n",
    "f = time()\n",
    "print(\"Temps de création de la matrice avec le bag of word : \\n\", f-d)\n",
    "\n",
    "\n",
    "d = time()\n",
    "matriceNbOcc = createMat(monIndexMap,\"nbOcc\")\n",
    "f = time()\n",
    "print(\"Temps de création de la matrice avec le nombre d'occurences : \\n\", f-d)\n",
    "\n",
    "d = time()\n",
    "matriceFrq = createMat(monIndexMap,\"frq\")\n",
    "f = time()\n",
    "print(\"Temps de création de la matrice avec la fréquence : \\n\", f-d)\n",
    "\n",
    "d = time()\n",
    "matriceTFIDF = createMat(monIndexMap,\"TFIDF\")\n",
    "f = time()\n",
    "print(\"Temps de création de la matrice avec la métrique TF-IDF : \\n\", f-d)"
   ]
  },
  {
   "cell_type": "markdown",
   "metadata": {},
   "source": [
    "Affichage des matrices"
   ]
  },
  {
   "cell_type": "code",
   "execution_count": 175,
   "metadata": {},
   "outputs": [
    {
     "name": "stdout",
     "output_type": "stream",
     "text": [
      "Voici la matrice BOW : \n",
      " [[1 1 1 ..., 0 0 0]\n",
      " [1 0 1 ..., 0 0 0]\n",
      " [1 0 1 ..., 0 0 0]\n",
      " ..., \n",
      " [0 0 0 ..., 0 0 0]\n",
      " [0 0 0 ..., 1 1 1]\n",
      " [0 1 0 ..., 0 0 0]]\n",
      "\n",
      "\n",
      "Voici la matrice nbOcc : \n",
      " [[5 9 2 ..., 0 0 0]\n",
      " [1 0 1 ..., 0 0 0]\n",
      " [1 0 1 ..., 0 0 0]\n",
      " ..., \n",
      " [0 0 0 ..., 0 0 0]\n",
      " [0 0 0 ..., 3 2 2]\n",
      " [0 1 0 ..., 0 0 0]]\n",
      "\n",
      "\n",
      "Voici la matrice frq : \n",
      " [[ 0.01453488  0.02616279  0.00581395 ...,  0.          0.          0.        ]\n",
      " [ 0.00269542  0.          0.00269542 ...,  0.          0.          0.        ]\n",
      " [ 0.003003    0.          0.003003   ...,  0.          0.          0.        ]\n",
      " ..., \n",
      " [ 0.          0.          0.         ...,  0.          0.          0.        ]\n",
      " [ 0.          0.          0.         ...,  0.02884615  0.01923077\n",
      "   0.01923077]\n",
      " [ 0.          0.00398406  0.         ...,  0.          0.          0.        ]]\n",
      "\n",
      "\n",
      "Voici la matrice TF-IDF : \n",
      " [[ 0.02535048  0.06942459  0.00790382 ...,  0.          0.          0.        ]\n",
      " [ 0.00470111  0.          0.00366431 ...,  0.          0.          0.        ]\n",
      " [ 0.00523758  0.          0.00408246 ...,  0.          0.          0.        ]\n",
      " ..., \n",
      " [ 0.          0.          0.         ...,  0.          0.          0.        ]\n",
      " [ 0.          0.          0.         ...,  0.205699    0.13713267\n",
      "   0.13713267]\n",
      " [ 0.          0.01057196  0.         ...,  0.          0.          0.        ]]\n"
     ]
    }
   ],
   "source": [
    "print(\"Voici la matrice BOW : \\n\",matriceBOW)\n",
    "print(\"\\n\")\n",
    "print(\"Voici la matrice nbOcc : \\n\",matriceNbOcc)\n",
    "print(\"\\n\")\n",
    "print(\"Voici la matrice frq : \\n\",matriceFrq)\n",
    "print(\"\\n\")\n",
    "print(\"Voici la matrice TF-IDF : \\n\",matriceTFIDF)"
   ]
  },
  {
   "cell_type": "markdown",
   "metadata": {},
   "source": [
    "Fonction qui recherche une phrase à l'aide de la matrice de choix (en texte libre)"
   ]
  },
  {
   "cell_type": "code",
   "execution_count": 72,
   "metadata": {
    "collapsed": true
   },
   "outputs": [],
   "source": [
    "def findWithMatrice(index, matrice, phrase):\n",
    "    \n",
    "    # Enlève les caractères spéciaux + minuscules + split\n",
    "    phraseBis = re.findall(r'[a-z]+',phrase.lower())\n",
    "    listePhrase = [word for word in phraseBis if word not in stop]\n",
    "    listePhrase = [ps.stem(word) for word in listePhrase] ### STEMMING\n",
    "\n",
    "    # Création d'une liste de taille de l'index remplis que de 0\n",
    "    mots = [0 for i in range(len(index))]\n",
    "\n",
    "    # Liste des mots de l'index\n",
    "    keys = [k for k in index]\n",
    "\n",
    "    # On transforme les 0 de la liste en 1 pour tous les mots de la phrase\n",
    "    for mot in listePhrase:\n",
    "        if mot in keys:\n",
    "            position = keys.index(mot)\n",
    "            mots[position] = 1\n",
    "\n",
    "    # Produit matriciel avec la matrice TF-IDF\n",
    "    pos = np.dot(matrice,mots)\n",
    "\n",
    "    # Transformation de la liste\n",
    "    pos = enumerate(pos)\n",
    "    pos = sorted(pos, key=operator.itemgetter(1), reverse=True)\n",
    "    indexes = [e[0] for e in pos if e[1] != 0]\n",
    "\n",
    "    # Liste des fichiers\n",
    "    articles=[]\n",
    "    listCorpus=createCorpusBis()\n",
    "    for i in indexes:\n",
    "        articles.append(listCorpus[i][\"titre\"])\n",
    "\n",
    "    return articles"
   ]
  },
  {
   "cell_type": "markdown",
   "metadata": {},
   "source": [
    "#### Comparaison des matrices en temps"
   ]
  },
  {
   "cell_type": "markdown",
   "metadata": {},
   "source": [
    "On choisit une phrase : "
   ]
  },
  {
   "cell_type": "code",
   "execution_count": 210,
   "metadata": {
    "collapsed": true
   },
   "outputs": [],
   "source": [
    "phrase =\"The MercHaNdise Coucou Trade DEficit\""
   ]
  },
  {
   "cell_type": "markdown",
   "metadata": {},
   "source": [
    "Temps de recherche d'un phrase à partir de la matrice bag of word"
   ]
  },
  {
   "cell_type": "code",
   "execution_count": 211,
   "metadata": {},
   "outputs": [
    {
     "name": "stdout",
     "output_type": "stream",
     "text": [
      "Temps de recherche de la phrase (BOW) :  0.0985708236694336\n"
     ]
    }
   ],
   "source": [
    "d = time()\n",
    "researchBOW=findWithMatrice(monIndexMap,matriceBOW,phrase)\n",
    "f = time()\n",
    "print(\"Temps de recherche de la phrase (BOW) : \", f-d)\n",
    "tpsBOW=f-d"
   ]
  },
  {
   "cell_type": "markdown",
   "metadata": {},
   "source": [
    "Temps de recherche d'un phrase à partir de la matrice nombre d'occurences"
   ]
  },
  {
   "cell_type": "code",
   "execution_count": 180,
   "metadata": {},
   "outputs": [
    {
     "name": "stdout",
     "output_type": "stream",
     "text": [
      "Temps de recherche de la phrase (NbOcc) :  0.10541939735412598\n"
     ]
    }
   ],
   "source": [
    "d = time()\n",
    "researchNbOcc=findWithMatrice(monIndexMap,matriceNbOcc,phrase)\n",
    "f = time()\n",
    "print(\"Temps de recherche de la phrase (NbOcc) : \", f-d)\n",
    "tpsNbOcc=f-d"
   ]
  },
  {
   "cell_type": "markdown",
   "metadata": {},
   "source": [
    "Temps de recherche d'un phrase à partir de la matrice fréquence"
   ]
  },
  {
   "cell_type": "code",
   "execution_count": 181,
   "metadata": {},
   "outputs": [
    {
     "name": "stdout",
     "output_type": "stream",
     "text": [
      "Temps de recherche de la phrase (Frq) :  0.5546603202819824\n"
     ]
    }
   ],
   "source": [
    "d = time()\n",
    "researchFrq=findWithMatrice(monIndexMap,matriceFrq,phrase)\n",
    "f = time()\n",
    "print(\"Temps de recherche de la phrase (Frq) : \", f-d)\n",
    "tpsFrq=f-d"
   ]
  },
  {
   "cell_type": "markdown",
   "metadata": {},
   "source": [
    "Temps de recherche d'un phrase à partir de la matrice métrique TF-IDF"
   ]
  },
  {
   "cell_type": "code",
   "execution_count": 182,
   "metadata": {},
   "outputs": [
    {
     "name": "stdout",
     "output_type": "stream",
     "text": [
      "Temps de recherche de la phrase (TFIDF) :  0.08728647232055664\n"
     ]
    }
   ],
   "source": [
    "d = time()\n",
    "researchTFIDF=findWithMatrice(monIndexMap,matriceTFIDF,phrase)\n",
    "f = time()\n",
    "print(\"Temps de recherche de la phrase (TFIDF) : \", f-d)\n",
    "tpsTFIDF=f-d"
   ]
  },
  {
   "cell_type": "markdown",
   "metadata": {},
   "source": [
    "Voici les temps de recherches triés par ordre croissant : "
   ]
  },
  {
   "cell_type": "code",
   "execution_count": 187,
   "metadata": {},
   "outputs": [
    {
     "data": {
      "text/plain": [
       "[('TFIDF', 0.08728647232055664),\n",
       " ('BOW', 0.0967707633972168),\n",
       " ('nbOcc', 0.10541939735412598),\n",
       " ('frq', 0.5546603202819824)]"
      ]
     },
     "execution_count": 187,
     "metadata": {},
     "output_type": "execute_result"
    }
   ],
   "source": [
    "listTps = [(\"BOW\",tpsBOW),(\"nbOcc\", tpsNbOcc), (\"frq\", tpsFrq), (\"TFIDF\", tpsTFIDF)]\n",
    "listTpsSort = sorted(listTps, key=lambda colonne:colonne[1]) #trier le dico pour ordonner resultat\n",
    "listTpsSort"
   ]
  },
  {
   "cell_type": "markdown",
   "metadata": {},
   "source": [
    "--> Le temps le plus court est TFIDF"
   ]
  },
  {
   "cell_type": "markdown",
   "metadata": {},
   "source": [
    "#### Comparaison des matrices avec les sorties"
   ]
  },
  {
   "cell_type": "markdown",
   "metadata": {},
   "source": [
    "Affichage de la recherche avec bag of word"
   ]
  },
  {
   "cell_type": "code",
   "execution_count": 188,
   "metadata": {},
   "outputs": [
    {
     "name": "stdout",
     "output_type": "stream",
     "text": [
      "résultats avec matrice NbOBOWcc : \n",
      " ['JohnMastrini/159754newsML.txt', 'JohnMastrini/18297newsML.txt', 'JohnMastrini/18529newsML.txt', 'JohnMastrini/13806newsML.txt', 'JohnMastrini/123158newsML.txt', 'SarahDavison/386644newsML.txt', 'SarahDavison/365768newsML.txt', 'SarahDavison/213002newsML.txt', 'JonathanBirt/327653newsML.txt', 'AaronPressman/156814newsML.txt', 'EricAuchard/149671newsML.txt', 'ScottHillis/299129newsML.txt', 'WilliamKazer/208244newsML.txt', 'WilliamKazer/178884newsML.txt', 'WilliamKazer/180188newsML.txt', 'AlanCrosby/139110newsML.txt', 'AlanCrosby/135777newsML.txt', 'AlanCrosby/140051newsML.txt', 'AlanCrosby/136471newsML.txt', 'AlanCrosby/216602newsML.txt', 'AlanCrosby/217025newsML.txt', 'DarrenSchuettler/144792newsML.txt', 'DarrenSchuettler/168489newsML.txt', 'DarrenSchuettler/383585newsML.txt', 'DarrenSchuettler/144056newsML.txt', 'DarrenSchuettler/174369newsML.txt', 'LydiaZajc/130081newsML.txt', 'KeithWeir/275481newsML.txt', 'RobinSidel/113551newsML.txt', 'JanLopatka/10626newsML.txt', 'JanLopatka/163409newsML.txt', 'JanLopatka/10224newsML.txt', 'JanLopatka/163094newsML.txt', 'JohnMastrini/21246newsML.txt', 'JohnMastrini/266394newsML.txt', 'JohnMastrini/207961newsML.txt', 'JohnMastrini/105045newsML.txt', 'JohnMastrini/22903newsML.txt', 'JohnMastrini/242893newsML.txt', 'JohnMastrini/205953newsML.txt', 'MarkBendeich/358701newsML.txt', 'MarkBendeich/358695newsML.txt', \"LynneO'Donnell/204874newsML.txt\", \"LynneO'Donnell/112106newsML.txt\", \"LynneO'Donnell/180191newsML.txt\", \"LynneO'Donnell/23184newsML.txt\", \"LynneO'Donnell/198178newsML.txt\", \"LynneO'Donnell/10327newsML.txt\", \"LynneO'Donnell/27316newsML.txt\", \"LynneO'Donnell/265681newsML.txt\", \"LynneO'Donnell/244800newsML.txt\", \"LynneO'Donnell/248156newsML.txt\", \"LynneO'Donnell/247724newsML.txt\", \"LynneO'Donnell/125205newsML.txt\", \"LynneO'Donnell/125560newsML.txt\", \"LynneO'Donnell/158416newsML.txt\", \"LynneO'Donnell/115594newsML.txt\", \"LynneO'Donnell/159976newsML.txt\", \"LynneO'Donnell/146472newsML.txt\", \"LynneO'Donnell/20855newsML.txt\", \"LynneO'Donnell/229894newsML.txt\", \"LynneO'Donnell/169600newsML.txt\", \"LynneO'Donnell/148890newsML.txt\", \"LynneO'Donnell/121931newsML.txt\", \"LynneO'Donnell/17858newsML.txt\", \"LynneO'Donnell/110718newsML.txt\", \"LynneO'Donnell/238772newsML.txt\", \"LynneO'Donnell/102480newsML.txt\", \"LynneO'Donnell/151846newsML.txt\", \"LynneO'Donnell/258739newsML.txt\", \"LynneO'Donnell/187362newsML.txt\", \"LynneO'Donnell/146245newsML.txt\", \"LynneO'Donnell/29593newsML.txt\", \"LynneO'Donnell/116963newsML.txt\", \"LynneO'Donnell/2439newsML.txt\", \"LynneO'Donnell/114299newsML.txt\", \"LynneO'Donnell/158405newsML.txt\", \"LynneO'Donnell/111855newsML.txt\", \"LynneO'Donnell/166518newsML.txt\", \"LynneO'Donnell/15736newsML.txt\", \"LynneO'Donnell/2462newsML.txt\", \"LynneO'Donnell/12381newsML.txt\", 'EdnaFernandes/179688newsML.txt', 'EdnaFernandes/17343newsML.txt', 'EdnaFernandes/10193newsML.txt', 'EdnaFernandes/199220newsML.txt', 'EdnaFernandes/220686newsML.txt', 'EdnaFernandes/199226newsML.txt', 'EdnaFernandes/195876newsML.txt', 'EdnaFernandes/219541newsML.txt', 'EdnaFernandes/15633newsML.txt', 'EdnaFernandes/119734newsML.txt', 'EdnaFernandes/223214newsML.txt', 'EdnaFernandes/117960newsML.txt', 'EdnaFernandes/214915newsML.txt', 'EdnaFernandes/178869newsML.txt', 'EdnaFernandes/10264newsML.txt', 'SarahDavison/26419newsML.txt', 'SarahDavison/428346newsML.txt', 'SarahDavison/387956newsML.txt', 'SarahDavison/396743newsML.txt', 'SarahDavison/148891newsML.txt', 'SarahDavison/426661newsML.txt', 'SarahDavison/169592newsML.txt', 'SarahDavison/196732newsML.txt', 'SarahDavison/414690newsML.txt', 'SarahDavison/190734newsML.txt', 'SarahDavison/310313newsML.txt', 'SarahDavison/21569newsML.txt', 'SarahDavison/383224newsML.txt', 'SarahDavison/24260newsML.txt', 'SarahDavison/429225newsML.txt', 'SarahDavison/405565newsML.txt', 'SarahDavison/396740newsML.txt', 'SarahDavison/392316newsML.txt', 'SarahDavison/310654newsML.txt', 'SarahDavison/352851newsML.txt', 'SarahDavison/166481newsML.txt', 'SarahDavison/317706newsML.txt', 'SarahDavison/409023newsML.txt', 'SarahDavison/31981newsML.txt', 'TimFarrand/236371newsML.txt', 'TimFarrand/225561newsML.txt', 'TimFarrand/234885newsML.txt', 'TimFarrand/229685newsML.txt', 'TimFarrand/167803newsML.txt', 'TimFarrand/160644newsML.txt', 'TimFarrand/159528newsML.txt', 'TimFarrand/177684newsML.txt', 'TimFarrand/201017newsML.txt', 'TimFarrand/229159newsML.txt', 'TimFarrand/240674newsML.txt', 'TimFarrand/154492newsML.txt', 'TimFarrand/242992newsML.txt', 'TimFarrand/114953newsML.txt', 'TimFarrand/152851newsML.txt', 'TimFarrand/127403newsML.txt', 'TimFarrand/224668newsML.txt', 'TimFarrand/235003newsML.txt', 'TimFarrand/242910newsML.txt', 'TimFarrand/238095newsML.txt', 'TimFarrand/220852newsML.txt', 'TimFarrand/237957newsML.txt', 'TimFarrand/210560newsML.txt', 'TimFarrand/15631newsML.txt', 'TimFarrand/149844newsML.txt', 'TimFarrand/173770newsML.txt', 'TimFarrand/10265newsML.txt', 'TimFarrand/175594newsML.txt', 'KevinDrawbaugh/10771newsML.txt', 'KevinDrawbaugh/243558newsML.txt', 'KevinDrawbaugh/291432newsML.txt', 'KevinDrawbaugh/293659newsML.txt', 'KevinDrawbaugh/270070newsML.txt', 'KevinDrawbaugh/137042newsML.txt', 'KevinDrawbaugh/283914newsML.txt', 'KevinDrawbaugh/191657newsML.txt', 'KevinDrawbaugh/293808newsML.txt', 'KevinDrawbaugh/311940newsML.txt', 'KevinDrawbaugh/233324newsML.txt', 'KevinDrawbaugh/110894newsML.txt', 'KevinDrawbaugh/284178newsML.txt', 'KevinDrawbaugh/299416newsML.txt', 'KevinDrawbaugh/13838newsML.txt', 'KevinDrawbaugh/317846newsML.txt', 'KevinDrawbaugh/323618newsML.txt', 'KevinDrawbaugh/178086newsML.txt', 'KevinDrawbaugh/16057newsML.txt', 'JonathanBirt/169040newsML.txt', 'JonathanBirt/331672newsML.txt', 'JonathanBirt/174287newsML.txt', 'JonathanBirt/27668newsML.txt', 'JonathanBirt/164502newsML.txt', 'JonathanBirt/167309newsML.txt', 'JonathanBirt/319856newsML.txt', 'JonathanBirt/200640newsML.txt', 'JonathanBirt/106076newsML.txt', 'JonathanBirt/339075newsML.txt', 'JonathanBirt/107612newsML.txt', 'JonathanBirt/26877newsML.txt', 'JonathanBirt/219548newsML.txt', 'JonathanBirt/165827newsML.txt', 'JonathanBirt/300439newsML.txt', 'JonathanBirt/289165newsML.txt', 'JonathanBirt/338600newsML.txt', 'JonathanBirt/331603newsML.txt', 'JonathanBirt/172185newsML.txt', 'AaronPressman/182596newsML.txt', 'AaronPressman/398094newsML.txt', 'AaronPressman/106247newsML.txt', 'AaronPressman/120600newsML.txt', 'AaronPressman/401260newsML.txt', 'AaronPressman/394237newsML.txt', 'AaronPressman/237175newsML.txt', 'AaronPressman/269999newsML.txt', 'AaronPressman/233150newsML.txt', 'AaronPressman/186392newsML.txt', 'AaronPressman/378457newsML.txt', 'AaronPressman/330967newsML.txt', 'EricAuchard/261502newsML.txt', 'EricAuchard/264271newsML.txt', 'EricAuchard/120484newsML.txt', 'EricAuchard/227670newsML.txt', 'EricAuchard/133874newsML.txt', 'EricAuchard/121521newsML.txt', 'EricAuchard/186282newsML.txt', 'EricAuchard/216338newsML.txt', 'EricAuchard/292697newsML.txt', 'EricAuchard/100385newsML.txt', 'EricAuchard/13583newsML.txt', 'EricAuchard/210069newsML.txt', 'EricAuchard/263257newsML.txt', 'EricAuchard/13415newsML.txt', 'EricAuchard/183534newsML.txt', 'EricAuchard/115060newsML.txt', 'EricAuchard/260570newsML.txt', 'EricAuchard/175415newsML.txt', 'EricAuchard/117213newsML.txt', 'EricAuchard/18802newsML.txt', 'EricAuchard/18223newsML.txt', 'EricAuchard/183344newsML.txt', 'EricAuchard/172851newsML.txt', 'EricAuchard/209979newsML.txt', 'EricAuchard/139624newsML.txt', 'EricAuchard/12877newsML.txt', 'EricAuchard/116212newsML.txt', 'EricAuchard/205742newsML.txt', 'EricAuchard/288069newsML.txt', 'EricAuchard/111437newsML.txt', 'EricAuchard/13068newsML.txt', 'JoWinterbottom/200668newsML.txt', 'JoWinterbottom/159560newsML.txt', 'JoWinterbottom/195814newsML.txt', 'JoWinterbottom/203926newsML.txt', 'JoWinterbottom/126147newsML.txt', 'JoWinterbottom/203923newsML.txt', 'JoWinterbottom/185674newsML.txt', 'JoWinterbottom/144390newsML.txt', 'JoWinterbottom/183638newsML.txt', 'JoWinterbottom/210519newsML.txt', 'JoWinterbottom/197541newsML.txt', 'JoWinterbottom/191718newsML.txt', 'JoWinterbottom/103380newsML.txt', 'JoWinterbottom/141413newsML.txt', 'JoWinterbottom/148227newsML.txt', 'JoWinterbottom/186890newsML.txt', 'JoWinterbottom/186888newsML.txt', 'JoWinterbottom/185611newsML.txt', 'JoWinterbottom/184783newsML.txt', 'JoWinterbottom/183716newsML.txt', 'JoWinterbottom/190268newsML.txt', 'KirstinRidley/187985newsML.txt', 'KirstinRidley/157761newsML.txt', 'KirstinRidley/371805newsML.txt', 'KirstinRidley/163112newsML.txt', 'KirstinRidley/297203newsML.txt', 'KirstinRidley/341864newsML.txt', 'KirstinRidley/294355newsML.txt', 'KirstinRidley/189900newsML.txt', 'KirstinRidley/254351newsML.txt', 'KirstinRidley/341840newsML.txt', 'KirstinRidley/314384newsML.txt', 'KirstinRidley/27422newsML.txt', 'KirstinRidley/156083newsML.txt', 'KirstinRidley/394816newsML.txt', 'KirstinRidley/163119newsML.txt', 'KirstinRidley/188419newsML.txt', 'KirstinRidley/167814newsML.txt', 'PatriciaCommins/108222newsML.txt', 'PatriciaCommins/258801newsML.txt', 'PatriciaCommins/255733newsML.txt', 'PatriciaCommins/205566newsML.txt', 'PatriciaCommins/132671newsML.txt', 'PatriciaCommins/18217newsML.txt', 'PatriciaCommins/143591newsML.txt', 'PatriciaCommins/237159newsML.txt', 'PatriciaCommins/270137newsML.txt', 'PatriciaCommins/117099newsML.txt', 'PatriciaCommins/178068newsML.txt', 'ScottHillis/254803newsML.txt', 'ScottHillis/194787newsML.txt', 'ScottHillis/165123newsML.txt', 'ScottHillis/130513newsML.txt', 'ScottHillis/145712newsML.txt', 'ScottHillis/318653newsML.txt', 'ScottHillis/282007newsML.txt', 'ScottHillis/184219newsML.txt', 'ScottHillis/195357newsML.txt', 'ScottHillis/340709newsML.txt', 'ScottHillis/140340newsML.txt', 'ScottHillis/161138newsML.txt', 'ScottHillis/142465newsML.txt', 'ScottHillis/140273newsML.txt', 'ScottHillis/295992newsML.txt', 'KarlPenhaul/314740newsML.txt', 'KarlPenhaul/281959newsML.txt', 'KarlPenhaul/156602newsML.txt', 'KarlPenhaul/266933newsML.txt', 'KarlPenhaul/311686newsML.txt', 'KarlPenhaul/305571newsML.txt', 'KarlPenhaul/343706newsML.txt', 'KarlPenhaul/130351newsML.txt', 'KarlPenhaul/305637newsML.txt', 'WilliamKazer/239878newsML.txt', 'WilliamKazer/165109newsML.txt', 'WilliamKazer/188958newsML.txt', 'WilliamKazer/153448newsML.txt', 'WilliamKazer/28223newsML.txt', 'WilliamKazer/195340newsML.txt', 'WilliamKazer/113095newsML.txt', 'WilliamKazer/222819newsML.txt', 'WilliamKazer/246276newsML.txt', 'WilliamKazer/147523newsML.txt', 'WilliamKazer/12909newsML.txt', 'WilliamKazer/129188newsML.txt', 'WilliamKazer/126643newsML.txt', 'WilliamKazer/235763newsML.txt', 'WilliamKazer/178505newsML.txt', 'WilliamKazer/113097newsML.txt', 'WilliamKazer/247720newsML.txt', 'WilliamKazer/206559newsML.txt', 'WilliamKazer/268647newsML.txt', 'WilliamKazer/196734newsML.txt', 'WilliamKazer/257526newsML.txt', 'WilliamKazer/264132newsML.txt', 'WilliamKazer/247829newsML.txt', 'WilliamKazer/148885newsML.txt', 'WilliamKazer/281216newsML.txt', 'AlanCrosby/10650newsML.txt', 'AlanCrosby/194667newsML.txt', 'AlanCrosby/110434newsML.txt', 'AlanCrosby/133183newsML.txt', 'AlanCrosby/134960newsML.txt', 'AlanCrosby/225900newsML.txt', 'AlanCrosby/142624newsML.txt', 'AlanCrosby/224640newsML.txt', 'AlanCrosby/143222newsML.txt', 'AlanCrosby/188747newsML.txt', 'AlanCrosby/196144newsML.txt', 'AlanCrosby/10306newsML.txt', 'AlanCrosby/199535newsML.txt', 'AlanCrosby/156046newsML.txt', 'AlanCrosby/156330newsML.txt', 'KevinMorrison/292666newsML.txt', 'KevinMorrison/198071newsML.txt', 'KevinMorrison/223897newsML.txt', 'KevinMorrison/176105newsML.txt', 'KevinMorrison/244698newsML.txt', 'KevinMorrison/221499newsML.txt', 'KevinMorrison/244734newsML.txt', 'KevinMorrison/256350newsML.txt', 'KevinMorrison/184150newsML.txt', 'KevinMorrison/292246newsML.txt', 'KevinMorrison/304259newsML.txt', 'KevinMorrison/109875newsML.txt', 'KevinMorrison/15226newsML.txt', 'KevinMorrison/184096newsML.txt', 'KevinMorrison/223858newsML.txt', 'KevinMorrison/229778newsML.txt', 'KevinMorrison/218602newsML.txt', 'KevinMorrison/115436newsML.txt', 'KevinMorrison/184143newsML.txt', 'KevinMorrison/109876newsML.txt', 'KevinMorrison/256320newsML.txt', 'FumikoFujisaki/13494newsML.txt', 'FumikoFujisaki/383379newsML.txt', 'FumikoFujisaki/10028newsML.txt', 'FumikoFujisaki/34837newsML.txt', 'FumikoFujisaki/330736newsML.txt', 'FumikoFujisaki/140372newsML.txt', 'FumikoFujisaki/28301newsML.txt', 'FumikoFujisaki/247828newsML.txt', 'FumikoFujisaki/23340newsML.txt', 'FumikoFujisaki/257754newsML.txt', 'FumikoFujisaki/348688newsML.txt', 'FumikoFujisaki/184337newsML.txt', 'FumikoFujisaki/123528newsML.txt', 'FumikoFujisaki/257487newsML.txt', 'FumikoFujisaki/402531newsML.txt', 'FumikoFujisaki/155075newsML.txt', 'FumikoFujisaki/257776newsML.txt', 'FumikoFujisaki/103993newsML.txt', 'FumikoFujisaki/142460newsML.txt', 'DarrenSchuettler/377885newsML.txt', 'DarrenSchuettler/175068newsML.txt', 'DarrenSchuettler/143081newsML.txt', 'DarrenSchuettler/34117newsML.txt', 'DarrenSchuettler/144044newsML.txt', 'DarrenSchuettler/248687newsML.txt', 'DarrenSchuettler/358675newsML.txt', 'DarrenSchuettler/237697newsML.txt', 'DarrenSchuettler/213721newsML.txt', 'DarrenSchuettler/348501newsML.txt', 'DarrenSchuettler/162018newsML.txt', 'DarrenSchuettler/172235newsML.txt', 'DarrenSchuettler/233587newsML.txt', 'DarrenSchuettler/236470newsML.txt', 'DarrenSchuettler/364643newsML.txt', 'DarrenSchuettler/128985newsML.txt', 'DarrenSchuettler/181864newsML.txt', 'DarrenSchuettler/161718newsML.txt', 'DarrenSchuettler/156181newsML.txt', 'DarrenSchuettler/139755newsML.txt', 'ToddNissen/120415newsML.txt', 'ToddNissen/271791newsML.txt', 'ToddNissen/191372newsML.txt', 'ToddNissen/261367newsML.txt', 'ToddNissen/245562newsML.txt', 'ToddNissen/217896newsML.txt', 'ToddNissen/217362newsML.txt', 'MarcelMichelson/121701newsML.txt', 'MarcelMichelson/174150newsML.txt', 'MarcelMichelson/158085newsML.txt', 'MarcelMichelson/197891newsML.txt', 'MarcelMichelson/210745newsML.txt', 'MarcelMichelson/217650newsML.txt', 'KouroshKarimkhany/203674newsML.txt', 'KouroshKarimkhany/170654newsML.txt', 'KouroshKarimkhany/272490newsML.txt', 'KouroshKarimkhany/290979newsML.txt', 'KouroshKarimkhany/331262newsML.txt', 'KouroshKarimkhany/101520newsML.txt', 'KouroshKarimkhany/124768newsML.txt', 'KouroshKarimkhany/298368newsML.txt', 'KouroshKarimkhany/189198newsML.txt', 'KouroshKarimkhany/121032newsML.txt', 'KouroshKarimkhany/202658newsML.txt', 'KouroshKarimkhany/285535newsML.txt', 'KouroshKarimkhany/172988newsML.txt', 'KouroshKarimkhany/315358newsML.txt', 'KouroshKarimkhany/264379newsML.txt', 'KouroshKarimkhany/311931newsML.txt', 'KouroshKarimkhany/299663newsML.txt', 'KouroshKarimkhany/330773newsML.txt', 'KouroshKarimkhany/311972newsML.txt', 'KouroshKarimkhany/287796newsML.txt', 'KouroshKarimkhany/129309newsML.txt', 'KouroshKarimkhany/287103newsML.txt', 'KouroshKarimkhany/120392newsML.txt', 'GrahamEarnshaw/258604newsML.txt', 'GrahamEarnshaw/270340newsML.txt', 'GrahamEarnshaw/277010newsML.txt', 'GrahamEarnshaw/190410newsML.txt', 'GrahamEarnshaw/252118newsML.txt', 'GrahamEarnshaw/273087newsML.txt', 'GrahamEarnshaw/247793newsML.txt', 'GrahamEarnshaw/217296newsML.txt', 'GrahamEarnshaw/249198newsML.txt', 'GrahamEarnshaw/201228newsML.txt', 'GrahamEarnshaw/229903newsML.txt', 'GrahamEarnshaw/231139newsML.txt', 'GrahamEarnshaw/172788newsML.txt', 'GrahamEarnshaw/114251newsML.txt', 'GrahamEarnshaw/187405newsML.txt', 'GrahamEarnshaw/271134newsML.txt', 'GrahamEarnshaw/244929newsML.txt', 'GrahamEarnshaw/232804newsML.txt', 'GrahamEarnshaw/134309newsML.txt', 'GrahamEarnshaw/274219newsML.txt', 'GrahamEarnshaw/103906newsML.txt', 'GrahamEarnshaw/226150newsML.txt', 'GrahamEarnshaw/265664newsML.txt', 'GrahamEarnshaw/254834newsML.txt', 'GrahamEarnshaw/271168newsML.txt', 'GrahamEarnshaw/267059newsML.txt', 'GrahamEarnshaw/204791newsML.txt', 'MichaelConnor/184787newsML.txt', 'MichaelConnor/120404newsML.txt', 'MichaelConnor/124763newsML.txt', 'MichaelConnor/186990newsML.txt', 'MichaelConnor/261401newsML.txt', 'MichaelConnor/324861newsML.txt', 'MichaelConnor/353261newsML.txt', 'MichaelConnor/307864newsML.txt', 'MichaelConnor/323784newsML.txt', 'MichaelConnor/328867newsML.txt', 'MichaelConnor/372558newsML.txt', 'MichaelConnor/305809newsML.txt', 'MureDickie/187394newsML.txt', 'MureDickie/105255newsML.txt', 'MureDickie/169588newsML.txt', 'MureDickie/209808newsML.txt', 'MureDickie/199837newsML.txt', 'MureDickie/156653newsML.txt', 'MureDickie/117025newsML.txt', 'MureDickie/209826newsML.txt', 'MureDickie/163678newsML.txt', 'MureDickie/159960newsML.txt', 'MureDickie/174493newsML.txt', 'MureDickie/166433newsML.txt', 'MureDickie/192419newsML.txt', 'MureDickie/169608newsML.txt', 'MureDickie/186174newsML.txt', 'MureDickie/126632newsML.txt', 'MureDickie/108143newsML.txt', 'MureDickie/167928newsML.txt', 'MureDickie/158417newsML.txt', 'BradDorfman/240151newsML.txt', 'BradDorfman/156808newsML.txt', 'BradDorfman/226801newsML.txt', 'BradDorfman/199931newsML.txt', 'BradDorfman/343945newsML.txt', 'BradDorfman/33758newsML.txt', 'BradDorfman/200749newsML.txt', 'BradDorfman/331819newsML.txt', 'BradDorfman/276360newsML.txt', 'BradDorfman/314102newsML.txt', 'BradDorfman/346831newsML.txt', 'BradDorfman/344162newsML.txt', 'BradDorfman/24388newsML.txt', 'BradDorfman/309066newsML.txt', 'BradDorfman/209880newsML.txt', 'JoeOrtiz/364594newsML.txt', 'JoeOrtiz/100593newsML.txt', 'JoeOrtiz/309597newsML.txt', 'JoeOrtiz/29051newsML.txt', 'JoeOrtiz/364126newsML.txt', 'JoeOrtiz/290471newsML.txt', 'JoeOrtiz/247024newsML.txt', 'JoeOrtiz/100618newsML.txt', 'JoeOrtiz/148240newsML.txt', 'JoeOrtiz/343304newsML.txt', 'JoeOrtiz/180577newsML.txt', 'JoeOrtiz/100554newsML.txt', 'JoeOrtiz/223783newsML.txt', 'JoeOrtiz/189829newsML.txt', 'LynnleyBrowning/153131newsML.txt', 'LynnleyBrowning/236661newsML.txt', 'LynnleyBrowning/159726newsML.txt', 'LynnleyBrowning/269345newsML.txt', 'LynnleyBrowning/163468newsML.txt', 'LynnleyBrowning/263781newsML.txt', 'LynnleyBrowning/27013newsML.txt', 'LynnleyBrowning/185549newsML.txt', 'LynnleyBrowning/166214newsML.txt', 'LynnleyBrowning/266599newsML.txt', 'LynnleyBrowning/318451newsML.txt', 'LynnleyBrowning/263722newsML.txt', 'LynnleyBrowning/103703newsML.txt', 'LynnleyBrowning/114005newsML.txt', 'LynnleyBrowning/102195newsML.txt', 'LynnleyBrowning/305426newsML.txt', 'LynnleyBrowning/202315newsML.txt', 'LynnleyBrowning/130255newsML.txt', 'LynnleyBrowning/298904newsML.txt', 'LynnleyBrowning/324280newsML.txt', 'LynnleyBrowning/230857newsML.txt', 'SimonCowell/420566newsML.txt', 'SimonCowell/402074newsML.txt', 'SimonCowell/385542newsML.txt', 'SimonCowell/400494newsML.txt', 'SimonCowell/405124newsML.txt', 'SimonCowell/303707newsML.txt', 'SimonCowell/450839newsML.txt', 'SimonCowell/409884newsML.txt', 'SimonCowell/448236newsML.txt', 'SimonCowell/255730newsML.txt', 'SimonCowell/312858newsML.txt', 'SimonCowell/347888newsML.txt', 'SimonCowell/424503newsML.txt', 'SimonCowell/390568newsML.txt', 'SimonCowell/248599newsML.txt', 'SimonCowell/440535newsML.txt', 'SimonCowell/442065newsML.txt', 'SimonCowell/405057newsML.txt', 'SimonCowell/447824newsML.txt', 'SimonCowell/15627newsML.txt', 'HeatherScoffield/163214newsML.txt', 'HeatherScoffield/133016newsML.txt', 'HeatherScoffield/230639newsML.txt', 'HeatherScoffield/133017newsML.txt', 'HeatherScoffield/233588newsML.txt', 'HeatherScoffield/216816newsML.txt', 'HeatherScoffield/258231newsML.txt', 'HeatherScoffield/295589newsML.txt', 'HeatherScoffield/252855newsML.txt', 'HeatherScoffield/233579newsML.txt', 'HeatherScoffield/191069newsML.txt', 'HeatherScoffield/129447newsML.txt', 'HeatherScoffield/219630newsML.txt', 'HeatherScoffield/2751newsML.txt', 'HeatherScoffield/238607newsML.txt', 'HeatherScoffield/248690newsML.txt', 'HeatherScoffield/251147newsML.txt', 'HeatherScoffield/266003newsML.txt', 'HeatherScoffield/266002newsML.txt', 'HeatherScoffield/204659newsML.txt', 'HeatherScoffield/195125newsML.txt', 'TanEeLyn/250732newsML.txt', 'TanEeLyn/123487newsML.txt', 'TanEeLyn/250726newsML.txt', 'TanEeLyn/41230newsML.txt', 'TanEeLyn/163670newsML.txt', 'TanEeLyn/336357newsML.txt', 'TanEeLyn/426779newsML.txt', 'TanEeLyn/264108newsML.txt', 'LydiaZajc/233590newsML.txt', 'LydiaZajc/308198newsML.txt', 'LydiaZajc/227933newsML.txt', 'LydiaZajc/362785newsML.txt', 'LydiaZajc/216822newsML.txt', 'LydiaZajc/345128newsML.txt', 'LydiaZajc/356565newsML.txt', 'LydiaZajc/172241newsML.txt', 'LydiaZajc/364632newsML.txt', 'LydiaZajc/163197newsML.txt', 'LydiaZajc/213719newsML.txt', 'LydiaZajc/174373newsML.txt', 'LydiaZajc/236474newsML.txt', 'LydiaZajc/334277newsML.txt', 'LydiaZajc/219628newsML.txt', 'LydiaZajc/329147newsML.txt', 'LydiaZajc/305250newsML.txt', 'LydiaZajc/224725newsML.txt', 'LydiaZajc/302437newsML.txt', 'LydiaZajc/162222newsML.txt', 'LydiaZajc/207278newsML.txt', 'LydiaZajc/165902newsML.txt', 'LydiaZajc/188535newsML.txt', 'LydiaZajc/316724newsML.txt', 'LydiaZajc/15592newsML.txt', 'LydiaZajc/326409newsML.txt', 'LydiaZajc/366471newsML.txt', 'LydiaZajc/311319newsML.txt', 'LydiaZajc/2387newsML.txt', 'LydiaZajc/230638newsML.txt', 'LydiaZajc/202140newsML.txt', 'LydiaZajc/10274newsML.txt', 'LydiaZajc/164298newsML.txt', 'LydiaZajc/185720newsML.txt', 'LydiaZajc/332252newsML.txt', 'LydiaZajc/239275newsML.txt', 'DavidLawder/170305newsML.txt', 'DavidLawder/164658newsML.txt', 'DavidLawder/150717newsML.txt', 'DavidLawder/148215newsML.txt', 'DavidLawder/162531newsML.txt', 'DavidLawder/148055newsML.txt', 'DavidLawder/162152newsML.txt', 'DavidLawder/126792newsML.txt', 'DavidLawder/163873newsML.txt', 'DavidLawder/148624newsML.txt', 'DavidLawder/156823newsML.txt', 'KeithWeir/265140newsML.txt', 'KeithWeir/22411newsML.txt', 'KeithWeir/223176newsML.txt', 'KeithWeir/202015newsML.txt', 'KeithWeir/21070newsML.txt', 'KeithWeir/117955newsML.txt', 'KeithWeir/172133newsML.txt', 'KeithWeir/161738newsML.txt', 'KeithWeir/2344newsML.txt', 'KeithWeir/117941newsML.txt', 'KeithWeir/161753newsML.txt', 'KeithWeir/164490newsML.txt', 'KeithWeir/117958newsML.txt', 'KeithWeir/163109newsML.txt', 'KeithWeir/265008newsML.txt', 'KeithWeir/181588newsML.txt', 'KeithWeir/259522newsML.txt', 'KeithWeir/162021newsML.txt', 'PeterHumphrey/184622newsML.txt', 'PeterHumphrey/250825newsML.txt', 'PeterHumphrey/235690newsML.txt', 'PeterHumphrey/195348newsML.txt', 'PeterHumphrey/271287newsML.txt', 'PeterHumphrey/238764newsML.txt', 'PeterHumphrey/271684newsML.txt', 'PeterHumphrey/190619newsML.txt', 'RobinSidel/219316newsML.txt', 'RobinSidel/10726newsML.txt', 'RobinSidel/163771newsML.txt', 'RobinSidel/156766newsML.txt', 'RobinSidel/196990newsML.txt', 'RobinSidel/243684newsML.txt', 'RobinSidel/164273newsML.txt', 'RobinSidel/110827newsML.txt', 'RobinSidel/129289newsML.txt', 'RobinSidel/216335newsML.txt', 'RobinSidel/110986newsML.txt', 'RobinSidel/243641newsML.txt', 'RobinSidel/220676newsML.txt', 'RobinSidel/147604newsML.txt', 'RobinSidel/153574newsML.txt', 'JanLopatka/185875newsML.txt', 'JanLopatka/293216newsML.txt', 'JanLopatka/293006newsML.txt', 'JanLopatka/177552newsML.txt', 'JanLopatka/175940newsML.txt', 'JanLopatka/175835newsML.txt', 'JanLopatka/290685newsML.txt', 'JanLopatka/226489newsML.txt', 'JanLopatka/230755newsML.txt', 'JanLopatka/224921newsML.txt', 'JanLopatka/295717newsML.txt', 'PierreTran/134014newsML.txt', 'PierreTran/103612newsML.txt', 'PierreTran/270873newsML.txt', 'PierreTran/319304newsML.txt', 'PierreTran/37710newsML.txt', 'PierreTran/303195newsML.txt', 'PierreTran/286787newsML.txt', 'PierreTran/134012newsML.txt', 'PierreTran/187064newsML.txt', 'PierreTran/137348newsML.txt', 'PierreTran/37690newsML.txt', 'PierreTran/379739newsML.txt', 'PierreTran/135536newsML.txt', 'TheresePoletti/157001newsML.txt', 'TheresePoletti/120387newsML.txt', 'TheresePoletti/283077newsML.txt', 'TheresePoletti/242113newsML.txt', 'TheresePoletti/189987newsML.txt', 'TheresePoletti/200003newsML.txt', 'TheresePoletti/246358newsML.txt', 'TheresePoletti/182700newsML.txt', 'TheresePoletti/249362newsML.txt', 'TheresePoletti/181674newsML.txt', 'TheresePoletti/27551newsML.txt', 'TheresePoletti/186457newsML.txt', 'TheresePoletti/179117newsML.txt', 'TheresePoletti/203129newsML.txt', 'TheresePoletti/187047newsML.txt', 'TheresePoletti/257205newsML.txt', 'TheresePoletti/146012newsML.txt', 'TheresePoletti/242590newsML.txt', 'TheresePoletti/203028newsML.txt', 'TheresePoletti/246460newsML.txt', 'AlexanderSmith/18227newsML.txt', 'AlexanderSmith/110282newsML.txt', 'AlexanderSmith/302382newsML.txt', 'AlexanderSmith/251540newsML.txt', 'AlexanderSmith/21127newsML.txt', 'AlexanderSmith/16167newsML.txt', 'AlexanderSmith/268005newsML.txt', 'AlexanderSmith/240608newsML.txt', 'AlexanderSmith/109096newsML.txt', 'AlexanderSmith/220666newsML.txt', 'AlexanderSmith/304231newsML.txt', 'AlexanderSmith/224655newsML.txt', 'AlexanderSmith/144367newsML.txt', 'AlexanderSmith/179671newsML.txt', 'AlexanderSmith/219512newsML.txt', 'AlexanderSmith/23876newsML.txt', 'AlexanderSmith/188417newsML.txt', 'AlexanderSmith/18111newsML.txt', 'AlexanderSmith/239202newsML.txt', 'AlexanderSmith/219521newsML.txt', 'RogerFillion/154675newsML.txt', 'RogerFillion/215313newsML.txt', 'RogerFillion/173423newsML.txt', 'RogerFillion/177017newsML.txt', 'RogerFillion/146861newsML.txt', 'RogerFillion/32727newsML.txt', 'RogerFillion/215305newsML.txt', 'RogerFillion/214814newsML.txt', 'RogerFillion/237323newsML.txt', 'RogerFillion/217357newsML.txt', 'RogerFillion/360479newsML.txt', 'RogerFillion/351344newsML.txt', 'RogerFillion/218296newsML.txt', 'RogerFillion/217899newsML.txt', 'JimGilchrist/159926newsML.txt', 'JimGilchrist/186190newsML.txt', 'JimGilchrist/130537newsML.txt', 'JimGilchrist/172811newsML.txt', 'JimGilchrist/133504newsML.txt', 'SamuelPerry/196870newsML.txt', 'SamuelPerry/137035newsML.txt', 'SamuelPerry/138944newsML.txt', 'SamuelPerry/309801newsML.txt', 'SamuelPerry/207747newsML.txt', 'SamuelPerry/207693newsML.txt', 'SamuelPerry/197518newsML.txt', 'SamuelPerry/199947newsML.txt', 'SamuelPerry/206811newsML.txt', 'SamuelPerry/10781newsML.txt', 'SamuelPerry/310667newsML.txt', 'SamuelPerry/137812newsML.txt', 'SamuelPerry/181711newsML.txt', 'SamuelPerry/178271newsML.txt', 'SamuelPerry/142698newsML.txt', 'SamuelPerry/196664newsML.txt', 'SamuelPerry/189155newsML.txt', 'SamuelPerry/144030newsML.txt', 'SamuelPerry/151392newsML.txt', 'SamuelPerry/120398newsML.txt', 'BenjaminKangLim/187423newsML.txt', 'BenjaminKangLim/155439newsML.txt', 'BenjaminKangLim/189031newsML.txt', 'BenjaminKangLim/15741newsML.txt', 'BenjaminKangLim/24300newsML.txt', 'BenjaminKangLim/186173newsML.txt', 'BenjaminKangLim/18363newsML.txt', 'BenjaminKangLim/102444newsML.txt', 'BenjaminKangLim/192394newsML.txt', 'BenjaminKangLim/204845newsML.txt', 'BenjaminKangLim/174581newsML.txt', 'BenjaminKangLim/195350newsML.txt', 'BenjaminKangLim/21575newsML.txt', 'MartinWolk/311937newsML.txt', 'MartinWolk/275458newsML.txt', 'MartinWolk/312192newsML.txt', 'MartinWolk/127151newsML.txt', 'MartinWolk/274876newsML.txt', 'MartinWolk/20801newsML.txt', 'MartinWolk/315688newsML.txt', 'MartinWolk/130607newsML.txt', 'MartinWolk/183836newsML.txt', 'MartinWolk/130622newsML.txt', 'MartinWolk/316912newsML.txt', 'JohnMastrini/263693newsML.txt', 'JohnMastrini/266601newsML.txt', 'JohnMastrini/153158newsML.txt', 'JohnMastrini/18320newsML.txt', 'JohnMastrini/266669newsML.txt', 'JohnMastrini/195069newsML.txt', 'JohnMastrini/179858newsML.txt', 'JohnMastrini/192116newsML.txt', 'JohnMastrini/281893newsML.txt', 'JohnMastrini/195181newsML.txt', 'JohnMastrini/18519newsML.txt', 'JohnMastrini/202307newsML.txt', 'JohnMastrini/195805newsML.txt', 'JohnMastrini/156054newsML.txt', 'JohnMastrini/263486newsML.txt', 'JohnMastrini/177540newsML.txt', 'MarkBendeich/368145newsML.txt', 'MarkBendeich/271058newsML.txt', 'MarkBendeich/402412newsML.txt', 'MarkBendeich/30686newsML.txt', 'MarkBendeich/294969newsML.txt', 'MarkBendeich/27264newsML.txt', 'MarkBendeich/368102newsML.txt', 'MarkBendeich/402444newsML.txt', 'MarkBendeich/373924newsML.txt', 'MarkBendeich/286524newsML.txt', 'MarkBendeich/402409newsML.txt', 'MarkBendeich/155007newsML.txt', 'MarkBendeich/30673newsML.txt', 'MarkBendeich/364654newsML.txt', 'MarkBendeich/395441newsML.txt', 'NickLouth/13930newsML.txt', 'NickLouth/13391newsML.txt', 'NickLouth/160349newsML.txt', 'NickLouth/120416newsML.txt', 'NickLouth/162894newsML.txt', 'NickLouth/137486newsML.txt', 'MatthewBunce/169229newsML.txt', 'MatthewBunce/263657newsML.txt', 'MatthewBunce/280207newsML.txt', 'MatthewBunce/251685newsML.txt', 'MatthewBunce/153002newsML.txt', 'MatthewBunce/362649newsML.txt', 'MatthewBunce/233655newsML.txt', 'MatthewBunce/248714newsML.txt', 'MatthewBunce/107670newsML.txt', 'MatthewBunce/356601newsML.txt', 'MatthewBunce/334354newsML.txt', 'MatthewBunce/362814newsML.txt', 'MatthewBunce/327686newsML.txt', 'JaneMacartney/109736newsML.txt', 'JaneMacartney/125313newsML.txt', 'JaneMacartney/121957newsML.txt', 'JaneMacartney/246277newsML.txt', 'JaneMacartney/150364newsML.txt', 'JaneMacartney/101337newsML.txt', 'JaneMacartney/242519newsML.txt', 'JaneMacartney/242319newsML.txt', 'JaneMacartney/105215newsML.txt', 'JaneMacartney/279477newsML.txt', 'JaneMacartney/247009newsML.txt', 'JaneMacartney/106841newsML.txt', 'JaneMacartney/165077newsML.txt', 'JaneMacartney/264064newsML.txt', 'JaneMacartney/244948newsML.txt', 'JaneMacartney/162404newsML.txt', 'JaneMacartney/253835newsML.txt', 'JaneMacartney/249226newsML.txt', 'JaneMacartney/272173newsML.txt', 'BernardHickey/201116newsML.txt', 'BernardHickey/294952newsML.txt', 'BernardHickey/148778newsML.txt', 'BernardHickey/218591newsML.txt', 'BernardHickey/151764newsML.txt', 'BernardHickey/176080newsML.txt']\n"
     ]
    }
   ],
   "source": [
    "print(\"résultats avec matrice NbOBOWcc : \\n\", researchBOW)"
   ]
  },
  {
   "cell_type": "markdown",
   "metadata": {},
   "source": [
    "Affichage de la recherche avec nombre d'occurences"
   ]
  },
  {
   "cell_type": "code",
   "execution_count": 86,
   "metadata": {
    "collapsed": true
   },
   "outputs": [
    {
     "name": "stdout",
     "output_type": "stream",
     "text": [
      "résultats avec matrice NbOcc : \n",
      " ['WilliamKazer/208244newsML.txt', 'JohnMastrini/159754newsML.txt', 'ScottHillis/299129newsML.txt', 'JohnMastrini/105045newsML.txt', 'JanLopatka/163409newsML.txt', 'JanLopatka/163094newsML.txt', 'MureDickie/187394newsML.txt', 'AaronPressman/401260newsML.txt', 'KevinDrawbaugh/191657newsML.txt', 'WilliamKazer/235763newsML.txt', 'AlanCrosby/135777newsML.txt', 'AlanCrosby/136471newsML.txt', 'GrahamEarnshaw/172788newsML.txt', 'JohnMastrini/13806newsML.txt', 'AlanCrosby/216602newsML.txt', 'AlanCrosby/217025newsML.txt', 'AaronPressman/182596newsML.txt', 'MureDickie/186174newsML.txt', 'JaneMacartney/246277newsML.txt', 'JaneMacartney/247009newsML.txt', 'ScottHillis/140340newsML.txt', 'ScottHillis/142465newsML.txt', 'FumikoFujisaki/10028newsML.txt', 'FumikoFujisaki/23340newsML.txt', 'JohnMastrini/18297newsML.txt', 'JohnMastrini/18529newsML.txt', \"LynneO'Donnell/169600newsML.txt\", 'SarahDavison/396743newsML.txt', 'AlanCrosby/139110newsML.txt', 'GrahamEarnshaw/271168newsML.txt', 'JaneMacartney/253835newsML.txt', 'SarahDavison/26419newsML.txt', 'SarahDavison/213002newsML.txt', 'AaronPressman/186392newsML.txt', 'ScottHillis/282007newsML.txt', 'WilliamKazer/147523newsML.txt', 'WilliamKazer/178505newsML.txt', 'WilliamKazer/178884newsML.txt', 'WilliamKazer/180188newsML.txt', 'AlanCrosby/10650newsML.txt', 'AlanCrosby/10306newsML.txt', 'AlanCrosby/140051newsML.txt', 'SimonCowell/15627newsML.txt', 'LydiaZajc/185720newsML.txt', 'JaneMacartney/244948newsML.txt', 'JaneMacartney/249226newsML.txt', \"LynneO'Donnell/198178newsML.txt\", 'TimFarrand/175594newsML.txt', 'GrahamEarnshaw/226150newsML.txt', 'GrahamEarnshaw/254834newsML.txt', 'MureDickie/199837newsML.txt', 'MureDickie/174493newsML.txt', 'LynnleyBrowning/263722newsML.txt', 'SamuelPerry/120398newsML.txt', \"LynneO'Donnell/102480newsML.txt\", 'AaronPressman/394237newsML.txt', 'EricAuchard/133874newsML.txt', 'ScottHillis/318653newsML.txt', 'ScottHillis/184219newsML.txt', 'ScottHillis/195357newsML.txt', 'WilliamKazer/188958newsML.txt', 'AlanCrosby/110434newsML.txt', 'FumikoFujisaki/184337newsML.txt', 'DarrenSchuettler/383585newsML.txt', 'GrahamEarnshaw/187405newsML.txt', 'GrahamEarnshaw/134309newsML.txt', 'GrahamEarnshaw/103906newsML.txt', 'LynnleyBrowning/159726newsML.txt', 'TanEeLyn/41230newsML.txt', 'TheresePoletti/200003newsML.txt', 'JohnMastrini/266394newsML.txt', 'JohnMastrini/242893newsML.txt', 'JohnMastrini/123158newsML.txt', \"LynneO'Donnell/187362newsML.txt\", \"LynneO'Donnell/166518newsML.txt\", \"LynneO'Donnell/2462newsML.txt\", 'SarahDavison/310313newsML.txt', 'AaronPressman/156814newsML.txt', 'EricAuchard/116212newsML.txt', 'KirstinRidley/341840newsML.txt', 'WilliamKazer/129188newsML.txt', 'WilliamKazer/126643newsML.txt', 'AlanCrosby/199535newsML.txt', 'KevinMorrison/256350newsML.txt', 'KevinMorrison/256320newsML.txt', 'KouroshKarimkhany/331262newsML.txt', 'GrahamEarnshaw/273087newsML.txt', 'GrahamEarnshaw/114251newsML.txt', 'GrahamEarnshaw/274219newsML.txt', 'MureDickie/169608newsML.txt', 'LydiaZajc/227933newsML.txt', 'RobinSidel/113551newsML.txt', 'BenjaminKangLim/15741newsML.txt', 'BenjaminKangLim/24300newsML.txt', 'BenjaminKangLim/21575newsML.txt', \"LynneO'Donnell/23184newsML.txt\", \"LynneO'Donnell/20855newsML.txt\", \"LynneO'Donnell/114299newsML.txt\", 'SarahDavison/24260newsML.txt', 'SarahDavison/392316newsML.txt', 'SarahDavison/166481newsML.txt', 'SarahDavison/409023newsML.txt', 'SarahDavison/31981newsML.txt', 'KirstinRidley/341864newsML.txt', 'PatriciaCommins/205566newsML.txt', 'WilliamKazer/195340newsML.txt', 'FumikoFujisaki/28301newsML.txt', 'FumikoFujisaki/348688newsML.txt', 'DarrenSchuettler/174369newsML.txt', 'KouroshKarimkhany/330773newsML.txt', 'GrahamEarnshaw/252118newsML.txt', 'MureDickie/126632newsML.txt', 'BradDorfman/240151newsML.txt', 'LynnleyBrowning/114005newsML.txt', 'LydiaZajc/174373newsML.txt', 'LydiaZajc/130081newsML.txt', 'LydiaZajc/236474newsML.txt', 'LydiaZajc/224725newsML.txt', 'LydiaZajc/366471newsML.txt', 'KeithWeir/275481newsML.txt', 'KeithWeir/265008newsML.txt', 'JanLopatka/10626newsML.txt', 'JanLopatka/10224newsML.txt', 'AlexanderSmith/268005newsML.txt', 'SamuelPerry/207747newsML.txt', 'BenjaminKangLim/18363newsML.txt', 'MartinWolk/275458newsML.txt', 'MartinWolk/274876newsML.txt', 'JohnMastrini/21246newsML.txt', 'JohnMastrini/22903newsML.txt', 'JaneMacartney/242519newsML.txt', 'JaneMacartney/242319newsML.txt', 'JaneMacartney/272173newsML.txt', \"LynneO'Donnell/10327newsML.txt\", \"LynneO'Donnell/27316newsML.txt\", \"LynneO'Donnell/248156newsML.txt\", \"LynneO'Donnell/247724newsML.txt\", \"LynneO'Donnell/125205newsML.txt\", \"LynneO'Donnell/125560newsML.txt\", \"LynneO'Donnell/115594newsML.txt\", \"LynneO'Donnell/146472newsML.txt\", \"LynneO'Donnell/229894newsML.txt\", \"LynneO'Donnell/148890newsML.txt\", \"LynneO'Donnell/121931newsML.txt\", \"LynneO'Donnell/17858newsML.txt\", \"LynneO'Donnell/146245newsML.txt\", \"LynneO'Donnell/12381newsML.txt\", 'EdnaFernandes/195876newsML.txt', 'SarahDavison/386644newsML.txt', 'SarahDavison/414690newsML.txt', 'SarahDavison/21569newsML.txt', 'SarahDavison/396740newsML.txt', 'SarahDavison/310654newsML.txt', 'SarahDavison/352851newsML.txt', 'TimFarrand/234885newsML.txt', 'TimFarrand/242992newsML.txt', 'TimFarrand/114953newsML.txt', 'TimFarrand/224668newsML.txt', 'TimFarrand/242910newsML.txt', 'TimFarrand/237957newsML.txt', 'TimFarrand/210560newsML.txt', 'KevinDrawbaugh/293659newsML.txt', 'KevinDrawbaugh/293808newsML.txt', 'KevinDrawbaugh/233324newsML.txt', 'AaronPressman/233150newsML.txt', 'EricAuchard/18802newsML.txt', 'EricAuchard/288069newsML.txt', 'JoWinterbottom/185674newsML.txt', 'JoWinterbottom/183638newsML.txt', 'JoWinterbottom/141413newsML.txt', 'JoWinterbottom/185611newsML.txt', 'ScottHillis/145712newsML.txt', 'ScottHillis/340709newsML.txt', 'KarlPenhaul/305637newsML.txt', 'WilliamKazer/153448newsML.txt', 'WilliamKazer/113095newsML.txt', 'WilliamKazer/12909newsML.txt', 'AlanCrosby/188747newsML.txt', 'KevinMorrison/229778newsML.txt', 'DarrenSchuettler/168489newsML.txt', 'DarrenSchuettler/162018newsML.txt', 'DarrenSchuettler/364643newsML.txt', 'DarrenSchuettler/161718newsML.txt', 'KouroshKarimkhany/189198newsML.txt', 'GrahamEarnshaw/270340newsML.txt', 'GrahamEarnshaw/249198newsML.txt', 'GrahamEarnshaw/229903newsML.txt', 'GrahamEarnshaw/231139newsML.txt', 'GrahamEarnshaw/271134newsML.txt', 'GrahamEarnshaw/244929newsML.txt', 'GrahamEarnshaw/267059newsML.txt', 'MichaelConnor/324861newsML.txt', 'MichaelConnor/328867newsML.txt', 'MureDickie/209808newsML.txt', 'BradDorfman/309066newsML.txt', 'JoeOrtiz/309597newsML.txt', 'JoeOrtiz/290471newsML.txt', 'JoeOrtiz/180577newsML.txt', 'LynnleyBrowning/266599newsML.txt', 'LynnleyBrowning/202315newsML.txt', 'SimonCowell/420566newsML.txt', 'SimonCowell/402074newsML.txt', 'SimonCowell/409884newsML.txt', 'SimonCowell/248599newsML.txt', 'HeatherScoffield/204659newsML.txt', 'LydiaZajc/216822newsML.txt', 'LydiaZajc/345128newsML.txt', 'LydiaZajc/172241newsML.txt', 'LydiaZajc/334277newsML.txt', 'LydiaZajc/219628newsML.txt', 'LydiaZajc/165902newsML.txt', 'LydiaZajc/188535newsML.txt', 'LydiaZajc/230638newsML.txt', 'LydiaZajc/202140newsML.txt', 'LydiaZajc/10274newsML.txt', 'LydiaZajc/239275newsML.txt', 'KeithWeir/265140newsML.txt', 'KeithWeir/117955newsML.txt', 'KeithWeir/117941newsML.txt', 'KeithWeir/164490newsML.txt', 'KeithWeir/117958newsML.txt', 'RobinSidel/10726newsML.txt', 'RobinSidel/147604newsML.txt', 'JanLopatka/293216newsML.txt', 'JanLopatka/293006newsML.txt', 'TheresePoletti/182700newsML.txt', 'TheresePoletti/187047newsML.txt', 'AlexanderSmith/21127newsML.txt', 'SamuelPerry/181711newsML.txt', 'BenjaminKangLim/187423newsML.txt', 'BenjaminKangLim/195350newsML.txt', 'JohnMastrini/207961newsML.txt', 'JohnMastrini/179858newsML.txt', 'JohnMastrini/205953newsML.txt', 'JohnMastrini/202307newsML.txt', 'MarkBendeich/395441newsML.txt', 'NickLouth/160349newsML.txt', 'MatthewBunce/251685newsML.txt', 'MatthewBunce/362814newsML.txt', 'JaneMacartney/105215newsML.txt', 'BernardHickey/294952newsML.txt', \"LynneO'Donnell/204874newsML.txt\", \"LynneO'Donnell/265681newsML.txt\", \"LynneO'Donnell/244800newsML.txt\", \"LynneO'Donnell/158416newsML.txt\", \"LynneO'Donnell/151846newsML.txt\", \"LynneO'Donnell/258739newsML.txt\", \"LynneO'Donnell/29593newsML.txt\", \"LynneO'Donnell/158405newsML.txt\", \"LynneO'Donnell/15736newsML.txt\", 'EdnaFernandes/17343newsML.txt', 'EdnaFernandes/15633newsML.txt', 'SarahDavison/428346newsML.txt', 'SarahDavison/426661newsML.txt', 'SarahDavison/365768newsML.txt', 'SarahDavison/405565newsML.txt', 'TimFarrand/225561newsML.txt', 'TimFarrand/229685newsML.txt', 'TimFarrand/229159newsML.txt', 'TimFarrand/154492newsML.txt', 'TimFarrand/152851newsML.txt', 'TimFarrand/127403newsML.txt', 'TimFarrand/220852newsML.txt', 'TimFarrand/173770newsML.txt', 'KevinDrawbaugh/110894newsML.txt', 'KevinDrawbaugh/13838newsML.txt', 'JonathanBirt/327653newsML.txt', 'JonathanBirt/319856newsML.txt', 'JonathanBirt/339075newsML.txt', 'JonathanBirt/219548newsML.txt', 'JonathanBirt/289165newsML.txt', 'AaronPressman/237175newsML.txt', 'EricAuchard/261502newsML.txt', 'EricAuchard/120484newsML.txt', 'EricAuchard/227670newsML.txt', 'EricAuchard/121521newsML.txt', 'EricAuchard/186282newsML.txt', 'EricAuchard/210069newsML.txt', 'EricAuchard/13415newsML.txt', 'EricAuchard/183534newsML.txt', 'EricAuchard/115060newsML.txt', 'EricAuchard/149671newsML.txt', 'EricAuchard/175415newsML.txt', 'EricAuchard/117213newsML.txt', 'EricAuchard/18223newsML.txt', 'EricAuchard/172851newsML.txt', 'EricAuchard/209979newsML.txt', 'EricAuchard/111437newsML.txt', 'JoWinterbottom/186890newsML.txt', 'JoWinterbottom/184783newsML.txt', 'JoWinterbottom/183716newsML.txt', 'KirstinRidley/163112newsML.txt', 'KirstinRidley/394816newsML.txt', 'KirstinRidley/163119newsML.txt', 'KirstinRidley/167814newsML.txt', 'PatriciaCommins/108222newsML.txt', 'PatriciaCommins/258801newsML.txt', 'PatriciaCommins/18217newsML.txt', 'ScottHillis/130513newsML.txt', 'ScottHillis/295992newsML.txt', 'KarlPenhaul/305571newsML.txt', 'WilliamKazer/206559newsML.txt', 'WilliamKazer/196734newsML.txt', 'WilliamKazer/264132newsML.txt', 'AlanCrosby/225900newsML.txt', 'AlanCrosby/224640newsML.txt', 'KevinMorrison/292666newsML.txt', 'KevinMorrison/244698newsML.txt', 'KevinMorrison/244734newsML.txt', 'KevinMorrison/292246newsML.txt', 'KevinMorrison/304259newsML.txt', 'KevinMorrison/223858newsML.txt', 'KevinMorrison/218602newsML.txt', 'FumikoFujisaki/257754newsML.txt', 'FumikoFujisaki/123528newsML.txt', 'FumikoFujisaki/257487newsML.txt', 'FumikoFujisaki/257776newsML.txt', 'DarrenSchuettler/144792newsML.txt', 'DarrenSchuettler/175068newsML.txt', 'DarrenSchuettler/172235newsML.txt', 'DarrenSchuettler/144056newsML.txt', 'DarrenSchuettler/156181newsML.txt', 'ToddNissen/271791newsML.txt', 'ToddNissen/191372newsML.txt', 'KouroshKarimkhany/203674newsML.txt', 'KouroshKarimkhany/272490newsML.txt', 'KouroshKarimkhany/101520newsML.txt', 'KouroshKarimkhany/202658newsML.txt', 'KouroshKarimkhany/172988newsML.txt', 'KouroshKarimkhany/287796newsML.txt', 'GrahamEarnshaw/258604newsML.txt', 'GrahamEarnshaw/217296newsML.txt', 'GrahamEarnshaw/201228newsML.txt', 'GrahamEarnshaw/204791newsML.txt', 'MichaelConnor/323784newsML.txt', 'MureDickie/169588newsML.txt', 'MureDickie/192419newsML.txt', 'MureDickie/167928newsML.txt', 'BradDorfman/331819newsML.txt', 'BradDorfman/314102newsML.txt', 'JoeOrtiz/148240newsML.txt', 'LynnleyBrowning/236661newsML.txt', 'LynnleyBrowning/185549newsML.txt', 'LynnleyBrowning/318451newsML.txt', 'LynnleyBrowning/305426newsML.txt', 'LynnleyBrowning/230857newsML.txt', 'SimonCowell/440535newsML.txt', 'HeatherScoffield/252855newsML.txt', 'HeatherScoffield/2751newsML.txt', 'HeatherScoffield/248690newsML.txt', 'HeatherScoffield/251147newsML.txt', 'LydiaZajc/233590newsML.txt', 'LydiaZajc/308198newsML.txt', 'LydiaZajc/362785newsML.txt', 'LydiaZajc/364632newsML.txt', 'LydiaZajc/213719newsML.txt', 'LydiaZajc/329147newsML.txt', 'LydiaZajc/302437newsML.txt', 'LydiaZajc/162222newsML.txt', 'LydiaZajc/207278newsML.txt', 'LydiaZajc/316724newsML.txt', 'LydiaZajc/15592newsML.txt', 'LydiaZajc/2387newsML.txt', 'LydiaZajc/164298newsML.txt', 'LydiaZajc/332252newsML.txt', 'DavidLawder/163873newsML.txt', 'RobinSidel/243684newsML.txt', 'JanLopatka/175940newsML.txt', 'JanLopatka/290685newsML.txt', 'JanLopatka/295717newsML.txt', 'PierreTran/270873newsML.txt', 'TheresePoletti/157001newsML.txt', 'TheresePoletti/283077newsML.txt', 'TheresePoletti/242113newsML.txt', 'TheresePoletti/249362newsML.txt', 'TheresePoletti/203028newsML.txt', 'TheresePoletti/246460newsML.txt', 'AlexanderSmith/110282newsML.txt', 'AlexanderSmith/304231newsML.txt', 'AlexanderSmith/144367newsML.txt', 'AlexanderSmith/23876newsML.txt', 'AlexanderSmith/239202newsML.txt', 'AlexanderSmith/219521newsML.txt', 'RogerFillion/154675newsML.txt', 'JimGilchrist/172811newsML.txt', 'SamuelPerry/137035newsML.txt', 'SamuelPerry/197518newsML.txt', 'BenjaminKangLim/186173newsML.txt', 'BenjaminKangLim/102444newsML.txt', 'BenjaminKangLim/174581newsML.txt', 'MartinWolk/183836newsML.txt', 'MartinWolk/316912newsML.txt', 'JohnMastrini/263693newsML.txt', 'JohnMastrini/153158newsML.txt', 'JohnMastrini/266669newsML.txt', 'JohnMastrini/281893newsML.txt', 'JohnMastrini/263486newsML.txt', 'MarkBendeich/402412newsML.txt', 'MarkBendeich/368102newsML.txt', 'MarkBendeich/358701newsML.txt', 'MarkBendeich/373924newsML.txt', 'MarkBendeich/286524newsML.txt', 'MarkBendeich/402409newsML.txt', 'MarkBendeich/358695newsML.txt', 'NickLouth/162894newsML.txt', 'MatthewBunce/334354newsML.txt', 'JaneMacartney/165077newsML.txt', 'JaneMacartney/162404newsML.txt', 'BernardHickey/218591newsML.txt', \"LynneO'Donnell/112106newsML.txt\", \"LynneO'Donnell/180191newsML.txt\", \"LynneO'Donnell/159976newsML.txt\", \"LynneO'Donnell/110718newsML.txt\", \"LynneO'Donnell/238772newsML.txt\", \"LynneO'Donnell/116963newsML.txt\", \"LynneO'Donnell/2439newsML.txt\", \"LynneO'Donnell/111855newsML.txt\", 'EdnaFernandes/179688newsML.txt', 'EdnaFernandes/10193newsML.txt', 'EdnaFernandes/199220newsML.txt', 'EdnaFernandes/220686newsML.txt', 'EdnaFernandes/199226newsML.txt', 'EdnaFernandes/219541newsML.txt', 'EdnaFernandes/119734newsML.txt', 'EdnaFernandes/223214newsML.txt', 'EdnaFernandes/117960newsML.txt', 'EdnaFernandes/214915newsML.txt', 'EdnaFernandes/178869newsML.txt', 'EdnaFernandes/10264newsML.txt', 'SarahDavison/387956newsML.txt', 'SarahDavison/148891newsML.txt', 'SarahDavison/169592newsML.txt', 'SarahDavison/196732newsML.txt', 'SarahDavison/190734newsML.txt', 'SarahDavison/383224newsML.txt', 'SarahDavison/429225newsML.txt', 'SarahDavison/317706newsML.txt', 'TimFarrand/236371newsML.txt', 'TimFarrand/167803newsML.txt', 'TimFarrand/160644newsML.txt', 'TimFarrand/159528newsML.txt', 'TimFarrand/177684newsML.txt', 'TimFarrand/201017newsML.txt', 'TimFarrand/240674newsML.txt', 'TimFarrand/235003newsML.txt', 'TimFarrand/238095newsML.txt', 'TimFarrand/15631newsML.txt', 'TimFarrand/149844newsML.txt', 'TimFarrand/10265newsML.txt', 'KevinDrawbaugh/10771newsML.txt', 'KevinDrawbaugh/243558newsML.txt', 'KevinDrawbaugh/291432newsML.txt', 'KevinDrawbaugh/270070newsML.txt', 'KevinDrawbaugh/137042newsML.txt', 'KevinDrawbaugh/283914newsML.txt', 'KevinDrawbaugh/311940newsML.txt', 'KevinDrawbaugh/284178newsML.txt', 'KevinDrawbaugh/299416newsML.txt', 'KevinDrawbaugh/317846newsML.txt', 'KevinDrawbaugh/323618newsML.txt', 'KevinDrawbaugh/178086newsML.txt', 'KevinDrawbaugh/16057newsML.txt', 'JonathanBirt/169040newsML.txt', 'JonathanBirt/331672newsML.txt', 'JonathanBirt/174287newsML.txt', 'JonathanBirt/27668newsML.txt', 'JonathanBirt/164502newsML.txt', 'JonathanBirt/167309newsML.txt', 'JonathanBirt/200640newsML.txt', 'JonathanBirt/106076newsML.txt', 'JonathanBirt/107612newsML.txt', 'JonathanBirt/26877newsML.txt', 'JonathanBirt/165827newsML.txt', 'JonathanBirt/300439newsML.txt', 'JonathanBirt/338600newsML.txt', 'JonathanBirt/331603newsML.txt', 'JonathanBirt/172185newsML.txt', 'AaronPressman/398094newsML.txt', 'AaronPressman/106247newsML.txt', 'AaronPressman/120600newsML.txt', 'AaronPressman/269999newsML.txt', 'AaronPressman/378457newsML.txt', 'AaronPressman/330967newsML.txt', 'EricAuchard/264271newsML.txt', 'EricAuchard/216338newsML.txt', 'EricAuchard/292697newsML.txt', 'EricAuchard/100385newsML.txt', 'EricAuchard/13583newsML.txt', 'EricAuchard/263257newsML.txt', 'EricAuchard/260570newsML.txt', 'EricAuchard/183344newsML.txt', 'EricAuchard/139624newsML.txt', 'EricAuchard/12877newsML.txt', 'EricAuchard/205742newsML.txt', 'EricAuchard/13068newsML.txt', 'JoWinterbottom/200668newsML.txt', 'JoWinterbottom/159560newsML.txt', 'JoWinterbottom/195814newsML.txt', 'JoWinterbottom/203926newsML.txt', 'JoWinterbottom/126147newsML.txt', 'JoWinterbottom/203923newsML.txt', 'JoWinterbottom/144390newsML.txt', 'JoWinterbottom/210519newsML.txt', 'JoWinterbottom/197541newsML.txt', 'JoWinterbottom/191718newsML.txt', 'JoWinterbottom/103380newsML.txt', 'JoWinterbottom/148227newsML.txt', 'JoWinterbottom/186888newsML.txt', 'JoWinterbottom/190268newsML.txt', 'KirstinRidley/187985newsML.txt', 'KirstinRidley/157761newsML.txt', 'KirstinRidley/371805newsML.txt', 'KirstinRidley/297203newsML.txt', 'KirstinRidley/294355newsML.txt', 'KirstinRidley/189900newsML.txt', 'KirstinRidley/254351newsML.txt', 'KirstinRidley/314384newsML.txt', 'KirstinRidley/27422newsML.txt', 'KirstinRidley/156083newsML.txt', 'KirstinRidley/188419newsML.txt', 'PatriciaCommins/255733newsML.txt', 'PatriciaCommins/132671newsML.txt', 'PatriciaCommins/143591newsML.txt', 'PatriciaCommins/237159newsML.txt', 'PatriciaCommins/270137newsML.txt', 'PatriciaCommins/117099newsML.txt', 'PatriciaCommins/178068newsML.txt', 'ScottHillis/254803newsML.txt', 'ScottHillis/194787newsML.txt', 'ScottHillis/165123newsML.txt', 'ScottHillis/161138newsML.txt', 'ScottHillis/140273newsML.txt', 'KarlPenhaul/314740newsML.txt', 'KarlPenhaul/281959newsML.txt', 'KarlPenhaul/156602newsML.txt', 'KarlPenhaul/266933newsML.txt', 'KarlPenhaul/311686newsML.txt', 'KarlPenhaul/343706newsML.txt', 'KarlPenhaul/130351newsML.txt', 'WilliamKazer/239878newsML.txt', 'WilliamKazer/165109newsML.txt', 'WilliamKazer/28223newsML.txt', 'WilliamKazer/222819newsML.txt', 'WilliamKazer/246276newsML.txt', 'WilliamKazer/113097newsML.txt', 'WilliamKazer/247720newsML.txt', 'WilliamKazer/268647newsML.txt', 'WilliamKazer/257526newsML.txt', 'WilliamKazer/247829newsML.txt', 'WilliamKazer/148885newsML.txt', 'WilliamKazer/281216newsML.txt', 'AlanCrosby/194667newsML.txt', 'AlanCrosby/133183newsML.txt', 'AlanCrosby/134960newsML.txt', 'AlanCrosby/142624newsML.txt', 'AlanCrosby/143222newsML.txt', 'AlanCrosby/196144newsML.txt', 'AlanCrosby/156046newsML.txt', 'AlanCrosby/156330newsML.txt', 'KevinMorrison/198071newsML.txt', 'KevinMorrison/223897newsML.txt', 'KevinMorrison/176105newsML.txt', 'KevinMorrison/221499newsML.txt', 'KevinMorrison/184150newsML.txt', 'KevinMorrison/109875newsML.txt', 'KevinMorrison/15226newsML.txt', 'KevinMorrison/184096newsML.txt', 'KevinMorrison/115436newsML.txt', 'KevinMorrison/184143newsML.txt', 'KevinMorrison/109876newsML.txt', 'FumikoFujisaki/13494newsML.txt', 'FumikoFujisaki/383379newsML.txt', 'FumikoFujisaki/34837newsML.txt', 'FumikoFujisaki/330736newsML.txt', 'FumikoFujisaki/140372newsML.txt', 'FumikoFujisaki/247828newsML.txt', 'FumikoFujisaki/402531newsML.txt', 'FumikoFujisaki/155075newsML.txt', 'FumikoFujisaki/103993newsML.txt', 'FumikoFujisaki/142460newsML.txt', 'DarrenSchuettler/377885newsML.txt', 'DarrenSchuettler/143081newsML.txt', 'DarrenSchuettler/34117newsML.txt', 'DarrenSchuettler/144044newsML.txt', 'DarrenSchuettler/248687newsML.txt', 'DarrenSchuettler/358675newsML.txt', 'DarrenSchuettler/237697newsML.txt', 'DarrenSchuettler/213721newsML.txt', 'DarrenSchuettler/348501newsML.txt', 'DarrenSchuettler/233587newsML.txt', 'DarrenSchuettler/236470newsML.txt', 'DarrenSchuettler/128985newsML.txt', 'DarrenSchuettler/181864newsML.txt', 'DarrenSchuettler/139755newsML.txt', 'ToddNissen/120415newsML.txt', 'ToddNissen/261367newsML.txt', 'ToddNissen/245562newsML.txt', 'ToddNissen/217896newsML.txt', 'ToddNissen/217362newsML.txt', 'MarcelMichelson/121701newsML.txt', 'MarcelMichelson/174150newsML.txt', 'MarcelMichelson/158085newsML.txt', 'MarcelMichelson/197891newsML.txt', 'MarcelMichelson/210745newsML.txt', 'MarcelMichelson/217650newsML.txt', 'KouroshKarimkhany/170654newsML.txt', 'KouroshKarimkhany/290979newsML.txt', 'KouroshKarimkhany/124768newsML.txt', 'KouroshKarimkhany/298368newsML.txt', 'KouroshKarimkhany/121032newsML.txt', 'KouroshKarimkhany/285535newsML.txt', 'KouroshKarimkhany/315358newsML.txt', 'KouroshKarimkhany/264379newsML.txt', 'KouroshKarimkhany/311931newsML.txt', 'KouroshKarimkhany/299663newsML.txt', 'KouroshKarimkhany/311972newsML.txt', 'KouroshKarimkhany/129309newsML.txt', 'KouroshKarimkhany/287103newsML.txt', 'KouroshKarimkhany/120392newsML.txt', 'GrahamEarnshaw/277010newsML.txt', 'GrahamEarnshaw/190410newsML.txt', 'GrahamEarnshaw/247793newsML.txt', 'GrahamEarnshaw/232804newsML.txt', 'GrahamEarnshaw/265664newsML.txt', 'MichaelConnor/184787newsML.txt', 'MichaelConnor/120404newsML.txt', 'MichaelConnor/124763newsML.txt', 'MichaelConnor/186990newsML.txt', 'MichaelConnor/261401newsML.txt', 'MichaelConnor/353261newsML.txt', 'MichaelConnor/307864newsML.txt', 'MichaelConnor/372558newsML.txt', 'MichaelConnor/305809newsML.txt', 'MureDickie/105255newsML.txt', 'MureDickie/156653newsML.txt', 'MureDickie/117025newsML.txt', 'MureDickie/209826newsML.txt', 'MureDickie/163678newsML.txt', 'MureDickie/159960newsML.txt', 'MureDickie/166433newsML.txt', 'MureDickie/108143newsML.txt', 'MureDickie/158417newsML.txt', 'BradDorfman/156808newsML.txt', 'BradDorfman/226801newsML.txt', 'BradDorfman/199931newsML.txt', 'BradDorfman/343945newsML.txt', 'BradDorfman/33758newsML.txt', 'BradDorfman/200749newsML.txt', 'BradDorfman/276360newsML.txt', 'BradDorfman/346831newsML.txt', 'BradDorfman/344162newsML.txt', 'BradDorfman/24388newsML.txt', 'BradDorfman/209880newsML.txt', 'JoeOrtiz/364594newsML.txt', 'JoeOrtiz/100593newsML.txt', 'JoeOrtiz/29051newsML.txt', 'JoeOrtiz/364126newsML.txt', 'JoeOrtiz/247024newsML.txt', 'JoeOrtiz/100618newsML.txt', 'JoeOrtiz/343304newsML.txt', 'JoeOrtiz/100554newsML.txt', 'JoeOrtiz/223783newsML.txt', 'JoeOrtiz/189829newsML.txt', 'LynnleyBrowning/153131newsML.txt', 'LynnleyBrowning/269345newsML.txt', 'LynnleyBrowning/163468newsML.txt', 'LynnleyBrowning/263781newsML.txt', 'LynnleyBrowning/27013newsML.txt', 'LynnleyBrowning/166214newsML.txt', 'LynnleyBrowning/103703newsML.txt', 'LynnleyBrowning/102195newsML.txt', 'LynnleyBrowning/130255newsML.txt', 'LynnleyBrowning/298904newsML.txt', 'LynnleyBrowning/324280newsML.txt', 'SimonCowell/385542newsML.txt', 'SimonCowell/400494newsML.txt', 'SimonCowell/405124newsML.txt', 'SimonCowell/303707newsML.txt', 'SimonCowell/450839newsML.txt', 'SimonCowell/448236newsML.txt', 'SimonCowell/255730newsML.txt', 'SimonCowell/312858newsML.txt', 'SimonCowell/347888newsML.txt', 'SimonCowell/424503newsML.txt', 'SimonCowell/390568newsML.txt', 'SimonCowell/442065newsML.txt', 'SimonCowell/405057newsML.txt', 'SimonCowell/447824newsML.txt', 'HeatherScoffield/163214newsML.txt', 'HeatherScoffield/133016newsML.txt', 'HeatherScoffield/230639newsML.txt', 'HeatherScoffield/133017newsML.txt', 'HeatherScoffield/233588newsML.txt', 'HeatherScoffield/216816newsML.txt', 'HeatherScoffield/258231newsML.txt', 'HeatherScoffield/295589newsML.txt', 'HeatherScoffield/233579newsML.txt', 'HeatherScoffield/191069newsML.txt', 'HeatherScoffield/129447newsML.txt', 'HeatherScoffield/219630newsML.txt', 'HeatherScoffield/238607newsML.txt', 'HeatherScoffield/266003newsML.txt', 'HeatherScoffield/266002newsML.txt', 'HeatherScoffield/195125newsML.txt', 'TanEeLyn/250732newsML.txt', 'TanEeLyn/123487newsML.txt', 'TanEeLyn/250726newsML.txt', 'TanEeLyn/163670newsML.txt', 'TanEeLyn/336357newsML.txt', 'TanEeLyn/426779newsML.txt', 'TanEeLyn/264108newsML.txt', 'LydiaZajc/356565newsML.txt', 'LydiaZajc/163197newsML.txt', 'LydiaZajc/305250newsML.txt', 'LydiaZajc/326409newsML.txt', 'LydiaZajc/311319newsML.txt', 'DavidLawder/170305newsML.txt', 'DavidLawder/164658newsML.txt', 'DavidLawder/150717newsML.txt', 'DavidLawder/148215newsML.txt', 'DavidLawder/162531newsML.txt', 'DavidLawder/148055newsML.txt', 'DavidLawder/162152newsML.txt', 'DavidLawder/126792newsML.txt', 'DavidLawder/148624newsML.txt', 'DavidLawder/156823newsML.txt', 'KeithWeir/22411newsML.txt', 'KeithWeir/223176newsML.txt', 'KeithWeir/202015newsML.txt', 'KeithWeir/21070newsML.txt', 'KeithWeir/172133newsML.txt', 'KeithWeir/161738newsML.txt', 'KeithWeir/2344newsML.txt', 'KeithWeir/161753newsML.txt', 'KeithWeir/163109newsML.txt', 'KeithWeir/181588newsML.txt', 'KeithWeir/259522newsML.txt', 'KeithWeir/162021newsML.txt', 'PeterHumphrey/184622newsML.txt', 'PeterHumphrey/250825newsML.txt', 'PeterHumphrey/235690newsML.txt', 'PeterHumphrey/195348newsML.txt', 'PeterHumphrey/271287newsML.txt', 'PeterHumphrey/238764newsML.txt', 'PeterHumphrey/271684newsML.txt', 'PeterHumphrey/190619newsML.txt', 'RobinSidel/219316newsML.txt', 'RobinSidel/163771newsML.txt', 'RobinSidel/156766newsML.txt', 'RobinSidel/196990newsML.txt', 'RobinSidel/164273newsML.txt', 'RobinSidel/110827newsML.txt', 'RobinSidel/129289newsML.txt', 'RobinSidel/216335newsML.txt', 'RobinSidel/110986newsML.txt', 'RobinSidel/243641newsML.txt', 'RobinSidel/220676newsML.txt', 'RobinSidel/153574newsML.txt', 'JanLopatka/185875newsML.txt', 'JanLopatka/177552newsML.txt', 'JanLopatka/175835newsML.txt', 'JanLopatka/226489newsML.txt', 'JanLopatka/230755newsML.txt', 'JanLopatka/224921newsML.txt', 'PierreTran/134014newsML.txt', 'PierreTran/103612newsML.txt', 'PierreTran/319304newsML.txt', 'PierreTran/37710newsML.txt', 'PierreTran/303195newsML.txt', 'PierreTran/286787newsML.txt', 'PierreTran/134012newsML.txt', 'PierreTran/187064newsML.txt', 'PierreTran/137348newsML.txt', 'PierreTran/37690newsML.txt', 'PierreTran/379739newsML.txt', 'PierreTran/135536newsML.txt', 'TheresePoletti/120387newsML.txt', 'TheresePoletti/189987newsML.txt', 'TheresePoletti/246358newsML.txt', 'TheresePoletti/181674newsML.txt', 'TheresePoletti/27551newsML.txt', 'TheresePoletti/186457newsML.txt', 'TheresePoletti/179117newsML.txt', 'TheresePoletti/203129newsML.txt', 'TheresePoletti/257205newsML.txt', 'TheresePoletti/146012newsML.txt', 'TheresePoletti/242590newsML.txt', 'AlexanderSmith/18227newsML.txt', 'AlexanderSmith/302382newsML.txt', 'AlexanderSmith/251540newsML.txt', 'AlexanderSmith/16167newsML.txt', 'AlexanderSmith/240608newsML.txt', 'AlexanderSmith/109096newsML.txt', 'AlexanderSmith/220666newsML.txt', 'AlexanderSmith/224655newsML.txt', 'AlexanderSmith/179671newsML.txt', 'AlexanderSmith/219512newsML.txt', 'AlexanderSmith/188417newsML.txt', 'AlexanderSmith/18111newsML.txt', 'RogerFillion/215313newsML.txt', 'RogerFillion/173423newsML.txt', 'RogerFillion/177017newsML.txt', 'RogerFillion/146861newsML.txt', 'RogerFillion/32727newsML.txt', 'RogerFillion/215305newsML.txt', 'RogerFillion/214814newsML.txt', 'RogerFillion/237323newsML.txt', 'RogerFillion/217357newsML.txt', 'RogerFillion/360479newsML.txt', 'RogerFillion/351344newsML.txt', 'RogerFillion/218296newsML.txt', 'RogerFillion/217899newsML.txt', 'JimGilchrist/159926newsML.txt', 'JimGilchrist/186190newsML.txt', 'JimGilchrist/130537newsML.txt', 'JimGilchrist/133504newsML.txt', 'SamuelPerry/196870newsML.txt', 'SamuelPerry/138944newsML.txt', 'SamuelPerry/309801newsML.txt', 'SamuelPerry/207693newsML.txt', 'SamuelPerry/199947newsML.txt', 'SamuelPerry/206811newsML.txt', 'SamuelPerry/10781newsML.txt', 'SamuelPerry/310667newsML.txt', 'SamuelPerry/137812newsML.txt', 'SamuelPerry/178271newsML.txt', 'SamuelPerry/142698newsML.txt', 'SamuelPerry/196664newsML.txt', 'SamuelPerry/189155newsML.txt', 'SamuelPerry/144030newsML.txt', 'SamuelPerry/151392newsML.txt', 'BenjaminKangLim/155439newsML.txt', 'BenjaminKangLim/189031newsML.txt', 'BenjaminKangLim/192394newsML.txt', 'BenjaminKangLim/204845newsML.txt', 'MartinWolk/311937newsML.txt', 'MartinWolk/312192newsML.txt', 'MartinWolk/127151newsML.txt', 'MartinWolk/20801newsML.txt', 'MartinWolk/315688newsML.txt', 'MartinWolk/130607newsML.txt', 'MartinWolk/130622newsML.txt', 'JohnMastrini/266601newsML.txt', 'JohnMastrini/18320newsML.txt', 'JohnMastrini/195069newsML.txt', 'JohnMastrini/192116newsML.txt', 'JohnMastrini/195181newsML.txt', 'JohnMastrini/18519newsML.txt', 'JohnMastrini/195805newsML.txt', 'JohnMastrini/156054newsML.txt', 'JohnMastrini/177540newsML.txt', 'MarkBendeich/368145newsML.txt', 'MarkBendeich/271058newsML.txt', 'MarkBendeich/30686newsML.txt', 'MarkBendeich/294969newsML.txt', 'MarkBendeich/27264newsML.txt', 'MarkBendeich/402444newsML.txt', 'MarkBendeich/155007newsML.txt', 'MarkBendeich/30673newsML.txt', 'MarkBendeich/364654newsML.txt', 'NickLouth/13930newsML.txt', 'NickLouth/13391newsML.txt', 'NickLouth/120416newsML.txt', 'NickLouth/137486newsML.txt', 'MatthewBunce/169229newsML.txt', 'MatthewBunce/263657newsML.txt', 'MatthewBunce/280207newsML.txt', 'MatthewBunce/153002newsML.txt', 'MatthewBunce/362649newsML.txt', 'MatthewBunce/233655newsML.txt', 'MatthewBunce/248714newsML.txt', 'MatthewBunce/107670newsML.txt', 'MatthewBunce/356601newsML.txt', 'MatthewBunce/327686newsML.txt', 'JaneMacartney/109736newsML.txt', 'JaneMacartney/125313newsML.txt', 'JaneMacartney/121957newsML.txt', 'JaneMacartney/150364newsML.txt', 'JaneMacartney/101337newsML.txt', 'JaneMacartney/279477newsML.txt', 'JaneMacartney/106841newsML.txt', 'JaneMacartney/264064newsML.txt', 'BernardHickey/201116newsML.txt', 'BernardHickey/148778newsML.txt', 'BernardHickey/151764newsML.txt', 'BernardHickey/176080newsML.txt']\n"
     ]
    }
   ],
   "source": [
    "print(\"résultats avec matrice NbOcc : \\n\", researchNbOcc)"
   ]
  },
  {
   "cell_type": "markdown",
   "metadata": {},
   "source": [
    "Affichage de la recherche avec fréquences"
   ]
  },
  {
   "cell_type": "code",
   "execution_count": 87,
   "metadata": {},
   "outputs": [
    {
     "name": "stdout",
     "output_type": "stream",
     "text": [
      "résultats avec matrice Frq : \n",
      " ['AlanCrosby/136471newsML.txt', 'KevinDrawbaugh/191657newsML.txt', 'WilliamKazer/208244newsML.txt', 'AlanCrosby/135777newsML.txt', 'ScottHillis/299129newsML.txt', 'JohnMastrini/159754newsML.txt', 'JanLopatka/163409newsML.txt', 'JanLopatka/163094newsML.txt', 'GrahamEarnshaw/172788newsML.txt', 'MureDickie/187394newsML.txt', 'AlanCrosby/216602newsML.txt', 'AlanCrosby/217025newsML.txt', 'JohnMastrini/13806newsML.txt', 'AlanCrosby/139110newsML.txt', 'JohnMastrini/18297newsML.txt', 'WilliamKazer/235763newsML.txt', 'JohnMastrini/18529newsML.txt', 'AlanCrosby/140051newsML.txt', 'LydiaZajc/185720newsML.txt', 'MureDickie/186174newsML.txt', 'AaronPressman/401260newsML.txt', 'ScottHillis/140340newsML.txt', 'ScottHillis/142465newsML.txt', 'WilliamKazer/147523newsML.txt', 'WilliamKazer/178884newsML.txt', 'WilliamKazer/180188newsML.txt', \"LynneO'Donnell/169600newsML.txt\", 'JohnMastrini/105045newsML.txt', 'FumikoFujisaki/10028newsML.txt', 'JaneMacartney/253835newsML.txt', 'GrahamEarnshaw/134309newsML.txt', 'JaneMacartney/246277newsML.txt', 'JohnMastrini/123158newsML.txt', 'SimonCowell/15627newsML.txt', 'WilliamKazer/178505newsML.txt', 'AaronPressman/182596newsML.txt', 'AaronPressman/186392newsML.txt', 'ScottHillis/282007newsML.txt', 'JaneMacartney/247009newsML.txt', 'GrahamEarnshaw/271168newsML.txt', 'JaneMacartney/244948newsML.txt', 'GrahamEarnshaw/187405newsML.txt', 'SarahDavison/213002newsML.txt', 'LydiaZajc/174373newsML.txt', 'LydiaZajc/366471newsML.txt', 'ScottHillis/184219newsML.txt', 'GrahamEarnshaw/226150newsML.txt', 'HeatherScoffield/204659newsML.txt', 'TanEeLyn/41230newsML.txt', 'GrahamEarnshaw/254834newsML.txt', 'JohnMastrini/266394newsML.txt', 'EricAuchard/183344newsML.txt', 'AlanCrosby/199535newsML.txt', 'DarrenSchuettler/383585newsML.txt', 'LynnleyBrowning/263722newsML.txt', 'LydiaZajc/130081newsML.txt', 'MureDickie/199837newsML.txt', 'JohnMastrini/242893newsML.txt', 'FumikoFujisaki/23340newsML.txt', 'LydiaZajc/227933newsML.txt', 'JonathanBirt/319856newsML.txt', 'TimFarrand/175594newsML.txt', 'WilliamKazer/126643newsML.txt', 'ScottHillis/318653newsML.txt', 'GrahamEarnshaw/103906newsML.txt', 'FumikoFujisaki/184337newsML.txt', 'WilliamKazer/188958newsML.txt', 'SarahDavison/26419newsML.txt', 'JaneMacartney/249226newsML.txt', \"LynneO'Donnell/102480newsML.txt\", 'KirstinRidley/341840newsML.txt', 'TimFarrand/235003newsML.txt', 'SamuelPerry/120398newsML.txt', 'BenjaminKangLim/21575newsML.txt', 'LydiaZajc/224725newsML.txt', 'SarahDavison/31981newsML.txt', 'TheresePoletti/200003newsML.txt', 'LydiaZajc/334277newsML.txt', 'MureDickie/174493newsML.txt', 'RobinSidel/113551newsML.txt', 'LydiaZajc/236474newsML.txt', 'BenjaminKangLim/24300newsML.txt', \"LynneO'Donnell/187362newsML.txt\", 'GrahamEarnshaw/273087newsML.txt', 'JohnMastrini/22903newsML.txt', 'WilliamKazer/113095newsML.txt', 'PatriciaCommins/205566newsML.txt', 'KouroshKarimkhany/331262newsML.txt', 'GrahamEarnshaw/274219newsML.txt', 'ScottHillis/195357newsML.txt', 'LydiaZajc/345128newsML.txt', \"LynneO'Donnell/198178newsML.txt\", 'NickLouth/160349newsML.txt', 'KevinMorrison/256320newsML.txt', 'SarahDavison/310313newsML.txt', 'KevinMorrison/256350newsML.txt', 'MureDickie/169608newsML.txt', 'LydiaZajc/10274newsML.txt', 'MartinWolk/274876newsML.txt', 'GrahamEarnshaw/114251newsML.txt', 'MartinWolk/275458newsML.txt', 'BenjaminKangLim/15741newsML.txt', 'EricAuchard/133874newsML.txt', 'LydiaZajc/219628newsML.txt', 'FumikoFujisaki/348688newsML.txt', 'AlanCrosby/10306newsML.txt', 'JanLopatka/10224newsML.txt', 'AlanCrosby/10650newsML.txt', 'KirstinRidley/341864newsML.txt', 'RobinSidel/10726newsML.txt', 'AaronPressman/156814newsML.txt', 'WilliamKazer/129188newsML.txt', 'LydiaZajc/165902newsML.txt', 'WilliamKazer/195340newsML.txt', 'AaronPressman/394237newsML.txt', 'FumikoFujisaki/28301newsML.txt', 'WilliamKazer/153448newsML.txt', 'KeithWeir/265008newsML.txt', 'JanLopatka/10626newsML.txt', 'SarahDavison/392316newsML.txt', \"LynneO'Donnell/166518newsML.txt\", 'SarahDavison/166481newsML.txt', 'GrahamEarnshaw/231139newsML.txt', 'LydiaZajc/239275newsML.txt', 'LydiaZajc/302437newsML.txt', 'JohnMastrini/207961newsML.txt', 'JohnMastrini/205953newsML.txt', 'KevinDrawbaugh/233324newsML.txt', 'SimonCowell/248599newsML.txt', 'BradDorfman/240151newsML.txt', 'MatthewBunce/362814newsML.txt', 'BradDorfman/309066newsML.txt', 'KeithWeir/265140newsML.txt', 'JanLopatka/293216newsML.txt', 'JanLopatka/293006newsML.txt', 'LynnleyBrowning/159726newsML.txt', 'BenjaminKangLim/18363newsML.txt', 'LynnleyBrowning/266599newsML.txt', 'MureDickie/126632newsML.txt', 'LydiaZajc/216822newsML.txt', 'LydiaZajc/172241newsML.txt', 'BernardHickey/294952newsML.txt', 'EdnaFernandes/17343newsML.txt', 'SarahDavison/24260newsML.txt', 'GrahamEarnshaw/244929newsML.txt', 'JohnMastrini/21246newsML.txt', 'ScottHillis/145712newsML.txt', \"LynneO'Donnell/114299newsML.txt\", 'TimFarrand/224668newsML.txt', 'KeithWeir/117941newsML.txt', 'JaneMacartney/242319newsML.txt', 'JaneMacartney/272173newsML.txt', 'SarahDavison/409023newsML.txt', 'EricAuchard/227670newsML.txt', 'LydiaZajc/364632newsML.txt', 'KeithWeir/117958newsML.txt', 'DarrenSchuettler/174369newsML.txt', 'GrahamEarnshaw/252118newsML.txt', 'JaneMacartney/242519newsML.txt', 'AlanCrosby/110434newsML.txt', 'JoeOrtiz/290471newsML.txt', 'KarlPenhaul/305637newsML.txt', 'LydiaZajc/329147newsML.txt', \"LynneO'Donnell/2462newsML.txt\", 'SarahDavison/396743newsML.txt', 'JohnMastrini/202307newsML.txt', 'BernardHickey/201116newsML.txt', 'JoeOrtiz/309597newsML.txt', 'LydiaZajc/202140newsML.txt', 'LynnleyBrowning/114005newsML.txt', \"LynneO'Donnell/248156newsML.txt\", 'TimFarrand/114953newsML.txt', 'EricAuchard/116212newsML.txt', 'KouroshKarimkhany/330773newsML.txt', 'LydiaZajc/2387newsML.txt', \"LynneO'Donnell/23184newsML.txt\", \"LynneO'Donnell/20855newsML.txt\", 'LydiaZajc/230638newsML.txt', 'KouroshKarimkhany/172988newsML.txt', 'JonathanBirt/339075newsML.txt', 'JoWinterbottom/183638newsML.txt', \"LynneO'Donnell/148890newsML.txt\", 'DarrenSchuettler/364643newsML.txt', 'KeithWeir/117955newsML.txt', 'LydiaZajc/362785newsML.txt', 'JimGilchrist/172811newsML.txt', 'SarahDavison/21569newsML.txt', 'GrahamEarnshaw/249198newsML.txt', 'EricAuchard/288069newsML.txt', 'DarrenSchuettler/156181newsML.txt', 'SarahDavison/310654newsML.txt', 'GrahamEarnshaw/267059newsML.txt', \"LynneO'Donnell/125560newsML.txt\", \"LynneO'Donnell/115594newsML.txt\", 'DarrenSchuettler/162018newsML.txt', 'DarrenSchuettler/161718newsML.txt', \"LynneO'Donnell/125205newsML.txt\", \"LynneO'Donnell/146472newsML.txt\", \"LynneO'Donnell/146245newsML.txt\", 'JoeOrtiz/180577newsML.txt', 'SamuelPerry/207747newsML.txt', 'SarahDavison/396740newsML.txt', 'ScottHillis/340709newsML.txt', 'GrahamEarnshaw/270340newsML.txt', 'GrahamEarnshaw/271134newsML.txt', 'LydiaZajc/207278newsML.txt', 'SimonCowell/402074newsML.txt', 'JoWinterbottom/185611newsML.txt', 'SimonCowell/409884newsML.txt', 'WilliamKazer/12909newsML.txt', 'KevinMorrison/218602newsML.txt', 'LydiaZajc/316724newsML.txt', 'MatthewBunce/251685newsML.txt', 'EricAuchard/183534newsML.txt', 'TimFarrand/242992newsML.txt', 'KeithWeir/164490newsML.txt', 'SamuelPerry/178271newsML.txt', 'GrahamEarnshaw/229903newsML.txt', 'NickLouth/162894newsML.txt', 'LydiaZajc/308198newsML.txt', 'EricAuchard/216338newsML.txt', \"LynneO'Donnell/247724newsML.txt\", 'AlexanderSmith/21127newsML.txt', 'LydiaZajc/332252newsML.txt', 'SarahDavison/414690newsML.txt', 'JoWinterbottom/141413newsML.txt', 'KevinMorrison/229778newsML.txt', 'BenjaminKangLim/187423newsML.txt', 'LydiaZajc/188535newsML.txt', 'LydiaZajc/15592newsML.txt', 'LynnleyBrowning/202315newsML.txt', 'ToddNissen/191372newsML.txt', 'MartinWolk/183836newsML.txt', \"LynneO'Donnell/17858newsML.txt\", \"LynneO'Donnell/121931newsML.txt\", 'TheresePoletti/187047newsML.txt', 'KevinDrawbaugh/110894newsML.txt', 'TimFarrand/234885newsML.txt', 'MichaelConnor/324861newsML.txt', 'TimFarrand/173770newsML.txt', 'KevinDrawbaugh/13838newsML.txt', 'LydiaZajc/164298newsML.txt', \"LynneO'Donnell/27316newsML.txt\", 'SamuelPerry/181711newsML.txt', 'MureDickie/209808newsML.txt', 'GrahamEarnshaw/217296newsML.txt', 'JohnMastrini/179858newsML.txt', 'MichaelConnor/323784newsML.txt', 'LydiaZajc/233590newsML.txt', 'LydiaZajc/162222newsML.txt', 'TheresePoletti/182700newsML.txt', \"LynneO'Donnell/12381newsML.txt\", 'JoWinterbottom/185674newsML.txt', 'AaronPressman/233150newsML.txt', 'SimonCowell/420566newsML.txt', \"LynneO'Donnell/10327newsML.txt\", 'MichaelConnor/328867newsML.txt', 'AlanCrosby/188747newsML.txt', 'MarkBendeich/286524newsML.txt', 'BenjaminKangLim/186173newsML.txt', \"LynneO'Donnell/229894newsML.txt\", 'JanLopatka/295717newsML.txt', 'DarrenSchuettler/168489newsML.txt', 'EdnaFernandes/195876newsML.txt', 'BernardHickey/218591newsML.txt', 'KirstinRidley/167814newsML.txt', 'RobinSidel/243684newsML.txt', 'KirstinRidley/163119newsML.txt', 'GrahamEarnshaw/201228newsML.txt', 'TimFarrand/242910newsML.txt', \"LynneO'Donnell/15736newsML.txt\", 'KouroshKarimkhany/101520newsML.txt', 'EricAuchard/121521newsML.txt', 'EricAuchard/117213newsML.txt', 'TimFarrand/237957newsML.txt', 'JonathanBirt/219548newsML.txt', 'TimFarrand/210560newsML.txt', \"LynneO'Donnell/158405newsML.txt\", 'PierreTran/270873newsML.txt', 'BenjaminKangLim/195350newsML.txt', 'MureDickie/192419newsML.txt', 'HeatherScoffield/2751newsML.txt', 'AlexanderSmith/304231newsML.txt', 'LydiaZajc/213719newsML.txt', 'KeithWeir/275481newsML.txt', 'WilliamKazer/206559newsML.txt', 'GrahamEarnshaw/204791newsML.txt', 'AaronPressman/237175newsML.txt', 'EricAuchard/18802newsML.txt', 'JoeOrtiz/148240newsML.txt', 'KouroshKarimkhany/189198newsML.txt', 'JoWinterbottom/183716newsML.txt', 'ScottHillis/130513newsML.txt', 'TheresePoletti/246460newsML.txt', 'TimFarrand/127403newsML.txt', 'HeatherScoffield/248690newsML.txt', 'TheresePoletti/203028newsML.txt', 'JanLopatka/290685newsML.txt', 'AlexanderSmith/239202newsML.txt', 'MarkBendeich/373924newsML.txt', 'JaneMacartney/105215newsML.txt', 'TheresePoletti/249362newsML.txt', 'JohnMastrini/281893newsML.txt', 'TimFarrand/154492newsML.txt', 'KevinMorrison/292666newsML.txt', 'KevinMorrison/292246newsML.txt', 'KevinDrawbaugh/293808newsML.txt', 'EricAuchard/261502newsML.txt', 'KarlPenhaul/305571newsML.txt', 'AlexanderSmith/110282newsML.txt', 'MarkBendeich/358701newsML.txt', 'BenjaminKangLim/174581newsML.txt', 'SamuelPerry/197518newsML.txt', 'RobinSidel/147604newsML.txt', 'MarkBendeich/395441newsML.txt', 'WilliamKazer/264132newsML.txt', 'KevinMorrison/244734newsML.txt', 'MarkBendeich/368102newsML.txt', 'MarkBendeich/358695newsML.txt', 'TimFarrand/229159newsML.txt', 'JonathanBirt/172185newsML.txt', 'RogerFillion/154675newsML.txt', 'EricAuchard/209979newsML.txt', 'KevinMorrison/244698newsML.txt', 'DarrenSchuettler/144792newsML.txt', 'JimGilchrist/159926newsML.txt', 'BradDorfman/314102newsML.txt', 'KouroshKarimkhany/203674newsML.txt', 'KouroshKarimkhany/202658newsML.txt', 'DarrenSchuettler/144056newsML.txt', 'BradDorfman/331819newsML.txt', 'JohnMastrini/263693newsML.txt', \"LynneO'Donnell/151846newsML.txt\", 'MureDickie/167928newsML.txt', 'EdnaFernandes/15633newsML.txt', 'EricAuchard/111437newsML.txt', 'BenjaminKangLim/102444newsML.txt', 'MartinWolk/316912newsML.txt', 'JonathanBirt/289165newsML.txt', 'JoWinterbottom/186890newsML.txt', 'EdnaFernandes/117960newsML.txt', 'SarahDavison/428346newsML.txt', 'SarahDavison/426661newsML.txt', 'SarahDavison/365768newsML.txt', 'EricAuchard/210069newsML.txt', 'JoWinterbottom/184783newsML.txt', 'JaneMacartney/165077newsML.txt', 'JaneMacartney/162404newsML.txt', 'TimFarrand/229685newsML.txt', 'JimGilchrist/186190newsML.txt', 'EricAuchard/172851newsML.txt', 'AlexanderSmith/268005newsML.txt', 'EricAuchard/175415newsML.txt', 'PatriciaCommins/108222newsML.txt', 'JohnMastrini/266669newsML.txt', 'JonathanBirt/106076newsML.txt', 'JanLopatka/175940newsML.txt', 'ScottHillis/295992newsML.txt', 'KevinMorrison/223858newsML.txt', 'SimonCowell/440535newsML.txt', 'PatriciaCommins/258801newsML.txt', 'ToddNissen/271791newsML.txt', 'WilliamKazer/196734newsML.txt', 'MureDickie/169588newsML.txt', 'LynnleyBrowning/230857newsML.txt', 'JonathanBirt/327653newsML.txt', 'FumikoFujisaki/123528newsML.txt', 'TimFarrand/220852newsML.txt', 'MarkBendeich/402412newsML.txt', \"LynneO'Donnell/258739newsML.txt\", 'AlexanderSmith/219521newsML.txt', 'LynnleyBrowning/185549newsML.txt', \"LynneO'Donnell/204874newsML.txt\", 'KirstinRidley/394816newsML.txt', 'AlanCrosby/134960newsML.txt', \"LynneO'Donnell/29593newsML.txt\", 'KevinMorrison/304259newsML.txt', 'LynnleyBrowning/305426newsML.txt', 'TheresePoletti/242113newsML.txt', 'JohnMastrini/263486newsML.txt', 'EricAuchard/186282newsML.txt', 'AlanCrosby/133183newsML.txt', 'LydiaZajc/356565newsML.txt', 'MarkBendeich/402409newsML.txt', 'PatriciaCommins/18217newsML.txt', 'LynnleyBrowning/318451newsML.txt', 'KevinDrawbaugh/293659newsML.txt', 'KirstinRidley/163112newsML.txt', 'EricAuchard/120484newsML.txt', 'FumikoFujisaki/257776newsML.txt', 'TimFarrand/225561newsML.txt', 'LynnleyBrowning/236661newsML.txt', 'AlanCrosby/156330newsML.txt', 'FumikoFujisaki/257754newsML.txt', 'GrahamEarnshaw/258604newsML.txt', 'SamuelPerry/137035newsML.txt', 'EricAuchard/18223newsML.txt', 'JoWinterbottom/210519newsML.txt', 'JimGilchrist/130537newsML.txt', 'FumikoFujisaki/257487newsML.txt', 'MatthewBunce/334354newsML.txt', 'KouroshKarimkhany/315358newsML.txt', 'KouroshKarimkhany/311931newsML.txt', \"LynneO'Donnell/158416newsML.txt\", 'AlexanderSmith/23876newsML.txt', 'TimFarrand/152851newsML.txt', 'JonathanBirt/338600newsML.txt', 'KouroshKarimkhany/287796newsML.txt', 'AaronPressman/106247newsML.txt', 'KouroshKarimkhany/170654newsML.txt', 'JanLopatka/185875newsML.txt', 'TheresePoletti/157001newsML.txt', 'KouroshKarimkhany/311972newsML.txt', 'JohnMastrini/153158newsML.txt', 'JohnMastrini/195181newsML.txt', 'LydiaZajc/311319newsML.txt', 'MichaelConnor/261401newsML.txt', 'SarahDavison/386644newsML.txt', 'JohnMastrini/195805newsML.txt', 'SarahDavison/352851newsML.txt', 'AlanCrosby/156046newsML.txt', \"LynneO'Donnell/244800newsML.txt\", 'TimFarrand/236371newsML.txt', 'EricAuchard/260570newsML.txt', 'MureDickie/108143newsML.txt', 'SamuelPerry/310667newsML.txt', 'PatriciaCommins/132671newsML.txt', 'WilliamKazer/268647newsML.txt', 'KouroshKarimkhany/129309newsML.txt', 'LydiaZajc/326409newsML.txt', 'JonathanBirt/331603newsML.txt', 'DavidLawder/163873newsML.txt', 'JoeOrtiz/343304newsML.txt', 'HeatherScoffield/129447newsML.txt', 'JanLopatka/230755newsML.txt', 'AlexanderSmith/251540newsML.txt', 'LydiaZajc/305250newsML.txt', 'EricAuchard/263257newsML.txt', 'KouroshKarimkhany/264379newsML.txt', 'RobinSidel/219316newsML.txt', 'RobinSidel/220676newsML.txt', 'KevinDrawbaugh/299416newsML.txt', 'EricAuchard/13415newsML.txt', 'JoWinterbottom/103380newsML.txt', 'MartinWolk/311937newsML.txt', 'MatthewBunce/327686newsML.txt', 'JonathanBirt/331672newsML.txt', 'JoWinterbottom/186888newsML.txt', 'PierreTran/103612newsML.txt', 'AlexanderSmith/240608newsML.txt', 'RobinSidel/163771newsML.txt', 'MartinWolk/312192newsML.txt', 'MartinWolk/20801newsML.txt', 'KouroshKarimkhany/298368newsML.txt', 'KouroshKarimkhany/299663newsML.txt', 'RobinSidel/164273newsML.txt', 'AaronPressman/269999newsML.txt', 'HeatherScoffield/133016newsML.txt', 'TheresePoletti/186457newsML.txt', 'AlanCrosby/225900newsML.txt', 'PatriciaCommins/237159newsML.txt', 'WilliamKazer/28223newsML.txt', 'EdnaFernandes/10193newsML.txt', 'AaronPressman/378457newsML.txt', 'EricAuchard/115060newsML.txt', 'HeatherScoffield/252855newsML.txt', 'FumikoFujisaki/13494newsML.txt', 'LydiaZajc/163197newsML.txt', 'EricAuchard/149671newsML.txt', 'KouroshKarimkhany/272490newsML.txt', 'EdnaFernandes/219541newsML.txt', 'AlanCrosby/224640newsML.txt', 'EdnaFernandes/220686newsML.txt', 'TanEeLyn/264108newsML.txt', 'KeithWeir/2344newsML.txt', 'TimFarrand/177684newsML.txt', 'MureDickie/163678newsML.txt', 'JoeOrtiz/247024newsML.txt', 'HeatherScoffield/251147newsML.txt', 'TimFarrand/159528newsML.txt', 'DarrenSchuettler/175068newsML.txt', 'DarrenSchuettler/172235newsML.txt', 'JoeOrtiz/29051newsML.txt', 'NickLouth/13930newsML.txt', 'PatriciaCommins/117099newsML.txt', 'PierreTran/37710newsML.txt', 'PierreTran/37690newsML.txt', 'KarlPenhaul/130351newsML.txt', 'KevinDrawbaugh/323618newsML.txt', 'MarcelMichelson/197891newsML.txt', 'BradDorfman/33758newsML.txt', 'SarahDavison/169592newsML.txt', 'RogerFillion/173423newsML.txt', 'RogerFillion/177017newsML.txt', 'JohnMastrini/177540newsML.txt', 'EricAuchard/264271newsML.txt', 'HeatherScoffield/133017newsML.txt', 'KeithWeir/22411newsML.txt', 'MartinWolk/130622newsML.txt', 'MureDickie/158417newsML.txt', 'TheresePoletti/203129newsML.txt', 'SimonCowell/385542newsML.txt', 'TanEeLyn/426779newsML.txt', 'JanLopatka/175835newsML.txt', 'EdnaFernandes/214915newsML.txt', 'JonathanBirt/169040newsML.txt', 'GrahamEarnshaw/247793newsML.txt', 'JoeOrtiz/100618newsML.txt', 'KeithWeir/181588newsML.txt', 'DarrenSchuettler/181864newsML.txt', 'JoeOrtiz/100593newsML.txt', 'JoeOrtiz/364126newsML.txt', 'KeithWeir/172133newsML.txt', 'SamuelPerry/138944newsML.txt', 'MarkBendeich/402444newsML.txt', 'AlanCrosby/143222newsML.txt', 'RobinSidel/196990newsML.txt', 'JanLopatka/177552newsML.txt', 'PierreTran/379739newsML.txt', 'AaronPressman/120600newsML.txt', \"LynneO'Donnell/265681newsML.txt\", 'TimFarrand/240674newsML.txt', 'WilliamKazer/246276newsML.txt', 'MarkBendeich/368145newsML.txt', 'JonathanBirt/107612newsML.txt', 'AlanCrosby/194667newsML.txt', 'LynnleyBrowning/103703newsML.txt', 'TheresePoletti/257205newsML.txt', 'JonathanBirt/167309newsML.txt', 'ScottHillis/161138newsML.txt', 'KevinDrawbaugh/291432newsML.txt', 'JonathanBirt/165827newsML.txt', 'JonathanBirt/174287newsML.txt', 'SimonCowell/450839newsML.txt', 'AlexanderSmith/16167newsML.txt', 'WilliamKazer/113097newsML.txt', 'AlanCrosby/142624newsML.txt', 'KouroshKarimkhany/285535newsML.txt', 'DarrenSchuettler/233587newsML.txt', 'JonathanBirt/27668newsML.txt', 'JoeOrtiz/223783newsML.txt', 'RobinSidel/110827newsML.txt', 'RobinSidel/110986newsML.txt', 'MarkBendeich/30673newsML.txt', 'JonathanBirt/26877newsML.txt', 'KevinMorrison/109875newsML.txt', 'DarrenSchuettler/248687newsML.txt', 'SamuelPerry/196870newsML.txt', 'HeatherScoffield/295589newsML.txt', 'JonathanBirt/300439newsML.txt', 'WilliamKazer/148885newsML.txt', 'BradDorfman/24388newsML.txt', 'SimonCowell/347888newsML.txt', 'TheresePoletti/181674newsML.txt', 'MatthewBunce/280207newsML.txt', 'TimFarrand/201017newsML.txt', 'KirstinRidley/314384newsML.txt', 'GrahamEarnshaw/265664newsML.txt', 'TheresePoletti/283077newsML.txt', 'MureDickie/117025newsML.txt', 'MartinWolk/127151newsML.txt', 'MarcelMichelson/217650newsML.txt', 'TimFarrand/10265newsML.txt', 'TimFarrand/149844newsML.txt', 'KeithWeir/223176newsML.txt', 'ScottHillis/140273newsML.txt', 'AlanCrosby/196144newsML.txt', 'MichaelConnor/353261newsML.txt', 'JoeOrtiz/189829newsML.txt', 'WilliamKazer/247829newsML.txt', 'SimonCowell/312858newsML.txt', \"LynneO'Donnell/111855newsML.txt\", 'ScottHillis/254803newsML.txt', 'GrahamEarnshaw/232804newsML.txt', 'ScottHillis/194787newsML.txt', 'WilliamKazer/281216newsML.txt', 'KevinMorrison/15226newsML.txt', 'SimonCowell/303707newsML.txt', 'SamuelPerry/196664newsML.txt', 'BernardHickey/148778newsML.txt', 'NickLouth/120416newsML.txt', 'KevinDrawbaugh/284178newsML.txt', 'KirstinRidley/297203newsML.txt', 'MatthewBunce/263657newsML.txt', 'TimFarrand/160644newsML.txt', 'JoWinterbottom/200668newsML.txt', 'BernardHickey/176080newsML.txt', 'KevinMorrison/176105newsML.txt', 'KeithWeir/202015newsML.txt', 'MarkBendeich/155007newsML.txt', 'SamuelPerry/137812newsML.txt', 'JohnMastrini/156054newsML.txt', 'PierreTran/187064newsML.txt', 'MatthewBunce/169229newsML.txt', 'KevinDrawbaugh/16057newsML.txt', 'EricAuchard/100385newsML.txt', 'KeithWeir/259522newsML.txt', 'AlexanderSmith/109096newsML.txt', 'DarrenSchuettler/358675newsML.txt', 'RogerFillion/218296newsML.txt', 'PatriciaCommins/270137newsML.txt', 'BenjaminKangLim/204845newsML.txt', 'JoWinterbottom/203923newsML.txt', 'WilliamKazer/257526newsML.txt', 'BradDorfman/346831newsML.txt', 'MarkBendeich/294969newsML.txt', 'BernardHickey/151764newsML.txt', 'SarahDavison/196732newsML.txt', 'WilliamKazer/222819newsML.txt', 'MarcelMichelson/210745newsML.txt', 'KeithWeir/21070newsML.txt', 'BradDorfman/344162newsML.txt', 'WilliamKazer/247720newsML.txt', 'LynnleyBrowning/163468newsML.txt', \"LynneO'Donnell/116963newsML.txt\", 'EdnaFernandes/223214newsML.txt', 'KevinDrawbaugh/10771newsML.txt', 'ToddNissen/217896newsML.txt', 'AlexanderSmith/144367newsML.txt', 'BenjaminKangLim/192394newsML.txt', 'SarahDavison/405565newsML.txt', 'JoWinterbottom/190268newsML.txt', 'HeatherScoffield/258231newsML.txt', 'FumikoFujisaki/155075newsML.txt', 'MureDickie/209826newsML.txt', 'RobinSidel/243641newsML.txt', 'SarahDavison/148891newsML.txt', 'MarcelMichelson/174150newsML.txt', 'JohnMastrini/192116newsML.txt', 'DarrenSchuettler/237697newsML.txt', 'LynnleyBrowning/102195newsML.txt', 'SarahDavison/190734newsML.txt', 'DarrenSchuettler/236470newsML.txt', 'RobinSidel/153574newsML.txt', 'KirstinRidley/27422newsML.txt', 'SimonCowell/390568newsML.txt', 'HeatherScoffield/191069newsML.txt', 'HeatherScoffield/195125newsML.txt', 'JanLopatka/226489newsML.txt', 'JohnMastrini/195069newsML.txt', \"LynneO'Donnell/238772newsML.txt\", 'EdnaFernandes/119734newsML.txt', 'AaronPressman/398094newsML.txt', 'DavidLawder/148055newsML.txt', 'DavidLawder/148624newsML.txt', 'BenjaminKangLim/155439newsML.txt', 'KirstinRidley/371805newsML.txt', 'ToddNissen/245562newsML.txt', 'SimonCowell/448236newsML.txt', 'DavidLawder/150717newsML.txt', 'JanLopatka/224921newsML.txt', 'ScottHillis/165123newsML.txt', 'TanEeLyn/250726newsML.txt', 'KarlPenhaul/314740newsML.txt', 'KarlPenhaul/266933newsML.txt', 'MatthewBunce/356601newsML.txt', 'JoWinterbottom/203926newsML.txt', 'KarlPenhaul/281959newsML.txt', 'DarrenSchuettler/128985newsML.txt', 'SimonCowell/442065newsML.txt', 'RobinSidel/156766newsML.txt', 'EdnaFernandes/179688newsML.txt', 'KevinDrawbaugh/178086newsML.txt', 'HeatherScoffield/233588newsML.txt', 'PatriciaCommins/178068newsML.txt', 'KouroshKarimkhany/120392newsML.txt', 'EdnaFernandes/178869newsML.txt', 'SarahDavison/383224newsML.txt', 'JonathanBirt/200640newsML.txt', 'FumikoFujisaki/34837newsML.txt', 'WilliamKazer/165109newsML.txt', 'MichaelConnor/307864newsML.txt', 'MureDickie/105255newsML.txt', 'SamuelPerry/309801newsML.txt', 'SimonCowell/447824newsML.txt', 'AlexanderSmith/302382newsML.txt', 'SarahDavison/317706newsML.txt', 'JoWinterbottom/197541newsML.txt', 'TanEeLyn/250732newsML.txt', 'RobinSidel/129289newsML.txt', 'KevinDrawbaugh/317846newsML.txt', 'JonathanBirt/164502newsML.txt', 'RogerFillion/32727newsML.txt', 'RogerFillion/360479newsML.txt', 'TimFarrand/15631newsML.txt', 'MichaelConnor/124763newsML.txt', 'RogerFillion/351344newsML.txt', 'SamuelPerry/151392newsML.txt', 'MartinWolk/130607newsML.txt', 'MatthewBunce/248714newsML.txt', 'LynnleyBrowning/153131newsML.txt', 'TheresePoletti/189987newsML.txt', 'RogerFillion/237323newsML.txt', 'MatthewBunce/233655newsML.txt', 'KirstinRidley/157761newsML.txt', 'AlexanderSmith/179671newsML.txt', 'AlexanderSmith/188417newsML.txt', 'BenjaminKangLim/189031newsML.txt', 'JoWinterbottom/195814newsML.txt', 'ToddNissen/217362newsML.txt', 'MarkBendeich/27264newsML.txt', 'JoWinterbottom/148227newsML.txt', 'MarkBendeich/271058newsML.txt', 'KevinMorrison/221499newsML.txt', 'FumikoFujisaki/402531newsML.txt', 'KouroshKarimkhany/121032newsML.txt', 'SimonCowell/400494newsML.txt', 'SimonCowell/405124newsML.txt', \"LynneO'Donnell/180191newsML.txt\", 'AaronPressman/330967newsML.txt', 'JoWinterbottom/191718newsML.txt', 'KevinMorrison/198071newsML.txt', 'KouroshKarimkhany/287103newsML.txt', 'BradDorfman/199931newsML.txt', 'LynnleyBrowning/27013newsML.txt', \"LynneO'Donnell/2439newsML.txt\", 'PierreTran/319304newsML.txt', 'LynnleyBrowning/263781newsML.txt', 'PatriciaCommins/143591newsML.txt', 'KevinMorrison/184096newsML.txt', 'PeterHumphrey/271287newsML.txt', 'JoWinterbottom/126147newsML.txt', 'MichaelConnor/305809newsML.txt', 'LynnleyBrowning/324280newsML.txt', 'SamuelPerry/207693newsML.txt', 'PatriciaCommins/255733newsML.txt', 'KarlPenhaul/311686newsML.txt', 'KevinMorrison/184150newsML.txt', 'KouroshKarimkhany/124768newsML.txt', 'BradDorfman/343945newsML.txt', 'SimonCowell/424503newsML.txt', 'SimonCowell/405057newsML.txt', 'KirstinRidley/254351newsML.txt', 'KeithWeir/161753newsML.txt', 'KeithWeir/163109newsML.txt', 'KevinDrawbaugh/311940newsML.txt', 'DarrenSchuettler/34117newsML.txt', 'TheresePoletti/27551newsML.txt', 'MatthewBunce/107670newsML.txt', 'JaneMacartney/279477newsML.txt', 'FumikoFujisaki/330736newsML.txt', 'KeithWeir/162021newsML.txt', 'AlexanderSmith/18111newsML.txt', 'KirstinRidley/294355newsML.txt', 'MureDickie/166433newsML.txt', 'RobinSidel/216335newsML.txt', 'RogerFillion/217899newsML.txt', 'KevinMorrison/184143newsML.txt', 'MichaelConnor/372558newsML.txt', 'TanEeLyn/123487newsML.txt', 'AlexanderSmith/18227newsML.txt', 'JohnMastrini/266601newsML.txt', 'SimonCowell/255730newsML.txt', 'HeatherScoffield/266003newsML.txt', 'HeatherScoffield/266002newsML.txt', 'PeterHumphrey/190619newsML.txt', 'DarrenSchuettler/213721newsML.txt', 'RogerFillion/146861newsML.txt', 'EricAuchard/13583newsML.txt', 'FumikoFujisaki/247828newsML.txt', 'MureDickie/156653newsML.txt', 'HeatherScoffield/216816newsML.txt', 'RogerFillion/217357newsML.txt', 'PeterHumphrey/235690newsML.txt', \"LynneO'Donnell/159976newsML.txt\", 'MarcelMichelson/121701newsML.txt', 'DavidLawder/170305newsML.txt', 'MarkBendeich/30686newsML.txt', 'KevinDrawbaugh/270070newsML.txt', 'FumikoFujisaki/140372newsML.txt', 'FumikoFujisaki/142460newsML.txt', 'JaneMacartney/150364newsML.txt', 'KarlPenhaul/156602newsML.txt', 'LynnleyBrowning/269345newsML.txt', 'LynnleyBrowning/298904newsML.txt', 'JaneMacartney/125313newsML.txt', 'SamuelPerry/189155newsML.txt', 'KarlPenhaul/343706newsML.txt', 'HeatherScoffield/233579newsML.txt', 'AlexanderSmith/220666newsML.txt', 'AlexanderSmith/219512newsML.txt', 'MarkBendeich/364654newsML.txt', 'KevinMorrison/109876newsML.txt', 'PeterHumphrey/238764newsML.txt', 'SamuelPerry/10781newsML.txt', 'MartinWolk/315688newsML.txt', 'SarahDavison/387956newsML.txt', 'DarrenSchuettler/377885newsML.txt', \"LynneO'Donnell/110718newsML.txt\", 'BradDorfman/209880newsML.txt', 'AlexanderSmith/224655newsML.txt', 'MatthewBunce/153002newsML.txt', 'LynnleyBrowning/166214newsML.txt', 'EdnaFernandes/199226newsML.txt', 'MarcelMichelson/158085newsML.txt', 'PierreTran/135536newsML.txt', 'KevinMorrison/223897newsML.txt', 'DarrenSchuettler/139755newsML.txt', 'MichaelConnor/184787newsML.txt', 'DavidLawder/156823newsML.txt', 'JoeOrtiz/100554newsML.txt', 'JoeOrtiz/364594newsML.txt', 'RogerFillion/215313newsML.txt', 'RogerFillion/214814newsML.txt', \"LynneO'Donnell/112106newsML.txt\", 'KevinDrawbaugh/243558newsML.txt', 'TheresePoletti/146012newsML.txt', 'WilliamKazer/239878newsML.txt', 'MureDickie/159960newsML.txt', 'TheresePoletti/246358newsML.txt', 'SarahDavison/429225newsML.txt', 'ToddNissen/261367newsML.txt', 'EdnaFernandes/10264newsML.txt', 'KirstinRidley/189900newsML.txt', 'BradDorfman/200749newsML.txt', 'PeterHumphrey/195348newsML.txt', 'JaneMacartney/121957newsML.txt', 'MichaelConnor/186990newsML.txt', 'FumikoFujisaki/103993newsML.txt', 'KevinDrawbaugh/137042newsML.txt', 'PierreTran/303195newsML.txt', 'SamuelPerry/199947newsML.txt', 'JaneMacartney/264064newsML.txt', 'GrahamEarnshaw/190410newsML.txt', 'FumikoFujisaki/383379newsML.txt', 'PeterHumphrey/184622newsML.txt', 'RogerFillion/215305newsML.txt', 'PeterHumphrey/250825newsML.txt', 'KevinMorrison/115436newsML.txt', 'TheresePoletti/242590newsML.txt', 'NickLouth/137486newsML.txt', 'MatthewBunce/362649newsML.txt', 'KirstinRidley/187985newsML.txt', 'PierreTran/137348newsML.txt', 'JoWinterbottom/144390newsML.txt', 'KirstinRidley/188419newsML.txt', 'KeithWeir/161738newsML.txt', 'DavidLawder/148215newsML.txt', 'LynnleyBrowning/130255newsML.txt', 'EricAuchard/12877newsML.txt', 'EricAuchard/13068newsML.txt', 'JoWinterbottom/159560newsML.txt', 'KirstinRidley/156083newsML.txt', 'TheresePoletti/179117newsML.txt', 'BradDorfman/226801newsML.txt', 'DarrenSchuettler/144044newsML.txt', 'DavidLawder/162531newsML.txt', 'TimFarrand/167803newsML.txt', 'MichaelConnor/120404newsML.txt', 'HeatherScoffield/238607newsML.txt', 'PierreTran/134012newsML.txt', 'JimGilchrist/133504newsML.txt', 'SamuelPerry/142698newsML.txt', 'SamuelPerry/144030newsML.txt', 'PierreTran/134014newsML.txt', 'PierreTran/286787newsML.txt', 'HeatherScoffield/163214newsML.txt', 'EricAuchard/139624newsML.txt', 'EdnaFernandes/199220newsML.txt', 'JaneMacartney/106841newsML.txt', 'TanEeLyn/163670newsML.txt', 'SamuelPerry/206811newsML.txt', 'KevinDrawbaugh/283914newsML.txt', 'BradDorfman/276360newsML.txt', 'PeterHumphrey/271684newsML.txt', 'DavidLawder/126792newsML.txt', 'DavidLawder/162152newsML.txt', 'TimFarrand/238095newsML.txt', 'EricAuchard/205742newsML.txt', 'NickLouth/13391newsML.txt', 'ToddNissen/120415newsML.txt', 'HeatherScoffield/219630newsML.txt', 'DavidLawder/164658newsML.txt', 'HeatherScoffield/230639newsML.txt', 'KouroshKarimkhany/290979newsML.txt', 'TheresePoletti/120387newsML.txt', 'EricAuchard/292697newsML.txt', 'DarrenSchuettler/143081newsML.txt', 'BradDorfman/156808newsML.txt', 'TanEeLyn/336357newsML.txt', 'JohnMastrini/18320newsML.txt', 'JohnMastrini/18519newsML.txt', 'JaneMacartney/109736newsML.txt', 'JaneMacartney/101337newsML.txt', 'DarrenSchuettler/348501newsML.txt', 'GrahamEarnshaw/277010newsML.txt']\n"
     ]
    }
   ],
   "source": [
    "print(\"résultats avec matrice Frq : \\n\", researchFrq)\n"
   ]
  },
  {
   "cell_type": "markdown",
   "metadata": {},
   "source": [
    "Affichage de la recherche avec TF-IDF"
   ]
  },
  {
   "cell_type": "code",
   "execution_count": 88,
   "metadata": {
    "scrolled": true
   },
   "outputs": [
    {
     "name": "stdout",
     "output_type": "stream",
     "text": [
      "résultats avec matrice TFIDF : \n",
      " ['AlanCrosby/136471newsML.txt', 'AlanCrosby/135777newsML.txt', 'JohnMastrini/159754newsML.txt', 'JohnMastrini/13806newsML.txt', 'JohnMastrini/18297newsML.txt', 'JanLopatka/163409newsML.txt', 'JohnMastrini/18529newsML.txt', 'JanLopatka/163094newsML.txt', 'WilliamKazer/208244newsML.txt', 'AlanCrosby/140051newsML.txt', 'ScottHillis/299129newsML.txt', 'AlanCrosby/139110newsML.txt', 'AlanCrosby/216602newsML.txt', 'AlanCrosby/217025newsML.txt', 'JohnMastrini/105045newsML.txt', 'KevinDrawbaugh/191657newsML.txt', 'JohnMastrini/123158newsML.txt', 'RobinSidel/113551newsML.txt', 'SarahDavison/213002newsML.txt', 'DarrenSchuettler/383585newsML.txt', 'GrahamEarnshaw/172788newsML.txt', 'MureDickie/187394newsML.txt', 'JohnMastrini/266394newsML.txt', 'WilliamKazer/235763newsML.txt', 'WilliamKazer/178884newsML.txt', 'WilliamKazer/180188newsML.txt', 'JanLopatka/10224newsML.txt', 'LydiaZajc/185720newsML.txt', 'MureDickie/186174newsML.txt', 'KarlPenhaul/305637newsML.txt', 'MartinWolk/183836newsML.txt', 'JanLopatka/10626newsML.txt', 'AaronPressman/401260newsML.txt', 'DarrenSchuettler/364643newsML.txt', 'LydiaZajc/130081newsML.txt', 'ScottHillis/140340newsML.txt', 'ScottHillis/142465newsML.txt', 'WilliamKazer/147523newsML.txt', \"LynneO'Donnell/169600newsML.txt\", 'FumikoFujisaki/10028newsML.txt', 'JaneMacartney/253835newsML.txt', 'GrahamEarnshaw/134309newsML.txt', 'LydiaZajc/164298newsML.txt', 'JohnMastrini/242893newsML.txt', 'LydiaZajc/162222newsML.txt', 'JaneMacartney/246277newsML.txt', 'BradDorfman/331819newsML.txt', 'SimonCowell/15627newsML.txt', 'WilliamKazer/178505newsML.txt', 'AaronPressman/182596newsML.txt', 'AaronPressman/186392newsML.txt', 'JohnMastrini/22903newsML.txt', 'DarrenSchuettler/174369newsML.txt', 'ScottHillis/282007newsML.txt', 'JaneMacartney/247009newsML.txt', 'GrahamEarnshaw/271168newsML.txt', 'JaneMacartney/244948newsML.txt', 'AlexanderSmith/304231newsML.txt', 'GrahamEarnshaw/187405newsML.txt', 'AaronPressman/156814newsML.txt', 'JohnMastrini/207961newsML.txt', 'LydiaZajc/174373newsML.txt', 'JohnMastrini/205953newsML.txt', 'JanLopatka/290685newsML.txt', 'LydiaZajc/366471newsML.txt', 'ScottHillis/184219newsML.txt', 'KarlPenhaul/305571newsML.txt', 'GrahamEarnshaw/226150newsML.txt', 'HeatherScoffield/204659newsML.txt', 'TanEeLyn/41230newsML.txt', 'GrahamEarnshaw/254834newsML.txt', 'EricAuchard/183344newsML.txt', 'AlanCrosby/199535newsML.txt', 'TheresePoletti/157001newsML.txt', 'LynnleyBrowning/263722newsML.txt', 'MureDickie/199837newsML.txt', 'DarrenSchuettler/168489newsML.txt', 'FumikoFujisaki/23340newsML.txt', 'LydiaZajc/227933newsML.txt', 'SarahDavison/428346newsML.txt', 'SarahDavison/426661newsML.txt', 'JonathanBirt/319856newsML.txt', 'TimFarrand/175594newsML.txt', 'WilliamKazer/126643newsML.txt', 'ScottHillis/318653newsML.txt', 'GrahamEarnshaw/103906newsML.txt', 'FumikoFujisaki/184337newsML.txt', 'JohnMastrini/21246newsML.txt', 'WilliamKazer/188958newsML.txt', 'RobinSidel/219316newsML.txt', 'RobinSidel/220676newsML.txt', 'SarahDavison/26419newsML.txt', 'JaneMacartney/249226newsML.txt', \"LynneO'Donnell/102480newsML.txt\", 'KirstinRidley/341840newsML.txt', 'TimFarrand/235003newsML.txt', 'SamuelPerry/120398newsML.txt', 'BenjaminKangLim/21575newsML.txt', 'LydiaZajc/224725newsML.txt', 'MarkBendeich/358701newsML.txt', 'SarahDavison/31981newsML.txt', 'MarkBendeich/358695newsML.txt', 'TheresePoletti/200003newsML.txt', 'LydiaZajc/334277newsML.txt', 'MureDickie/174493newsML.txt', 'LydiaZajc/236474newsML.txt', 'BenjaminKangLim/24300newsML.txt', \"LynneO'Donnell/187362newsML.txt\", 'GrahamEarnshaw/273087newsML.txt', 'WilliamKazer/113095newsML.txt', 'PatriciaCommins/205566newsML.txt', 'KouroshKarimkhany/331262newsML.txt', 'GrahamEarnshaw/274219newsML.txt', 'ScottHillis/195357newsML.txt', 'LydiaZajc/345128newsML.txt', \"LynneO'Donnell/198178newsML.txt\", 'NickLouth/160349newsML.txt', 'KevinMorrison/256320newsML.txt', 'SarahDavison/310313newsML.txt', 'KevinMorrison/256350newsML.txt', 'MureDickie/169608newsML.txt', 'LydiaZajc/10274newsML.txt', 'MartinWolk/274876newsML.txt', 'GrahamEarnshaw/114251newsML.txt', 'MartinWolk/275458newsML.txt', 'BenjaminKangLim/15741newsML.txt', 'EricAuchard/133874newsML.txt', 'LydiaZajc/219628newsML.txt', 'FumikoFujisaki/348688newsML.txt', 'MatthewBunce/327686newsML.txt', 'AlanCrosby/10306newsML.txt', 'AlanCrosby/10650newsML.txt', 'KirstinRidley/341864newsML.txt', 'BradDorfman/346831newsML.txt', 'RobinSidel/10726newsML.txt', 'DarrenSchuettler/144792newsML.txt', 'WilliamKazer/129188newsML.txt', 'LydiaZajc/165902newsML.txt', 'DarrenSchuettler/144056newsML.txt', 'WilliamKazer/195340newsML.txt', 'AaronPressman/394237newsML.txt', 'FumikoFujisaki/28301newsML.txt', 'WilliamKazer/153448newsML.txt', 'KeithWeir/265008newsML.txt', 'SarahDavison/392316newsML.txt', \"LynneO'Donnell/166518newsML.txt\", 'SarahDavison/166481newsML.txt', 'GrahamEarnshaw/231139newsML.txt', 'KeithWeir/275481newsML.txt', 'LydiaZajc/239275newsML.txt', 'LydiaZajc/302437newsML.txt', 'SarahDavison/365768newsML.txt', 'KevinDrawbaugh/233324newsML.txt', 'SimonCowell/248599newsML.txt', 'BradDorfman/240151newsML.txt', 'MatthewBunce/362814newsML.txt', 'BradDorfman/309066newsML.txt', 'KeithWeir/265140newsML.txt', 'JanLopatka/293216newsML.txt', 'JanLopatka/293006newsML.txt', 'LynnleyBrowning/159726newsML.txt', 'BradDorfman/199931newsML.txt', 'BenjaminKangLim/18363newsML.txt', 'JonathanBirt/327653newsML.txt', 'LynnleyBrowning/266599newsML.txt', 'PatriciaCommins/143591newsML.txt', 'MureDickie/126632newsML.txt', 'SarahDavison/386644newsML.txt', 'LydiaZajc/216822newsML.txt', 'LydiaZajc/172241newsML.txt', 'BernardHickey/294952newsML.txt', 'EdnaFernandes/17343newsML.txt', 'SarahDavison/24260newsML.txt', 'GrahamEarnshaw/244929newsML.txt', 'DarrenSchuettler/248687newsML.txt', 'ScottHillis/145712newsML.txt', 'MatthewBunce/280207newsML.txt', 'MichaelConnor/372558newsML.txt', \"LynneO'Donnell/114299newsML.txt\", 'TimFarrand/224668newsML.txt', 'KeithWeir/117941newsML.txt', 'JaneMacartney/242319newsML.txt', 'JaneMacartney/272173newsML.txt', 'SarahDavison/409023newsML.txt', 'EricAuchard/227670newsML.txt', 'LydiaZajc/364632newsML.txt', 'KeithWeir/117958newsML.txt', 'SamuelPerry/10781newsML.txt', 'GrahamEarnshaw/252118newsML.txt', 'JaneMacartney/242519newsML.txt', 'AlanCrosby/110434newsML.txt', 'JoeOrtiz/290471newsML.txt', 'LydiaZajc/329147newsML.txt', \"LynneO'Donnell/2462newsML.txt\", 'PierreTran/187064newsML.txt', 'MatthewBunce/169229newsML.txt', 'SarahDavison/396743newsML.txt', 'JohnMastrini/202307newsML.txt', 'BenjaminKangLim/204845newsML.txt', 'BernardHickey/201116newsML.txt', 'EricAuchard/149671newsML.txt', 'JoeOrtiz/309597newsML.txt', 'LydiaZajc/202140newsML.txt', 'LynnleyBrowning/114005newsML.txt', \"LynneO'Donnell/248156newsML.txt\", 'TimFarrand/114953newsML.txt', 'EricAuchard/116212newsML.txt', 'KouroshKarimkhany/330773newsML.txt', 'LydiaZajc/2387newsML.txt', \"LynneO'Donnell/23184newsML.txt\", \"LynneO'Donnell/20855newsML.txt\", 'LydiaZajc/230638newsML.txt', 'KarlPenhaul/266933newsML.txt', 'KouroshKarimkhany/172988newsML.txt', 'JaneMacartney/106841newsML.txt', 'JonathanBirt/339075newsML.txt', 'JoWinterbottom/183638newsML.txt', \"LynneO'Donnell/148890newsML.txt\", 'BradDorfman/276360newsML.txt', 'KeithWeir/117955newsML.txt', 'LydiaZajc/362785newsML.txt', 'RogerFillion/351344newsML.txt', 'MatthewBunce/233655newsML.txt', 'JimGilchrist/172811newsML.txt', 'SarahDavison/21569newsML.txt', 'GrahamEarnshaw/249198newsML.txt', 'EricAuchard/288069newsML.txt', 'DarrenSchuettler/156181newsML.txt', 'SarahDavison/310654newsML.txt', 'GrahamEarnshaw/267059newsML.txt', \"LynneO'Donnell/125560newsML.txt\", \"LynneO'Donnell/115594newsML.txt\", 'DarrenSchuettler/162018newsML.txt', 'DarrenSchuettler/161718newsML.txt', \"LynneO'Donnell/125205newsML.txt\", \"LynneO'Donnell/146472newsML.txt\", \"LynneO'Donnell/146245newsML.txt\", 'JoeOrtiz/180577newsML.txt', 'SamuelPerry/207747newsML.txt', 'SarahDavison/396740newsML.txt', 'ScottHillis/340709newsML.txt', 'GrahamEarnshaw/270340newsML.txt', 'GrahamEarnshaw/271134newsML.txt', 'LydiaZajc/207278newsML.txt', 'SimonCowell/402074newsML.txt', 'JoWinterbottom/185611newsML.txt', 'SimonCowell/409884newsML.txt', 'WilliamKazer/12909newsML.txt', 'JohnMastrini/266601newsML.txt', 'KevinMorrison/218602newsML.txt', 'LydiaZajc/316724newsML.txt', 'MatthewBunce/251685newsML.txt', 'EricAuchard/183534newsML.txt', 'TimFarrand/242992newsML.txt', 'KeithWeir/164490newsML.txt', 'SamuelPerry/178271newsML.txt', 'GrahamEarnshaw/229903newsML.txt', 'NickLouth/162894newsML.txt', 'KarlPenhaul/343706newsML.txt', 'MarkBendeich/364654newsML.txt', 'LydiaZajc/308198newsML.txt', 'EricAuchard/216338newsML.txt', \"LynneO'Donnell/247724newsML.txt\", 'AlexanderSmith/21127newsML.txt', 'LydiaZajc/332252newsML.txt', 'SarahDavison/414690newsML.txt', 'JoWinterbottom/141413newsML.txt', 'KevinMorrison/229778newsML.txt', 'BenjaminKangLim/187423newsML.txt', 'DarrenSchuettler/139755newsML.txt', 'LydiaZajc/188535newsML.txt', 'LydiaZajc/15592newsML.txt', 'LynnleyBrowning/202315newsML.txt', 'ToddNissen/191372newsML.txt', \"LynneO'Donnell/17858newsML.txt\", \"LynneO'Donnell/121931newsML.txt\", 'JaneMacartney/264064newsML.txt', 'TheresePoletti/187047newsML.txt', 'KevinDrawbaugh/110894newsML.txt', 'TimFarrand/234885newsML.txt', 'MichaelConnor/324861newsML.txt', 'TimFarrand/173770newsML.txt', 'KevinDrawbaugh/13838newsML.txt', 'PierreTran/137348newsML.txt', \"LynneO'Donnell/27316newsML.txt\", 'SamuelPerry/181711newsML.txt', 'MureDickie/209808newsML.txt', 'GrahamEarnshaw/217296newsML.txt', 'JohnMastrini/179858newsML.txt', 'MichaelConnor/323784newsML.txt', 'LydiaZajc/233590newsML.txt', 'TheresePoletti/182700newsML.txt', 'LynnleyBrowning/130255newsML.txt', \"LynneO'Donnell/12381newsML.txt\", 'JoWinterbottom/185674newsML.txt', 'DarrenSchuettler/144044newsML.txt', 'AaronPressman/233150newsML.txt', 'SimonCowell/420566newsML.txt', \"LynneO'Donnell/10327newsML.txt\", 'MichaelConnor/328867newsML.txt', 'AlanCrosby/188747newsML.txt', 'MarkBendeich/286524newsML.txt', 'BenjaminKangLim/186173newsML.txt', \"LynneO'Donnell/229894newsML.txt\", 'JanLopatka/295717newsML.txt', 'DavidLawder/126792newsML.txt', 'EdnaFernandes/195876newsML.txt', 'BernardHickey/218591newsML.txt', 'KirstinRidley/167814newsML.txt', 'RobinSidel/243684newsML.txt', 'KirstinRidley/163119newsML.txt', 'GrahamEarnshaw/201228newsML.txt', 'TimFarrand/242910newsML.txt', \"LynneO'Donnell/15736newsML.txt\", 'KouroshKarimkhany/101520newsML.txt', 'ToddNissen/120415newsML.txt', 'EricAuchard/121521newsML.txt', 'EricAuchard/117213newsML.txt', 'TimFarrand/237957newsML.txt', 'JonathanBirt/219548newsML.txt', 'TimFarrand/210560newsML.txt', \"LynneO'Donnell/158405newsML.txt\", 'PierreTran/270873newsML.txt', 'BenjaminKangLim/195350newsML.txt', 'MureDickie/192419newsML.txt', 'HeatherScoffield/2751newsML.txt', 'LydiaZajc/213719newsML.txt', 'WilliamKazer/206559newsML.txt', 'GrahamEarnshaw/204791newsML.txt', 'AaronPressman/237175newsML.txt', 'EricAuchard/18802newsML.txt', 'JoeOrtiz/148240newsML.txt', 'KouroshKarimkhany/189198newsML.txt', 'JoWinterbottom/183716newsML.txt', 'ScottHillis/130513newsML.txt', 'TheresePoletti/246460newsML.txt', 'TimFarrand/127403newsML.txt', 'HeatherScoffield/248690newsML.txt', 'TheresePoletti/203028newsML.txt', 'DarrenSchuettler/143081newsML.txt', 'AlexanderSmith/239202newsML.txt', 'MarkBendeich/373924newsML.txt', 'JaneMacartney/105215newsML.txt', 'TheresePoletti/249362newsML.txt', 'JohnMastrini/281893newsML.txt', 'TimFarrand/154492newsML.txt', 'KevinMorrison/292666newsML.txt', 'KevinMorrison/292246newsML.txt', 'KevinDrawbaugh/293808newsML.txt', 'EricAuchard/261502newsML.txt', 'AlexanderSmith/110282newsML.txt', 'BenjaminKangLim/174581newsML.txt', 'SamuelPerry/197518newsML.txt', 'RobinSidel/147604newsML.txt', 'MarkBendeich/395441newsML.txt', 'WilliamKazer/264132newsML.txt', 'KevinMorrison/244734newsML.txt', 'MarkBendeich/368102newsML.txt', 'TimFarrand/229159newsML.txt', 'JonathanBirt/172185newsML.txt', 'RogerFillion/154675newsML.txt', 'EricAuchard/209979newsML.txt', 'KevinMorrison/244698newsML.txt', 'JimGilchrist/159926newsML.txt', 'BradDorfman/314102newsML.txt', 'KouroshKarimkhany/203674newsML.txt', 'KouroshKarimkhany/202658newsML.txt', 'JohnMastrini/263693newsML.txt', \"LynneO'Donnell/151846newsML.txt\", 'MureDickie/167928newsML.txt', 'EdnaFernandes/15633newsML.txt', 'EricAuchard/111437newsML.txt', 'BenjaminKangLim/102444newsML.txt', 'MartinWolk/316912newsML.txt', 'JonathanBirt/289165newsML.txt', 'JoWinterbottom/186890newsML.txt', 'EdnaFernandes/117960newsML.txt', 'EricAuchard/210069newsML.txt', 'JoWinterbottom/184783newsML.txt', 'JaneMacartney/165077newsML.txt', 'JaneMacartney/162404newsML.txt', 'TimFarrand/229685newsML.txt', 'JimGilchrist/186190newsML.txt', 'EricAuchard/172851newsML.txt', 'AlexanderSmith/268005newsML.txt', 'EricAuchard/175415newsML.txt', 'PatriciaCommins/108222newsML.txt', 'JohnMastrini/266669newsML.txt', 'JonathanBirt/106076newsML.txt', 'JanLopatka/175940newsML.txt', 'ScottHillis/295992newsML.txt', 'KevinMorrison/223858newsML.txt', 'SimonCowell/440535newsML.txt', 'PatriciaCommins/258801newsML.txt', 'ToddNissen/271791newsML.txt', 'WilliamKazer/196734newsML.txt', 'MureDickie/169588newsML.txt', 'LynnleyBrowning/230857newsML.txt', 'FumikoFujisaki/123528newsML.txt', 'TimFarrand/220852newsML.txt', 'MarkBendeich/402412newsML.txt', \"LynneO'Donnell/258739newsML.txt\", 'AlexanderSmith/219521newsML.txt', 'LynnleyBrowning/185549newsML.txt', \"LynneO'Donnell/204874newsML.txt\", 'KirstinRidley/394816newsML.txt', 'AlanCrosby/134960newsML.txt', \"LynneO'Donnell/29593newsML.txt\", 'KevinMorrison/304259newsML.txt', 'LynnleyBrowning/305426newsML.txt', 'TheresePoletti/242113newsML.txt', 'JohnMastrini/263486newsML.txt', 'EricAuchard/186282newsML.txt', 'AlanCrosby/133183newsML.txt', 'LydiaZajc/356565newsML.txt', 'MarkBendeich/402409newsML.txt', 'PatriciaCommins/18217newsML.txt', 'LynnleyBrowning/318451newsML.txt', 'KevinDrawbaugh/293659newsML.txt', 'KirstinRidley/163112newsML.txt', 'EricAuchard/120484newsML.txt', 'FumikoFujisaki/257776newsML.txt', 'TimFarrand/225561newsML.txt', 'LynnleyBrowning/236661newsML.txt', 'AlanCrosby/156330newsML.txt', 'FumikoFujisaki/257754newsML.txt', 'GrahamEarnshaw/258604newsML.txt', 'SamuelPerry/137035newsML.txt', 'EricAuchard/18223newsML.txt', 'JoWinterbottom/210519newsML.txt', 'JimGilchrist/130537newsML.txt', 'FumikoFujisaki/257487newsML.txt', 'MatthewBunce/334354newsML.txt', 'KouroshKarimkhany/315358newsML.txt', 'KouroshKarimkhany/311931newsML.txt', \"LynneO'Donnell/158416newsML.txt\", 'AlexanderSmith/23876newsML.txt', 'TimFarrand/152851newsML.txt', 'JonathanBirt/338600newsML.txt', 'KouroshKarimkhany/287796newsML.txt', 'AaronPressman/106247newsML.txt', 'KouroshKarimkhany/170654newsML.txt', 'JanLopatka/185875newsML.txt', 'KouroshKarimkhany/311972newsML.txt', 'JohnMastrini/153158newsML.txt', 'JohnMastrini/195181newsML.txt', 'LydiaZajc/311319newsML.txt', 'MichaelConnor/261401newsML.txt', 'JohnMastrini/195805newsML.txt', 'SarahDavison/352851newsML.txt', 'AlanCrosby/156046newsML.txt', \"LynneO'Donnell/244800newsML.txt\", 'TimFarrand/236371newsML.txt', 'EricAuchard/260570newsML.txt', 'MureDickie/108143newsML.txt', 'SamuelPerry/310667newsML.txt', 'PatriciaCommins/132671newsML.txt', 'WilliamKazer/268647newsML.txt', 'KouroshKarimkhany/129309newsML.txt', 'LydiaZajc/326409newsML.txt', 'JonathanBirt/331603newsML.txt', 'DavidLawder/163873newsML.txt', 'JoeOrtiz/343304newsML.txt', 'HeatherScoffield/129447newsML.txt', 'JanLopatka/230755newsML.txt', 'AlexanderSmith/251540newsML.txt', 'LydiaZajc/305250newsML.txt', 'EricAuchard/263257newsML.txt', 'KouroshKarimkhany/264379newsML.txt', 'KevinDrawbaugh/299416newsML.txt', 'EricAuchard/13415newsML.txt', 'JoWinterbottom/103380newsML.txt', 'MartinWolk/311937newsML.txt', 'JonathanBirt/331672newsML.txt', 'JoWinterbottom/186888newsML.txt', 'PierreTran/103612newsML.txt', 'AlexanderSmith/240608newsML.txt', 'RobinSidel/163771newsML.txt', 'MartinWolk/312192newsML.txt', 'MartinWolk/20801newsML.txt', 'KouroshKarimkhany/298368newsML.txt', 'KouroshKarimkhany/299663newsML.txt', 'RobinSidel/164273newsML.txt', 'AaronPressman/269999newsML.txt', 'HeatherScoffield/133016newsML.txt', 'TheresePoletti/186457newsML.txt', 'AlanCrosby/225900newsML.txt', 'PatriciaCommins/237159newsML.txt', 'WilliamKazer/28223newsML.txt', 'EdnaFernandes/10193newsML.txt', 'AaronPressman/378457newsML.txt', 'EricAuchard/115060newsML.txt', 'HeatherScoffield/252855newsML.txt', 'FumikoFujisaki/13494newsML.txt', 'LydiaZajc/163197newsML.txt', 'KouroshKarimkhany/272490newsML.txt', 'EdnaFernandes/219541newsML.txt', 'AlanCrosby/224640newsML.txt', 'EdnaFernandes/220686newsML.txt', 'TanEeLyn/264108newsML.txt', 'KeithWeir/2344newsML.txt', 'TimFarrand/177684newsML.txt', 'MureDickie/163678newsML.txt', 'JoeOrtiz/247024newsML.txt', 'HeatherScoffield/251147newsML.txt', 'TimFarrand/159528newsML.txt', 'DarrenSchuettler/175068newsML.txt', 'DarrenSchuettler/172235newsML.txt', 'JoeOrtiz/29051newsML.txt', 'NickLouth/13930newsML.txt', 'PatriciaCommins/117099newsML.txt', 'PierreTran/37710newsML.txt', 'PierreTran/37690newsML.txt', 'KarlPenhaul/130351newsML.txt', 'KevinDrawbaugh/323618newsML.txt', 'MarcelMichelson/197891newsML.txt', 'BradDorfman/33758newsML.txt', 'SarahDavison/169592newsML.txt', 'RogerFillion/173423newsML.txt', 'RogerFillion/177017newsML.txt', 'JohnMastrini/177540newsML.txt', 'EricAuchard/264271newsML.txt', 'HeatherScoffield/133017newsML.txt', 'KeithWeir/22411newsML.txt', 'MartinWolk/130622newsML.txt', 'MureDickie/158417newsML.txt', 'TheresePoletti/203129newsML.txt', 'SimonCowell/385542newsML.txt', 'TanEeLyn/426779newsML.txt', 'JanLopatka/175835newsML.txt', 'EdnaFernandes/214915newsML.txt', 'JonathanBirt/169040newsML.txt', 'GrahamEarnshaw/247793newsML.txt', 'JoeOrtiz/100618newsML.txt', 'KeithWeir/181588newsML.txt', 'DarrenSchuettler/181864newsML.txt', 'JoeOrtiz/100593newsML.txt', 'JoeOrtiz/364126newsML.txt', 'KeithWeir/172133newsML.txt', 'SamuelPerry/138944newsML.txt', 'MarkBendeich/402444newsML.txt', 'AlanCrosby/143222newsML.txt', 'RobinSidel/196990newsML.txt', 'JanLopatka/177552newsML.txt', 'PierreTran/379739newsML.txt', 'AaronPressman/120600newsML.txt', \"LynneO'Donnell/265681newsML.txt\", 'TimFarrand/240674newsML.txt', 'WilliamKazer/246276newsML.txt', 'MarkBendeich/368145newsML.txt', 'JonathanBirt/107612newsML.txt', 'AlanCrosby/194667newsML.txt', 'LynnleyBrowning/103703newsML.txt', 'TheresePoletti/257205newsML.txt', 'JonathanBirt/167309newsML.txt', 'ScottHillis/161138newsML.txt', 'KevinDrawbaugh/291432newsML.txt', 'JonathanBirt/165827newsML.txt', 'JonathanBirt/174287newsML.txt', 'SimonCowell/450839newsML.txt', 'AlexanderSmith/16167newsML.txt', 'WilliamKazer/113097newsML.txt', 'AlanCrosby/142624newsML.txt', 'KouroshKarimkhany/285535newsML.txt', 'DarrenSchuettler/233587newsML.txt', 'JonathanBirt/27668newsML.txt', 'JoeOrtiz/223783newsML.txt', 'RobinSidel/110827newsML.txt', 'RobinSidel/110986newsML.txt', 'MarkBendeich/30673newsML.txt', 'JonathanBirt/26877newsML.txt', 'KevinMorrison/109875newsML.txt', 'SamuelPerry/196870newsML.txt', 'HeatherScoffield/295589newsML.txt', 'JonathanBirt/300439newsML.txt', 'WilliamKazer/148885newsML.txt', 'BradDorfman/24388newsML.txt', 'SimonCowell/347888newsML.txt', 'TheresePoletti/181674newsML.txt', 'TimFarrand/201017newsML.txt', 'KirstinRidley/314384newsML.txt', 'GrahamEarnshaw/265664newsML.txt', 'TheresePoletti/283077newsML.txt', 'MureDickie/117025newsML.txt', 'MartinWolk/127151newsML.txt', 'MarcelMichelson/217650newsML.txt', 'TimFarrand/10265newsML.txt', 'TimFarrand/149844newsML.txt', 'KeithWeir/223176newsML.txt', 'ScottHillis/140273newsML.txt', 'AlanCrosby/196144newsML.txt', 'MichaelConnor/353261newsML.txt', 'JoeOrtiz/189829newsML.txt', 'WilliamKazer/247829newsML.txt', 'SimonCowell/312858newsML.txt', \"LynneO'Donnell/111855newsML.txt\", 'ScottHillis/254803newsML.txt', 'GrahamEarnshaw/232804newsML.txt', 'ScottHillis/194787newsML.txt', 'WilliamKazer/281216newsML.txt', 'KevinMorrison/15226newsML.txt', 'SimonCowell/303707newsML.txt', 'SamuelPerry/196664newsML.txt', 'BernardHickey/148778newsML.txt', 'NickLouth/120416newsML.txt', 'KevinDrawbaugh/284178newsML.txt', 'KirstinRidley/297203newsML.txt', 'MatthewBunce/263657newsML.txt', 'TimFarrand/160644newsML.txt', 'JoWinterbottom/200668newsML.txt', 'BernardHickey/176080newsML.txt', 'KevinMorrison/176105newsML.txt', 'KeithWeir/202015newsML.txt', 'MarkBendeich/155007newsML.txt', 'SamuelPerry/137812newsML.txt', 'JohnMastrini/156054newsML.txt', 'KevinDrawbaugh/16057newsML.txt', 'EricAuchard/100385newsML.txt', 'KeithWeir/259522newsML.txt', 'AlexanderSmith/109096newsML.txt', 'DarrenSchuettler/358675newsML.txt', 'RogerFillion/218296newsML.txt', 'PatriciaCommins/270137newsML.txt', 'JoWinterbottom/203923newsML.txt', 'WilliamKazer/257526newsML.txt', 'MarkBendeich/294969newsML.txt', 'BernardHickey/151764newsML.txt', 'SarahDavison/196732newsML.txt', 'WilliamKazer/222819newsML.txt', 'MarcelMichelson/210745newsML.txt', 'KeithWeir/21070newsML.txt', 'BradDorfman/344162newsML.txt', 'WilliamKazer/247720newsML.txt', 'LynnleyBrowning/163468newsML.txt', \"LynneO'Donnell/116963newsML.txt\", 'EdnaFernandes/223214newsML.txt', 'KevinDrawbaugh/10771newsML.txt', 'ToddNissen/217896newsML.txt', 'AlexanderSmith/144367newsML.txt', 'BenjaminKangLim/192394newsML.txt', 'SarahDavison/405565newsML.txt', 'JoWinterbottom/190268newsML.txt', 'HeatherScoffield/258231newsML.txt', 'FumikoFujisaki/155075newsML.txt', 'MureDickie/209826newsML.txt', 'RobinSidel/243641newsML.txt', 'SarahDavison/148891newsML.txt', 'MarcelMichelson/174150newsML.txt', 'JohnMastrini/192116newsML.txt', 'DarrenSchuettler/237697newsML.txt', 'LynnleyBrowning/102195newsML.txt', 'SarahDavison/190734newsML.txt', 'DarrenSchuettler/236470newsML.txt', 'RobinSidel/153574newsML.txt', 'KirstinRidley/27422newsML.txt', 'SimonCowell/390568newsML.txt', 'HeatherScoffield/191069newsML.txt', 'HeatherScoffield/195125newsML.txt', 'JanLopatka/226489newsML.txt', 'JohnMastrini/195069newsML.txt', \"LynneO'Donnell/238772newsML.txt\", 'EdnaFernandes/119734newsML.txt', 'AaronPressman/398094newsML.txt', 'DavidLawder/148055newsML.txt', 'DavidLawder/148624newsML.txt', 'BenjaminKangLim/155439newsML.txt', 'KirstinRidley/371805newsML.txt', 'ToddNissen/245562newsML.txt', 'SimonCowell/448236newsML.txt', 'DavidLawder/150717newsML.txt', 'JanLopatka/224921newsML.txt', 'ScottHillis/165123newsML.txt', 'TanEeLyn/250726newsML.txt', 'KarlPenhaul/314740newsML.txt', 'MatthewBunce/356601newsML.txt', 'JoWinterbottom/203926newsML.txt', 'KarlPenhaul/281959newsML.txt', 'DarrenSchuettler/128985newsML.txt', 'SimonCowell/442065newsML.txt', 'RobinSidel/156766newsML.txt', 'EdnaFernandes/179688newsML.txt', 'KevinDrawbaugh/178086newsML.txt', 'HeatherScoffield/233588newsML.txt', 'PatriciaCommins/178068newsML.txt', 'KouroshKarimkhany/120392newsML.txt', 'EdnaFernandes/178869newsML.txt', 'SarahDavison/383224newsML.txt', 'JonathanBirt/200640newsML.txt', 'FumikoFujisaki/34837newsML.txt', 'WilliamKazer/165109newsML.txt', 'MichaelConnor/307864newsML.txt', 'MureDickie/105255newsML.txt', 'SamuelPerry/309801newsML.txt', 'SimonCowell/447824newsML.txt', 'AlexanderSmith/302382newsML.txt', 'SarahDavison/317706newsML.txt', 'JoWinterbottom/197541newsML.txt', 'TanEeLyn/250732newsML.txt', 'RobinSidel/129289newsML.txt', 'KevinDrawbaugh/317846newsML.txt', 'JonathanBirt/164502newsML.txt', 'RogerFillion/32727newsML.txt', 'RogerFillion/360479newsML.txt', 'TimFarrand/15631newsML.txt', 'MichaelConnor/124763newsML.txt', 'SamuelPerry/151392newsML.txt', 'MartinWolk/130607newsML.txt', 'MatthewBunce/248714newsML.txt', 'LynnleyBrowning/153131newsML.txt', 'TheresePoletti/189987newsML.txt', 'RogerFillion/237323newsML.txt', 'KirstinRidley/157761newsML.txt', 'AlexanderSmith/179671newsML.txt', 'AlexanderSmith/188417newsML.txt', 'BenjaminKangLim/189031newsML.txt', 'JoWinterbottom/195814newsML.txt', 'ToddNissen/217362newsML.txt', 'MarkBendeich/27264newsML.txt', 'JoWinterbottom/148227newsML.txt', 'MarkBendeich/271058newsML.txt', 'KevinMorrison/221499newsML.txt', 'FumikoFujisaki/402531newsML.txt', 'KouroshKarimkhany/121032newsML.txt', 'SimonCowell/400494newsML.txt', 'SimonCowell/405124newsML.txt', \"LynneO'Donnell/180191newsML.txt\", 'AaronPressman/330967newsML.txt', 'JoWinterbottom/191718newsML.txt', 'KevinMorrison/198071newsML.txt', 'KouroshKarimkhany/287103newsML.txt', 'LynnleyBrowning/27013newsML.txt', \"LynneO'Donnell/2439newsML.txt\", 'PierreTran/319304newsML.txt', 'LynnleyBrowning/263781newsML.txt', 'KevinMorrison/184096newsML.txt', 'PeterHumphrey/271287newsML.txt', 'JoWinterbottom/126147newsML.txt', 'MichaelConnor/305809newsML.txt', 'LynnleyBrowning/324280newsML.txt', 'SamuelPerry/207693newsML.txt', 'PatriciaCommins/255733newsML.txt', 'KarlPenhaul/311686newsML.txt', 'KevinMorrison/184150newsML.txt', 'KouroshKarimkhany/124768newsML.txt', 'BradDorfman/343945newsML.txt', 'SimonCowell/424503newsML.txt', 'SimonCowell/405057newsML.txt', 'KirstinRidley/254351newsML.txt', 'KeithWeir/161753newsML.txt', 'KeithWeir/163109newsML.txt', 'KevinDrawbaugh/311940newsML.txt', 'DarrenSchuettler/34117newsML.txt', 'TheresePoletti/27551newsML.txt', 'MatthewBunce/107670newsML.txt', 'JaneMacartney/279477newsML.txt', 'FumikoFujisaki/330736newsML.txt', 'KeithWeir/162021newsML.txt', 'AlexanderSmith/18111newsML.txt', 'KirstinRidley/294355newsML.txt', 'MureDickie/166433newsML.txt', 'RobinSidel/216335newsML.txt', 'RogerFillion/217899newsML.txt', 'KevinMorrison/184143newsML.txt', 'TanEeLyn/123487newsML.txt', 'AlexanderSmith/18227newsML.txt', 'SimonCowell/255730newsML.txt', 'HeatherScoffield/266003newsML.txt', 'HeatherScoffield/266002newsML.txt', 'PeterHumphrey/190619newsML.txt', 'DarrenSchuettler/213721newsML.txt', 'RogerFillion/146861newsML.txt', 'EricAuchard/13583newsML.txt', 'FumikoFujisaki/247828newsML.txt', 'MureDickie/156653newsML.txt', 'HeatherScoffield/216816newsML.txt', 'RogerFillion/217357newsML.txt', 'PeterHumphrey/235690newsML.txt', \"LynneO'Donnell/159976newsML.txt\", 'MarcelMichelson/121701newsML.txt', 'DavidLawder/170305newsML.txt', 'MarkBendeich/30686newsML.txt', 'KevinDrawbaugh/270070newsML.txt', 'FumikoFujisaki/140372newsML.txt', 'FumikoFujisaki/142460newsML.txt', 'JaneMacartney/150364newsML.txt', 'KarlPenhaul/156602newsML.txt', 'LynnleyBrowning/269345newsML.txt', 'LynnleyBrowning/298904newsML.txt', 'JaneMacartney/125313newsML.txt', 'SamuelPerry/189155newsML.txt', 'HeatherScoffield/233579newsML.txt', 'AlexanderSmith/220666newsML.txt', 'AlexanderSmith/219512newsML.txt', 'KevinMorrison/109876newsML.txt', 'PeterHumphrey/238764newsML.txt', 'MartinWolk/315688newsML.txt', 'SarahDavison/387956newsML.txt', 'DarrenSchuettler/377885newsML.txt', \"LynneO'Donnell/110718newsML.txt\", 'BradDorfman/209880newsML.txt', 'AlexanderSmith/224655newsML.txt', 'MatthewBunce/153002newsML.txt', 'LynnleyBrowning/166214newsML.txt', 'EdnaFernandes/199226newsML.txt', 'MarcelMichelson/158085newsML.txt', 'PierreTran/135536newsML.txt', 'KevinMorrison/223897newsML.txt', 'MichaelConnor/184787newsML.txt', 'DavidLawder/156823newsML.txt', 'JoeOrtiz/100554newsML.txt', 'JoeOrtiz/364594newsML.txt', 'RogerFillion/215313newsML.txt', 'RogerFillion/214814newsML.txt', \"LynneO'Donnell/112106newsML.txt\", 'KevinDrawbaugh/243558newsML.txt', 'TheresePoletti/146012newsML.txt', 'WilliamKazer/239878newsML.txt', 'MureDickie/159960newsML.txt', 'TheresePoletti/246358newsML.txt', 'SarahDavison/429225newsML.txt', 'ToddNissen/261367newsML.txt', 'EdnaFernandes/10264newsML.txt', 'KirstinRidley/189900newsML.txt', 'BradDorfman/200749newsML.txt', 'PeterHumphrey/195348newsML.txt', 'JaneMacartney/121957newsML.txt', 'MichaelConnor/186990newsML.txt', 'FumikoFujisaki/103993newsML.txt', 'KevinDrawbaugh/137042newsML.txt', 'PierreTran/303195newsML.txt', 'SamuelPerry/199947newsML.txt', 'GrahamEarnshaw/190410newsML.txt', 'FumikoFujisaki/383379newsML.txt', 'PeterHumphrey/184622newsML.txt', 'RogerFillion/215305newsML.txt', 'PeterHumphrey/250825newsML.txt', 'KevinMorrison/115436newsML.txt', 'TheresePoletti/242590newsML.txt', 'NickLouth/137486newsML.txt', 'MatthewBunce/362649newsML.txt', 'KirstinRidley/187985newsML.txt', 'JoWinterbottom/144390newsML.txt', 'KirstinRidley/188419newsML.txt', 'KeithWeir/161738newsML.txt', 'DavidLawder/148215newsML.txt', 'EricAuchard/12877newsML.txt', 'EricAuchard/13068newsML.txt', 'JoWinterbottom/159560newsML.txt', 'KirstinRidley/156083newsML.txt', 'TheresePoletti/179117newsML.txt', 'BradDorfman/226801newsML.txt', 'DavidLawder/162531newsML.txt', 'TimFarrand/167803newsML.txt', 'MichaelConnor/120404newsML.txt', 'HeatherScoffield/238607newsML.txt', 'PierreTran/134012newsML.txt', 'JimGilchrist/133504newsML.txt', 'SamuelPerry/142698newsML.txt', 'SamuelPerry/144030newsML.txt', 'PierreTran/134014newsML.txt', 'PierreTran/286787newsML.txt', 'HeatherScoffield/163214newsML.txt', 'EricAuchard/139624newsML.txt', 'EdnaFernandes/199220newsML.txt', 'TanEeLyn/163670newsML.txt', 'SamuelPerry/206811newsML.txt', 'KevinDrawbaugh/283914newsML.txt', 'PeterHumphrey/271684newsML.txt', 'DavidLawder/162152newsML.txt', 'TimFarrand/238095newsML.txt', 'EricAuchard/205742newsML.txt', 'NickLouth/13391newsML.txt', 'HeatherScoffield/219630newsML.txt', 'DavidLawder/164658newsML.txt', 'HeatherScoffield/230639newsML.txt', 'KouroshKarimkhany/290979newsML.txt', 'TheresePoletti/120387newsML.txt', 'EricAuchard/292697newsML.txt', 'BradDorfman/156808newsML.txt', 'TanEeLyn/336357newsML.txt', 'JohnMastrini/18320newsML.txt', 'JohnMastrini/18519newsML.txt', 'JaneMacartney/109736newsML.txt', 'JaneMacartney/101337newsML.txt', 'DarrenSchuettler/348501newsML.txt', 'GrahamEarnshaw/277010newsML.txt']\n"
     ]
    }
   ],
   "source": [
    "\n",
    "print(\"résultats avec matrice TFIDF : \\n\", researchTFIDF)"
   ]
  },
  {
   "cell_type": "markdown",
   "metadata": {},
   "source": [
    "On remarque que les articles en sortie sont différents selon la méthode. Le premier article avec le nombre d'occurence n'est pas forcément la même qu'avec la fréquence ou la métrique TF-IDF.\n",
    "\n",
    "Par exemple, pour la phrase choisie, l'article \"AlanCrosby/135777newsML.txt\" est en 2e position pour TFIDF. Pour la fréquence, l'article est 4e. Et pour le nombre d'occurences, l'article est en 11e. et 17e pour Bag of Word"
   ]
  },
  {
   "cell_type": "markdown",
   "metadata": {},
   "source": [
    "Affichage recherche matrice"
   ]
  },
  {
   "cell_type": "code",
   "execution_count": 222,
   "metadata": {
    "collapsed": true
   },
   "outputs": [],
   "source": [
    "def PrintResearchMatrice(index):\n",
    "    cont=\"oui\"\n",
    "    wordUse=[]\n",
    "    while(cont==\"oui\"):\n",
    "        phrasePrint=input(\"Indiquez la phrase que vous souhaitez rechercher : \")\n",
    "        print(\"\\n\")\n",
    "        metriquePrint=input(\"Indiquez la matrice que vous souhaitez utiliser ('BOW', 'nbOcc', 'frq', 'TFIDF': \")\n",
    "        print(\"\\n\")\n",
    "        matriceUse=createMat(monIndexMap,metriquePrint)\n",
    "        listDoc=findWithMatrice(index,matriceUse, phrasePrint)\n",
    "        print(\"nombre de documents = %d \\n\" %len(listDoc))\n",
    "        if len(listDoc)>0:\n",
    "            print(\"Voici les 10 premiers éléments : \\n \", set(itertools.islice(listDoc,10)))\n",
    "        cont=input(\"Souhaitez vous rechercher une autre phrase ? (oui/non) \\n\").lower()\n",
    "    print(\"Fin de recherche en phrase\")"
   ]
  },
  {
   "cell_type": "code",
   "execution_count": 223,
   "metadata": {
    "scrolled": true
   },
   "outputs": [
    {
     "name": "stdout",
     "output_type": "stream",
     "text": [
      "Indiquez la phrase que vous souhaitez rechercher : The MercHaNdise Coucou Trade DEficit\n",
      "\n",
      "\n",
      "Indiquez la matrice que vous souhaitez utiliser ('BOW', 'nbOcc', 'frq', 'TFIDF': BOW\n",
      "\n",
      "\n",
      "nombre de documents = 886 \n",
      "\n",
      "Voici les 10 premiers éléments : \n",
      "  {'SarahDavison/386644newsML.txt', 'SarahDavison/365768newsML.txt', 'JohnMastrini/18529newsML.txt', 'JohnMastrini/159754newsML.txt', 'JohnMastrini/13806newsML.txt', 'JohnMastrini/123158newsML.txt', 'AaronPressman/156814newsML.txt', 'JohnMastrini/18297newsML.txt', 'JonathanBirt/327653newsML.txt', 'SarahDavison/213002newsML.txt'}\n",
      "Souhaitez vous rechercher une autre phrase ? (oui/non) \n",
      "non\n",
      "Fin de recherche en phrase\n"
     ]
    }
   ],
   "source": [
    "PrintResearchMatrice(monIndexMap)"
   ]
  },
  {
   "cell_type": "markdown",
   "metadata": {},
   "source": [
    "# Piste d'amélioration : Lemmatization\n",
    "Utiliser la lemmatization pour pallier aux problèmes de stemming (verbe, gestion des pays)\n",
    "\n",
    "BUT : créer un nouvel index, et réadapter toutes les méthodes, puis comparer les sorties avec l'index Stemming"
   ]
  },
  {
   "cell_type": "markdown",
   "metadata": {},
   "source": [
    "Les imports nécessaires pour la lemmatization"
   ]
  },
  {
   "cell_type": "code",
   "execution_count": 229,
   "metadata": {
    "scrolled": true
   },
   "outputs": [
    {
     "name": "stdout",
     "output_type": "stream",
     "text": [
      "[nltk_data] Downloading package punkt to /root/nltk_data...\n",
      "[nltk_data]   Package punkt is already up-to-date!\n",
      "[nltk_data] Downloading package averaged_perceptron_tagger to\n",
      "[nltk_data]     /root/nltk_data...\n",
      "[nltk_data]   Package averaged_perceptron_tagger is already up-to-\n",
      "[nltk_data]       date!\n"
     ]
    }
   ],
   "source": [
    "import nltk\n",
    "nltk.download('punkt')\n",
    "nltk.download('averaged_perceptron_tagger')\n",
    "from nltk import pos_tag\n",
    "from nltk.tokenize import word_tokenize"
   ]
  },
  {
   "cell_type": "markdown",
   "metadata": {},
   "source": [
    "Exemple d'utilisation de la lemmatization"
   ]
  },
  {
   "cell_type": "code",
   "execution_count": 226,
   "metadata": {},
   "outputs": [
    {
     "name": "stdout",
     "output_type": "stream",
     "text": [
      "[('student', 'NN'), ('studying', 'VBG'), ('exams', 'NNS'), ('consciously', 'RB')]\n"
     ]
    }
   ],
   "source": [
    "exPhrase=\"The student is studying for his exams very consciously \"\n",
    "text = re.findall(r'[a-z]+', exPhrase.lower()) ##NORMALISATION\n",
    "text = [word for word in text if word not in stop] #STOPWORDS\n",
    "s=' '.join(text) #transformation d'une liste en phrase\n",
    "tokens = word_tokenize(s) # generer les tokens\n",
    "\n",
    "tokens_pos = pos_tag(tokens)  #generer les positions des tokens\n",
    "\n",
    "print(tokens_pos)\n"
   ]
  },
  {
   "cell_type": "markdown",
   "metadata": {},
   "source": [
    "Dictionnaire qui modifie les valeurs des pos_tag"
   ]
  },
  {
   "cell_type": "code",
   "execution_count": 227,
   "metadata": {
    "collapsed": true
   },
   "outputs": [],
   "source": [
    "dicPos= {'JJ': wn.ADJ,'JJR': wn.ADJ,'JJS': wn.ADJ,'RB':wn.ADV,'RBR': wn.ADV,'RBS': wn.ADV,'NN': wn.NOUN,'NNP': wn.NOUN,\n",
    "    'NNS': wn.NOUN,'NNPS': wn.NOUN,'VB': wn.VERB,'VBG':  wn.VERB,'VBD':  wn.VERB, 'VBN':  wn.VERB,'VBP':  wn.VERB,'VBZ':  wn.VERB\n",
    "}"
   ]
  },
  {
   "cell_type": "markdown",
   "metadata": {},
   "source": [
    "lemmatization sur la phrase"
   ]
  },
  {
   "cell_type": "code",
   "execution_count": 228,
   "metadata": {},
   "outputs": [
    {
     "name": "stdout",
     "output_type": "stream",
     "text": [
      "Lemmatise : student\n",
      "Lemmatise : study\n",
      "Lemmatise : exam\n",
      "Lemmatise : consciously\n"
     ]
    }
   ],
   "source": [
    "for word in tokens_pos:\n",
    "    print(\"Lemmatise : %s\" % (wnl.lemmatize(word[0], pos=dicPos[word[1]])))"
   ]
  },
  {
   "cell_type": "markdown",
   "metadata": {},
   "source": [
    "Différence avec le stemming"
   ]
  },
  {
   "cell_type": "code",
   "execution_count": 193,
   "metadata": {},
   "outputs": [
    {
     "name": "stdout",
     "output_type": "stream",
     "text": [
      "Stemming: student\n",
      "Stemming: studi\n",
      "Stemming: exam\n",
      "Stemming: conscious\n"
     ]
    }
   ],
   "source": [
    "for word in tokens:\n",
    "    print(\"Stemming: %s\" % (ps.stem(word)))"
   ]
  },
  {
   "cell_type": "markdown",
   "metadata": {},
   "source": [
    "## Indexation avec Lemmatization"
   ]
  },
  {
   "cell_type": "code",
   "execution_count": 194,
   "metadata": {
    "collapsed": true
   },
   "outputs": [],
   "source": [
    "def mapIndexLem(article):\n",
    "    text = re.findall(r'[a-z]+', article[\"texte\"].lower())\n",
    "    text = [word for word in text if word not in stop]\n",
    "    ####LEMMATIZATION\n",
    "    s=' '.join(text) #transformation d'une liste en phrase\n",
    "    tokens = word_tokenize(s) # generer les tokens\n",
    "    tokens_pos = pos_tag(tokens)  #generer les positions des tokens\n",
    "    text = [wnl.lemmatize(word[0], pos=dicPos[word[1]]) for word in tokens_pos if(word[1] in dicPos)]\n",
    "    size = len(text) #taille du texte\n",
    "\n",
    "\n",
    "    indexRes = {} #initialisation index de sortie (dictionnaire)\n",
    "    #parcourir chaque mot du texte i\n",
    "    for i in range(0, len(text)) :\n",
    "        word=text[i]\n",
    "        #si le mot n'est pas déjà présent dans l'index\n",
    "        if (word not in indexRes.keys()) :\n",
    "            indexRes[word]={} ## creation du dictionnaire\n",
    "            indexRes[word][article[\"titre\"]]={} ##creation du second dictionnaire avec pour clé le titre (auteur/article)\n",
    "            indexRes[word][article[\"titre\"]][\"pos\"]=[]# initialisation de la valeur position\n",
    "            indexRes[word][article[\"titre\"]][\"nbMots\"]=size #indique le nbMots dans le texte\n",
    "            indexRes[word][article[\"titre\"]][\"idArticle\"]=article[\"id\"]\n",
    "        indexRes[word][article[\"titre\"]][\"pos\"].append(i) #ajoute la nouvelle position\n",
    "    \n",
    "    #boucle pour pour valoriser l'occurence du mot\n",
    "    for word in indexRes.keys():\n",
    "        indexRes[word][article[\"titre\"]][\"occ\"]=len( indexRes[word][article[\"titre\"]][\"pos\"])\n",
    "    return indexRes"
   ]
  },
  {
   "cell_type": "code",
   "execution_count": 195,
   "metadata": {
    "collapsed": true
   },
   "outputs": [],
   "source": [
    " def createIndexMapRedLem():\n",
    "    listText=createCorpusBis() #creation du corpus (liste de dictionnaire)\n",
    "    with Pool() as pool:\n",
    "        #Map\n",
    "        dMap = time()\n",
    "        listIndex=pool.map(mapIndexLem,listText) #appel fonction map sur listText\n",
    "        fMap = time()\n",
    "        print('temps d\\'execution du Map : ', fMap-dMap)\n",
    "        \n",
    "        #Reduce\n",
    "        dRed = time()\n",
    "        indexRes=reduce(reduceIndex,listIndex) #reduce sur listIndex en sortie du map\n",
    "        fRed = time()\n",
    "        print('temps d\\'execution du Reduce : ', fRed-dRed)\n",
    "    return indexRes"
   ]
  },
  {
   "cell_type": "code",
   "execution_count": 196,
   "metadata": {},
   "outputs": [
    {
     "name": "stdout",
     "output_type": "stream",
     "text": [
      "temps d'execution du Map :  17.90281367301941\n",
      "temps d'execution du Reduce :  0.4356975555419922\n",
      "temps d'execution total de createIndexMapReduceLem 19.15755295753479\n"
     ]
    }
   ],
   "source": [
    "d = time()\n",
    "monIndexMapLem=createIndexMapRedLem()\n",
    "f = time()\n",
    "print('temps d\\'execution total de createIndexMapReduceLem', f-d)"
   ]
  },
  {
   "cell_type": "code",
   "execution_count": 168,
   "metadata": {},
   "outputs": [
    {
     "name": "stdout",
     "output_type": "stream",
     "text": [
      "Nombre de mots différents dans l'index avec stemming :  18456\n",
      "Nombre de mots différents dans l'index avec lemmatization :  22583\n",
      "Nombre de mots différents dans l'index :  27361\n"
     ]
    }
   ],
   "source": [
    "print(\"Nombre de mots différents dans l'index avec stemming : \", len(monIndexMap))\n",
    "print(\"Nombre de mots différents dans l'index avec lemmatization : \", len(monIndexMapLem))\n",
    "print(\"Nombre de mots différents dans l'index : \", len(monIndex))\n"
   ]
  },
  {
   "cell_type": "code",
   "execution_count": 170,
   "metadata": {
    "scrolled": true
   },
   "outputs": [
    {
     "data": {
      "text/plain": [
       "{'AaronPressman/156814newsML.txt': {'idArticle': 305,\n",
       "  'nbMots': 341,\n",
       "  'occ': 1,\n",
       "  'pos': [50]},\n",
       " 'BradDorfman/199931newsML.txt': {'idArticle': 1207,\n",
       "  'nbMots': 321,\n",
       "  'occ': 1,\n",
       "  'pos': [34]},\n",
       " 'BradDorfman/276360newsML.txt': {'idArticle': 1217,\n",
       "  'nbMots': 405,\n",
       "  'occ': 1,\n",
       "  'pos': [208]},\n",
       " 'BradDorfman/331819newsML.txt': {'idArticle': 1214,\n",
       "  'nbMots': 290,\n",
       "  'occ': 1,\n",
       "  'pos': [187]},\n",
       " 'BradDorfman/346831newsML.txt': {'idArticle': 1222,\n",
       "  'nbMots': 273,\n",
       "  'occ': 1,\n",
       "  'pos': [64]},\n",
       " 'KeithWeir/275481newsML.txt': {'idArticle': 1639,\n",
       "  'nbMots': 500,\n",
       "  'occ': 1,\n",
       "  'pos': [103]},\n",
       " 'MichaelConnor/372558newsML.txt': {'idArticle': 1144,\n",
       "  'nbMots': 333,\n",
       "  'occ': 1,\n",
       "  'pos': [188]},\n",
       " 'RobinSidel/113551newsML.txt': {'idArticle': 1743,\n",
       "  'nbMots': 281,\n",
       "  'occ': 3,\n",
       "  'pos': [141, 202, 209]},\n",
       " 'RobinSidel/219316newsML.txt': {'idArticle': 1701,\n",
       "  'nbMots': 210,\n",
       "  'occ': 1,\n",
       "  'pos': [188]},\n",
       " 'RobinSidel/220676newsML.txt': {'idArticle': 1736,\n",
       "  'nbMots': 211,\n",
       "  'occ': 1,\n",
       "  'pos': [189]}}"
      ]
     },
     "execution_count": 170,
     "metadata": {},
     "output_type": "execute_result"
    }
   ],
   "source": [
    "dict(itertools.islice(monIndexMapLem[\"merchandise\"].items(), 10))"
   ]
  },
  {
   "cell_type": "code",
   "execution_count": 225,
   "metadata": {
    "scrolled": false
   },
   "outputs": [
    {
     "data": {
      "text/plain": [
       "{'PatriciaCommins/143591newsML.txt': {'idArticle': 536,\n",
       "  'nbMots': 321,\n",
       "  'occ': 1,\n",
       "  'pos': [188]},\n",
       " 'RobinSidel/113551newsML.txt': {'idArticle': 1743,\n",
       "  'nbMots': 281,\n",
       "  'occ': 1,\n",
       "  'pos': [187]}}"
      ]
     },
     "execution_count": 225,
     "metadata": {},
     "output_type": "execute_result"
    }
   ],
   "source": [
    "dict(itertools.islice(monIndexMapLem[\"merchandiser\"].items(), 10))"
   ]
  },
  {
   "cell_type": "markdown",
   "metadata": {},
   "source": [
    "### Adapter les méthodes de requetes et de ranking"
   ]
  },
  {
   "cell_type": "markdown",
   "metadata": {},
   "source": [
    "# DEMONSTRATION"
   ]
  },
  {
   "cell_type": "markdown",
   "metadata": {},
   "source": [
    "Recheche à un mot : "
   ]
  },
  {
   "cell_type": "code",
   "execution_count": null,
   "metadata": {
    "collapsed": true
   },
   "outputs": [],
   "source": [
    "PrintResearch1(monIndexMap)"
   ]
  },
  {
   "cell_type": "markdown",
   "metadata": {},
   "source": [
    "Recheche d'un texte libre : \n",
    "- MercHANdisers traDer"
   ]
  },
  {
   "cell_type": "code",
   "execution_count": null,
   "metadata": {
    "collapsed": true
   },
   "outputs": [],
   "source": [
    "PrintResearch(monIndexMap)"
   ]
  },
  {
   "cell_type": "markdown",
   "metadata": {},
   "source": [
    "Recheche d'une phrase :\n",
    "- The MercHaNdise Trade DEficit\n",
    "- Lloyd's of London Reconstruction and Renewal plan\n",
    "- day\n"
   ]
  },
  {
   "cell_type": "code",
   "execution_count": null,
   "metadata": {
    "collapsed": true
   },
   "outputs": [],
   "source": [
    "PrintResearchSeq(monIndexMap)"
   ]
  },
  {
   "cell_type": "markdown",
   "metadata": {},
   "source": [
    "## Avec les matrices"
   ]
  },
  {
   "cell_type": "code",
   "execution_count": null,
   "metadata": {
    "collapsed": true
   },
   "outputs": [],
   "source": [
    "PrintResearchMatrice(monIndexMap)"
   ]
  }
 ],
 "metadata": {
  "kernelspec": {
   "display_name": "Python 3",
   "language": "python",
   "name": "python3"
  },
  "language_info": {
   "codemirror_mode": {
    "name": "ipython",
    "version": 3
   },
   "file_extension": ".py",
   "mimetype": "text/x-python",
   "name": "python",
   "nbconvert_exporter": "python",
   "pygments_lexer": "ipython3",
   "version": "3.6.5"
  }
 },
 "nbformat": 4,
 "nbformat_minor": 2
}
